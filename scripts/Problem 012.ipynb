{
 "cells": [
  {
   "cell_type": "markdown",
   "metadata": {
    "application/vnd.databricks.v1+cell": {
     "cellMetadata": {
      "byteLimit": 2048000,
      "rowLimit": 10000
     },
     "inputWidgets": {},
     "nuid": "ae6b92f8-e287-40f4-b450-c0d716964380",
     "showTitle": false,
     "title": ""
    }
   },
   "source": [
    "\n",
    "### Problems\n",
    "\n",
    "In this problem set, we focus on problems related to strings.\n",
    "\n",
    "   1. Given a long string `s`, count the frequency of the substring `sub`.\n",
    "   2. Find the location (start, end) of a particular word in a long string. List all locations, a word can show up more than once. Put these indices in a list of tuples.\n",
    "   3. Given a list of strings, and a particular substring, extract list of indices of the strings in which that substring occurs. For example, if we have a list [\"Gfg is good\", \"for Geeks\", \"I love Gfg\", \"Gfg is useful\"], and the substring we are searching for is \"Gfg\", the result should be [0, 2, 3]."
   ]
  },
  {
   "cell_type": "code",
   "execution_count": 0,
   "metadata": {
    "application/vnd.databricks.v1+cell": {
     "cellMetadata": {
      "byteLimit": 2048000,
      "rowLimit": 10000
     },
     "inputWidgets": {},
     "nuid": "e5123488-d876-4118-83db-8ba57de458e9",
     "showTitle": false,
     "title": ""
    }
   },
   "outputs": [],
   "source": [
    "import re"
   ]
  },
  {
   "cell_type": "markdown",
   "metadata": {
    "application/vnd.databricks.v1+cell": {
     "cellMetadata": {
      "byteLimit": 2048000,
      "rowLimit": 10000
     },
     "inputWidgets": {},
     "nuid": "ae0c0aab-f83d-4f05-8631-d8232ad49c9e",
     "showTitle": false,
     "title": ""
    }
   },
   "source": [
    "\n",
    "### Solutions\n",
    "\n",
    "For the first problem we need to check if the substring exists. If it does, then find the frequency:"
   ]
  },
  {
   "cell_type": "code",
   "execution_count": 0,
   "metadata": {
    "application/vnd.databricks.v1+cell": {
     "cellMetadata": {
      "byteLimit": 2048000,
      "rowLimit": 10000
     },
     "inputWidgets": {},
     "nuid": "2b6673f3-2130-464e-b8d5-731a450a08ad",
     "showTitle": false,
     "title": ""
    }
   },
   "outputs": [
    {
     "output_type": "stream",
     "name": "stdout",
     "output_type": "stream",
     "text": [
      "2\n0\n"
     ]
    }
   ],
   "source": [
    "s1 = \"I turned into a cat while I was in the Amazon jungle. After I got back from trip, I wrote an article about it telling everyone how I turned into a cat\"\n",
    "s2 = \"I went to the Amazon jungle\"\n",
    "\n",
    "sub = \"cat\"\n",
    "\n",
    "def count_substring(s, g):\n",
    "    if g in s: # if the substring g exists\n",
    "        return s.count(g)\n",
    "    else:\n",
    "        return 0\n",
    "        \n",
    "print(count_substring(s1, sub))\n",
    "print(count_substring(s2, sub))"
   ]
  },
  {
   "cell_type": "markdown",
   "metadata": {
    "application/vnd.databricks.v1+cell": {
     "cellMetadata": {
      "byteLimit": 2048000,
      "rowLimit": 10000
     },
     "inputWidgets": {},
     "nuid": "ed642fb5-e9bd-48e7-8f63-a2f3f96a8f75",
     "showTitle": false,
     "title": ""
    }
   },
   "source": [
    "\n",
    "For the second problem, we need to know how to identify indices of substrings. In Python, there are a few methods associated with strings when we want to find substrings:\n",
    "\n",
    "   - str.find(_sub_, _start_, _end_) returns the lowest index in the string where the substring _sub_ is found within the slice s[_start_:_end_]. It returns -1 if the _sub_ is not found;\n",
    "   - str.rfind(_sub_, _start_. _end_) is similar to str.find() except that it tries to find the last occurrence of the string.\n",
    "\n",
    "Another set of options is str.index(_sub_, _start_, _end_) and str.rindex(_sub_, _start_, _end_). However, the only difference is that str.find() method returns -1 if the substring is not found, whereas str.index() throws an exception.\n",
    "\n",
    "In addition, re.search(_regex_, _text_) method either returns None (if the pattern does not match), or a `re.MatchObject` object that contains information about the matching part of the string. This method stops after the first match, so this is best suited for testing a regular expression more than extracting data. In contrast, the re.findall(_regex_, _text_) method returns all non-overlapping matches of pattern in string, as a list of strings. The string is scanned left-to-right, and matches are returned in the order found. The re.finditer() works exactly the same as the re.findall() method except it returns an iterator yielding match objects matching the _regex_ pattern in a string instead of a list. It scans the string from left to right, and matches are returned in the iterator form. Later, we can use this iterator object to extract all matches. The finditer() is helpful because in some scenarios, the number of matches is high, and one could risk filling up the memory by loading them all using re.findall().\n",
    "\n",
    "Let's see some examples of these methods first before revealing the solution:"
   ]
  },
  {
   "cell_type": "code",
   "execution_count": 0,
   "metadata": {
    "application/vnd.databricks.v1+cell": {
     "cellMetadata": {
      "byteLimit": 2048000,
      "rowLimit": 10000
     },
     "inputWidgets": {},
     "nuid": "7cb9299a-3a64-4a40-af97-83525618a865",
     "showTitle": false,
     "title": ""
    }
   },
   "outputs": [
    {
     "output_type": "stream",
     "name": "stdout",
     "output_type": "stream",
     "text": [
      "26\n190\n26\n190\n<re.Match object; span=(26, 31), match='Liszt'>\n"
     ]
    }
   ],
   "source": [
    "s3 = \"The famous musician Franz Liszt created a phenomenon called Lisztomania characterized by intense levels of hysteria demonstrated by fans, akin to the treatment of celebrity musicians today. Liszt was a good friend of Chopin and he even helped Chopin write his piano concertos.\"\n",
    "sub = \"Liszt\"\n",
    "\n",
    "print(s3.find(sub))\n",
    "print(s3.rfind(sub))\n",
    "print(s3.index(sub))\n",
    "print(s3.rindex(sub))\n",
    "\n",
    "search_res = re.search(sub, s3)\n",
    "print(search_res)"
   ]
  },
  {
   "cell_type": "markdown",
   "metadata": {
    "application/vnd.databricks.v1+cell": {
     "cellMetadata": {
      "byteLimit": 2048000,
      "rowLimit": 10000
     },
     "inputWidgets": {},
     "nuid": "00682cd8-7dce-432d-8dbc-612c31578818",
     "showTitle": false,
     "title": ""
    }
   },
   "source": [
    "\n",
    "Now let's see the solution using re.finditer():"
   ]
  },
  {
   "cell_type": "code",
   "execution_count": 0,
   "metadata": {
    "application/vnd.databricks.v1+cell": {
     "cellMetadata": {
      "byteLimit": 2048000,
      "rowLimit": 10000
     },
     "inputWidgets": {},
     "nuid": "ce8951f1-d72e-4ec9-b9ca-f8057b933058",
     "showTitle": false,
     "title": ""
    }
   },
   "outputs": [
    {
     "output_type": "stream",
     "name": "stdout",
     "output_type": "stream",
     "text": [
      "[(26, 31), (60, 65), (190, 195)]\n"
     ]
    }
   ],
   "source": [
    "result=[]\n",
    "for match in re.finditer(sub, s3):\n",
    "    tup=(match.start(), match.end())\n",
    "    result.append(tup)\n",
    "print(result)"
   ]
  },
  {
   "cell_type": "markdown",
   "metadata": {
    "application/vnd.databricks.v1+cell": {
     "cellMetadata": {
      "byteLimit": 2048000,
      "rowLimit": 10000
     },
     "inputWidgets": {},
     "nuid": "8040b5c9-05f2-46bd-a13b-0ce2312e2276",
     "showTitle": false,
     "title": ""
    }
   },
   "source": [
    "\n",
    "For problem 3, the answer becomes easier due to the previous problem:"
   ]
  },
  {
   "cell_type": "code",
   "execution_count": 0,
   "metadata": {
    "application/vnd.databricks.v1+cell": {
     "cellMetadata": {
      "byteLimit": 2048000,
      "rowLimit": 10000
     },
     "inputWidgets": {},
     "nuid": "ff9b2263-554f-4250-80ed-326f05aaa4c0",
     "showTitle": false,
     "title": ""
    }
   },
   "outputs": [
    {
     "output_type": "stream",
     "name": "stdout",
     "output_type": "stream",
     "text": [
      "Out[5]: [0, 2, 3]"
     ]
    }
   ],
   "source": [
    "mylist=[\"Gfg is good\", \"for Geeks\", \"I love Gfg\", \"Gfg is useful\"]\n",
    "sub=\"Gfg\"\n",
    "\n",
    "result =[i for i in range(len(mylist)) if mylist[i].find(sub) != -1]\n",
    "result"
   ]
  }
 ],
 "metadata": {
  "application/vnd.databricks.v1+notebook": {
   "dashboards": [],
   "language": "python",
   "notebookMetadata": {
    "pythonIndentUnit": 4
   },
   "notebookName": "Problem 012",
   "widgets": {}
  }
 },
 "nbformat": 4,
 "nbformat_minor": 0
}
