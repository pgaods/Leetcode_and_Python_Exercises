{
 "cells": [
  {
   "cell_type": "markdown",
   "metadata": {
    "application/vnd.databricks.v1+cell": {
     "cellMetadata": {},
     "inputWidgets": {},
     "nuid": "f1c6d385-d276-4e37-8014-248d04f2bdf8",
     "showTitle": false,
     "title": ""
    }
   },
   "source": [
    "\n",
    "### Problem\n",
    "\n",
    "Given a string `s` containing just the characters '(', ')', '{', '}', '[' and ']', determine if the input string is valid. An input string is valid if:\n",
    "\n",
    "   - open brackets must be closed by the same type of brackets;\n",
    "   - open brackets must be closed in the correct order;\n",
    "   - every close bracket has a corresponding open bracket of the same type.\n",
    "\n",
    "Write a function with the input to be a string and output to be a Boolean (True, False, None). "
   ]
  },
  {
   "cell_type": "markdown",
   "metadata": {
    "application/vnd.databricks.v1+cell": {
     "cellMetadata": {},
     "inputWidgets": {},
     "nuid": "bfc8e747-39aa-4d43-a93a-42a5505cbd6e",
     "showTitle": false,
     "title": ""
    }
   },
   "source": [
    "\n",
    "### Solution\n",
    "\n",
    "This is a hard question. The idea is the following: we iteratively replace the bracket pairs in the string with an empty string. If after all replacements, the string becomes empty, then it's valid. Otherwise, it's not valid."
   ]
  },
  {
   "cell_type": "code",
   "execution_count": 0,
   "metadata": {
    "application/vnd.databricks.v1+cell": {
     "cellMetadata": {
      "byteLimit": 2048000,
      "rowLimit": 10000
     },
     "inputWidgets": {},
     "nuid": "98c8c12b-750a-41f4-90bb-185cd174c01b",
     "showTitle": false,
     "title": ""
    }
   },
   "outputs": [
    {
     "output_type": "stream",
     "name": "stdout",
     "output_type": "stream",
     "text": [
      "True\nTrue\nFalse\nFalse\nTrue\n"
     ]
    }
   ],
   "source": [
    "def isValid(s: str) -> bool:\n",
    "\n",
    "    while any(pair in s for pair in ['()', '{}', '[]']): # looping until no further replacements can be made\n",
    "        for pair in ['()', '{}', '[]']:\n",
    "            s = s.replace(pair, \"\")\n",
    "\n",
    "    return s == \"\" # if the string is empty, then it's valid\n",
    "\n",
    "print(isValid(\"()\"))        # True\n",
    "print(isValid(\"()[]{}\"))    # True\n",
    "print(isValid(\"(]\"))        # False\n",
    "print(isValid(\"([)]\"))      # False\n",
    "print(isValid(\"{[]}\"))      # True\n"
   ]
  }
 ],
 "metadata": {
  "application/vnd.databricks.v1+notebook": {
   "dashboards": [],
   "language": "python",
   "notebookMetadata": {
    "pythonIndentUnit": 4
   },
   "notebookName": "Problem 020",
   "widgets": {}
  }
 },
 "nbformat": 4,
 "nbformat_minor": 0
}
