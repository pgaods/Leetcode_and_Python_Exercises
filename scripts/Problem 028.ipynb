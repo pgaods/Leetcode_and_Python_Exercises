{
 "cells": [
  {
   "cell_type": "markdown",
   "metadata": {
    "application/vnd.databricks.v1+cell": {
     "cellMetadata": {
      "byteLimit": 2048000,
      "rowLimit": 10000
     },
     "inputWidgets": {},
     "nuid": "b38441e0-6a01-412f-a268-137e3b1bb56c",
     "showTitle": false,
     "title": ""
    }
   },
   "source": [
    "\n",
    "### Problems\n",
    "\n",
    "In this module we focus on the `datetime` library for manipulations of time in Python. \n",
    "\n",
    "   1. Use f-string, print the following sentence using the `datatime` module: \"It's 22:50:00 at night on 2006/08/21. This is a Monday\".\n",
    "   2. Print the current date using the format xxxx-xx-xx and the current time in an f-string. Print everything in centra time (CST).\n",
    "   3. Given two dates, find the time difference, with dt1=datetime.date(2006, 8, 21) and dt2=datetime.date(2023, 11, 12).\n",
    "   4. Use the `timeit` module, cmopare which methods run faster: s1=\"-\".join(str(n) for n in range(79)) and s2=\"-\".join(map(str, range(79))). To tell the difference of time, let it print many times. "
   ]
  },
  {
   "cell_type": "code",
   "execution_count": 0,
   "metadata": {
    "application/vnd.databricks.v1+cell": {
     "cellMetadata": {
      "byteLimit": 2048000,
      "rowLimit": 10000
     },
     "inputWidgets": {},
     "nuid": "88c47be2-ad35-4b6f-b605-fd1db662e42a",
     "showTitle": false,
     "title": ""
    }
   },
   "outputs": [],
   "source": [
    "import timeit, datetime\n",
    "import pytz # used to change time zone"
   ]
  },
  {
   "cell_type": "markdown",
   "metadata": {
    "application/vnd.databricks.v1+cell": {
     "cellMetadata": {
      "byteLimit": 2048000,
      "rowLimit": 10000
     },
     "inputWidgets": {},
     "nuid": "9aeab96c-eca6-48b8-88ee-b206bf728272",
     "showTitle": false,
     "title": ""
    }
   },
   "source": [
    "\n",
    "### Solutions\n",
    "\n",
    "The first problem requires basic datetime.time() and datetime.date() function. To print the weekday in English, use strftime(\"%A\")"
   ]
  },
  {
   "cell_type": "code",
   "execution_count": 0,
   "metadata": {
    "application/vnd.databricks.v1+cell": {
     "cellMetadata": {
      "byteLimit": 2048000,
      "rowLimit": 10000
     },
     "inputWidgets": {},
     "nuid": "d6dbe0fd-be2f-490d-a339-da25f92c3646",
     "showTitle": false,
     "title": ""
    }
   },
   "outputs": [
    {
     "output_type": "stream",
     "name": "stdout",
     "output_type": "stream",
     "text": [
      "22:50:00\n2006-08-21\nMonday\nIt is 22:50:00 at night on 2006-08-21. This is a Monday\n"
     ]
    }
   ],
   "source": [
    "t1 = datetime.time(22, 50, 0)\n",
    "print(t1)\n",
    "t2 = datetime.date(2006, 8, 21)\n",
    "print(t2)\n",
    "t3=t2.strftime(\"%A\") # %a will return \"Mon\"\n",
    "print(t3)\n",
    "\n",
    "print(f\"It is {t1} at night on {t2}. This is a {t3}\".format())"
   ]
  },
  {
   "cell_type": "markdown",
   "metadata": {
    "application/vnd.databricks.v1+cell": {
     "cellMetadata": {},
     "inputWidgets": {},
     "nuid": "8aa551a7-036a-458b-be77-3c34d2d01d5a",
     "showTitle": false,
     "title": ""
    }
   },
   "source": [
    "\n",
    "For the second question, we need to change the timezone first, because everything is in UTC:"
   ]
  },
  {
   "cell_type": "code",
   "execution_count": 0,
   "metadata": {
    "application/vnd.databricks.v1+cell": {
     "cellMetadata": {
      "byteLimit": 2048000,
      "rowLimit": 10000
     },
     "inputWidgets": {},
     "nuid": "32b3ef12-41ba-4bfb-9580-e5bf8ab96417",
     "showTitle": false,
     "title": ""
    }
   },
   "outputs": [
    {
     "output_type": "stream",
     "name": "stdout",
     "output_type": "stream",
     "text": [
      "2023-11-12 23:17:20.169924\n<class 'str'> 2023-11-12 17:17:20 CST-0600\nToday's date is 2023-11-12 17:17:20 \n"
     ]
    }
   ],
   "source": [
    "t4=datetime.datetime.today()\n",
    "print(t4)\n",
    "\n",
    "t4_CST = t4.astimezone(pytz.timezone('US/Central')).strftime('%Y-%m-%d %H:%M:%S %Z%z')\n",
    "print(type(t4_CST), t4_CST)\n",
    "\n",
    "t5 = t4_CST[:int(t4_CST.find(\"CST\"))]\n",
    "print(f\"Today's date is {t5}\".format())"
   ]
  },
  {
   "cell_type": "markdown",
   "metadata": {
    "application/vnd.databricks.v1+cell": {
     "cellMetadata": {
      "byteLimit": 2048000,
      "rowLimit": 10000
     },
     "inputWidgets": {},
     "nuid": "7b35c7c5-d0d7-4136-8e1e-6bf0c43c4570",
     "showTitle": false,
     "title": ""
    }
   },
   "source": [
    "\n",
    "Problem 3 and 4 are both straightforward:"
   ]
  },
  {
   "cell_type": "code",
   "execution_count": 0,
   "metadata": {
    "application/vnd.databricks.v1+cell": {
     "cellMetadata": {
      "byteLimit": 2048000,
      "rowLimit": 10000
     },
     "inputWidgets": {},
     "nuid": "a03abc8b-b05a-40e6-9998-1a9321d59f29",
     "showTitle": false,
     "title": ""
    }
   },
   "outputs": [
    {
     "output_type": "stream",
     "name": "stdout",
     "output_type": "stream",
     "text": [
      "6292 days, 0:00:00\n"
     ]
    }
   ],
   "source": [
    "dt1=datetime.date(2006, 8, 21)\n",
    "dt2=datetime.date(2023, 11, 12)\n",
    "delta =dt2-dt1\n",
    "print(delta)"
   ]
  },
  {
   "cell_type": "code",
   "execution_count": 0,
   "metadata": {
    "application/vnd.databricks.v1+cell": {
     "cellMetadata": {
      "byteLimit": 2048000,
      "rowLimit": 10000
     },
     "inputWidgets": {},
     "nuid": "4faa3c9f-4d25-4978-8231-4fd60347853a",
     "showTitle": false,
     "title": ""
    }
   },
   "outputs": [
    {
     "output_type": "stream",
     "name": "stdout",
     "output_type": "stream",
     "text": [
      "0.002419496000129584\n0.0023531420001745573\n"
     ]
    }
   ],
   "source": [
    "s1=\"-\".join(str(n) for n in range(79))\n",
    "s2=\"-\".join(map(str, range(79)))\n",
    "print(timeit.timeit(s1, number=300000))\n",
    "print(timeit.timeit(s2, number=300000))"
   ]
  }
 ],
 "metadata": {
  "application/vnd.databricks.v1+notebook": {
   "dashboards": [],
   "language": "python",
   "notebookMetadata": {
    "pythonIndentUnit": 4
   },
   "notebookName": "Problem 028",
   "widgets": {}
  }
 },
 "nbformat": 4,
 "nbformat_minor": 0
}
