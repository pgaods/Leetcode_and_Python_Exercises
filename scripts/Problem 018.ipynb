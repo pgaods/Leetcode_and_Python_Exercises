{
 "cells": [
  {
   "cell_type": "markdown",
   "metadata": {
    "application/vnd.databricks.v1+cell": {
     "cellMetadata": {
      "byteLimit": 2048000,
      "rowLimit": 10000
     },
     "inputWidgets": {},
     "nuid": "0c85df4a-490b-4788-bbc3-7322cf71eda4",
     "showTitle": false,
     "title": ""
    }
   },
   "source": [
    "\n",
    "### Problem\n",
    "\n",
    "In this problem set, we focus on a few important Python functions related to Booleans: filter(), all(), any(). \n",
    "\n",
    "   1. Using filter() function filter a list so that only negative numbers are left.\n",
    "   2. Given a list [10, 5, 6, 7, 50, 900, 175], use map() and filter() functions to add 20 to the values if the value is below 80.\n",
    "   3. Check given a list, if every number is divisible by 3.\n",
    "   4. Check given a list, if there is at least one number that is a prime number.\n"
   ]
  },
  {
   "cell_type": "markdown",
   "metadata": {
    "application/vnd.databricks.v1+cell": {
     "cellMetadata": {
      "byteLimit": 2048000,
      "rowLimit": 10000
     },
     "inputWidgets": {},
     "nuid": "1f517f86-c2c1-44ba-9f58-368cc8c85ca4",
     "showTitle": false,
     "title": ""
    }
   },
   "source": [
    "\n",
    "### Solution for 1 - 2\n",
    "\n",
    "The filter() function filters the given sequence with the help of a function that tests each element in the sequence to be true or not. The syntax is: filter(_function_, _sequence_). The result is a special object."
   ]
  },
  {
   "cell_type": "code",
   "execution_count": 0,
   "metadata": {
    "application/vnd.databricks.v1+cell": {
     "cellMetadata": {
      "byteLimit": 2048000,
      "rowLimit": 10000
     },
     "inputWidgets": {},
     "nuid": "a9f04ec1-1e3f-485d-b2c8-c371c522c20b",
     "showTitle": false,
     "title": ""
    }
   },
   "outputs": [
    {
     "output_type": "execute_result",
     "data": {
      "text/plain": [
       "[-3, -4]"
      ]
     },
     "execution_count": 11,
     "metadata": {},
     "output_type": "execute_result"
    }
   ],
   "source": [
    "l = [1,2,-3,-4, 5]\n",
    "result = list(filter(lambda x: x<0, l))\n",
    "result"
   ]
  },
  {
   "cell_type": "code",
   "execution_count": 0,
   "metadata": {
    "application/vnd.databricks.v1+cell": {
     "cellMetadata": {
      "byteLimit": 2048000,
      "rowLimit": 10000
     },
     "inputWidgets": {},
     "nuid": "295f3720-9704-42c1-af30-ccc92f99d529",
     "showTitle": false,
     "title": ""
    }
   },
   "outputs": [
    {
     "output_type": "execute_result",
     "data": {
      "text/plain": [
       "[30, 25, 26, 27, 70, 900, 175]"
      ]
     },
     "execution_count": 13,
     "metadata": {},
     "output_type": "execute_result"
    }
   ],
   "source": [
    "numbers = [10, 5, 6, 7, 50, 900, 175]\n",
    "\n",
    "below_80 = list(map(lambda x: x+20, filter(lambda x: x < 80, numbers)))\n",
    "above_or_equal_80 = list(filter(lambda x: x >= 80, numbers)) # values 80 or above remain unchanged\n",
    "result = below_80 + above_or_equal_80\n",
    "result"
   ]
  },
  {
   "cell_type": "markdown",
   "metadata": {
    "application/vnd.databricks.v1+cell": {
     "cellMetadata": {},
     "inputWidgets": {},
     "nuid": "08d0b07b-cb05-4168-a89f-77f0337e3ccf",
     "showTitle": false,
     "title": ""
    }
   },
   "source": [
    "\n",
    "### Solution for 3\n",
    "\n",
    "Note that both the any() function and all() function takes a list of iterables as arguments. Below are some examples of using all():"
   ]
  },
  {
   "cell_type": "code",
   "execution_count": 0,
   "metadata": {
    "application/vnd.databricks.v1+cell": {
     "cellMetadata": {
      "byteLimit": 2048000,
      "rowLimit": 10000
     },
     "inputWidgets": {},
     "nuid": "c17c9de9-2e09-4adf-8752-a1285b398d0b",
     "showTitle": false,
     "title": ""
    }
   },
   "outputs": [
    {
     "output_type": "execute_result",
     "data": {
      "text/plain": [
       "False"
      ]
     },
     "execution_count": 17,
     "metadata": {},
     "output_type": "execute_result"
    }
   ],
   "source": [
    "mylist = [True, True, False]\n",
    "x = all(mylist) \n",
    "x # False"
   ]
  },
  {
   "cell_type": "markdown",
   "metadata": {
    "application/vnd.databricks.v1+cell": {
     "cellMetadata": {},
     "inputWidgets": {},
     "nuid": "c91ccff6-f877-47ce-b64e-0bea2b079ea1",
     "showTitle": false,
     "title": ""
    }
   },
   "source": [
    "\n",
    "Now let's solve the problem:"
   ]
  },
  {
   "cell_type": "code",
   "execution_count": 0,
   "metadata": {
    "application/vnd.databricks.v1+cell": {
     "cellMetadata": {
      "byteLimit": 2048000,
      "rowLimit": 10000
     },
     "inputWidgets": {},
     "nuid": "855e6637-9744-4bc5-86be-b65c41fe6383",
     "showTitle": false,
     "title": ""
    }
   },
   "outputs": [
    {
     "output_type": "stream",
     "name": "stdout",
     "output_type": "stream",
     "text": [
      "True\nFalse\n"
     ]
    }
   ],
   "source": [
    "def is_all_divisible_by_three(nums):\n",
    "    \"\"\"Check if every number in the list is divisible by 3.\"\"\"\n",
    "    return all(num % 3 == 0 for num in nums)\n",
    "\n",
    "nums = [3, 6, 9, 12, 15]\n",
    "print(is_all_divisible_by_three(nums))  # Outputs: True \n",
    "\n",
    "nums = [3, 5]\n",
    "print(is_all_divisible_by_three(nums))  # Outputs: False "
   ]
  },
  {
   "cell_type": "markdown",
   "metadata": {
    "application/vnd.databricks.v1+cell": {
     "cellMetadata": {},
     "inputWidgets": {},
     "nuid": "85e0a53b-65db-4b11-8dc3-c3d88e7dd9ab",
     "showTitle": false,
     "title": ""
    }
   },
   "source": [
    "\n",
    "### Solution for 4\n",
    "\n",
    "The is_prime() function efficiently checks if a number is prime, and the has_prime() function uses any() to determine if there's at least one prime number in the list `nums`:"
   ]
  },
  {
   "cell_type": "code",
   "execution_count": 0,
   "metadata": {
    "application/vnd.databricks.v1+cell": {
     "cellMetadata": {
      "byteLimit": 2048000,
      "rowLimit": 10000
     },
     "inputWidgets": {},
     "nuid": "aa9160eb-c284-4678-a90d-6dae163afea1",
     "showTitle": false,
     "title": ""
    }
   },
   "outputs": [
    {
     "output_type": "stream",
     "name": "stdout",
     "output_type": "stream",
     "text": [
      "True\nFalse\n"
     ]
    }
   ],
   "source": [
    "\n",
    "\n",
    "def has_prime(nums):\n",
    "\n",
    "    \"\"\"Check if the list `nums` has at least one prime number.\"\"\"\n",
    "\n",
    "    def is_prime(n):\n",
    "       \"\"\"Check if n is a prime number.\"\"\"\n",
    "       if n <= 1:\n",
    "           return False\n",
    "       if n <= 3:\n",
    "           return True\n",
    "       if n % 2 == 0 or n % 3 == 0:\n",
    "           return False\n",
    "       i = 5\n",
    "       while i * i <= n:\n",
    "           if n % i == 0 or n % (i + 2) == 0:\n",
    "               return False\n",
    "           i += 6\n",
    "       return True\n",
    "\n",
    "    return any(is_prime(j) for j in nums)\n",
    "\n",
    "\n",
    "nums = [4, 6, 15, 27, 29]\n",
    "print(has_prime(nums))  # True because 29 is prime\n",
    "\n",
    "nums = [4, 6, 15, 27, 1]\n",
    "print(has_prime(nums))  # False because there is no prime number in the list"
   ]
  }
 ],
 "metadata": {
  "application/vnd.databricks.v1+notebook": {
   "dashboards": [],
   "language": "python",
   "notebookMetadata": {
    "pythonIndentUnit": 4
   },
   "notebookName": "Problem 018",
   "widgets": {}
  }
 },
 "nbformat": 4,
 "nbformat_minor": 0
}
