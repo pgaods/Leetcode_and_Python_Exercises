{
 "cells": [
  {
   "cell_type": "markdown",
   "metadata": {
    "application/vnd.databricks.v1+cell": {
     "cellMetadata": {
      "byteLimit": 2048000,
      "rowLimit": 10000
     },
     "inputWidgets": {},
     "nuid": "4b9a482e-11d6-4a5a-b2df-4a8cf30ef01a",
     "showTitle": false,
     "title": ""
    }
   },
   "source": [
    "\n",
    "### Problems\n",
    "\n",
    "  1. Given a string, compute the length of all the characters, except spaces.\n",
    "  2. Given a string, we need to replace all commas with dots and all dots with the commas."
   ]
  },
  {
   "cell_type": "markdown",
   "metadata": {
    "application/vnd.databricks.v1+cell": {
     "cellMetadata": {
      "byteLimit": 2048000,
      "rowLimit": 10000
     },
     "inputWidgets": {},
     "nuid": "81f6b746-240d-4c6b-b7d9-549b3823e009",
     "showTitle": false,
     "title": ""
    }
   },
   "source": [
    "\n",
    "### Solution 1\n",
    "\n",
    "We will use the isspace() function to perform the task:"
   ]
  },
  {
   "cell_type": "code",
   "execution_count": 0,
   "metadata": {
    "application/vnd.databricks.v1+cell": {
     "cellMetadata": {
      "byteLimit": 2048000,
      "rowLimit": 10000
     },
     "inputWidgets": {},
     "nuid": "ec2d9748-10ee-4dd0-93c1-030c9b52eb4b",
     "showTitle": false,
     "title": ""
    }
   },
   "outputs": [
    {
     "output_type": "stream",
     "name": "stdout",
     "output_type": "stream",
     "text": [
      "The original string is : geeksforgeeks 33 is   ---best\nThe Characters Frequency avoiding spaces : 24\n"
     ]
    }
   ],
   "source": [
    "test_str = 'geeksforgeeks 33 is   ---best'\n",
    "print(\"The original string is : \" + str(test_str))\n",
    "\n",
    "res = sum(not s.isspace() for s in test_str)\n",
    "print(\"The Characters Frequency avoiding spaces : \" + str(res)) "
   ]
  },
  {
   "cell_type": "markdown",
   "metadata": {
    "application/vnd.databricks.v1+cell": {
     "cellMetadata": {
      "byteLimit": 2048000,
      "rowLimit": 10000
     },
     "inputWidgets": {},
     "nuid": "4bb4faf7-4bc2-476e-9d0f-3a91a4810dd8",
     "showTitle": false,
     "title": ""
    }
   },
   "source": [
    "\n",
    "The isspace() function checks if all the characters in the text are whitespaces:"
   ]
  },
  {
   "cell_type": "code",
   "execution_count": 0,
   "metadata": {
    "application/vnd.databricks.v1+cell": {
     "cellMetadata": {
      "byteLimit": 2048000,
      "rowLimit": 10000
     },
     "inputWidgets": {},
     "nuid": "5265a6be-ff4d-4dc1-9f42-e2eb9c63cbcd",
     "showTitle": false,
     "title": ""
    }
   },
   "outputs": [
    {
     "output_type": "stream",
     "name": "stdout",
     "output_type": "stream",
     "text": [
      "Out[12]: False"
     ]
    }
   ],
   "source": [
    "example1 = \"I have a dream\"\n",
    "example1.isspace()"
   ]
  },
  {
   "cell_type": "code",
   "execution_count": 0,
   "metadata": {
    "application/vnd.databricks.v1+cell": {
     "cellMetadata": {
      "byteLimit": 2048000,
      "rowLimit": 10000
     },
     "inputWidgets": {},
     "nuid": "f0cf3d33-8676-43c6-ab40-dff50a482303",
     "showTitle": false,
     "title": ""
    }
   },
   "outputs": [
    {
     "output_type": "stream",
     "name": "stdout",
     "output_type": "stream",
     "text": [
      "Out[13]: False"
     ]
    }
   ],
   "source": [
    "example2 = \"\"\n",
    "example2.isspace()"
   ]
  },
  {
   "cell_type": "code",
   "execution_count": 0,
   "metadata": {
    "application/vnd.databricks.v1+cell": {
     "cellMetadata": {
      "byteLimit": 2048000,
      "rowLimit": 10000
     },
     "inputWidgets": {},
     "nuid": "5a5ae5b1-729f-4b1c-abe0-785950c46ca5",
     "showTitle": false,
     "title": ""
    }
   },
   "outputs": [
    {
     "output_type": "stream",
     "name": "stdout",
     "output_type": "stream",
     "text": [
      "Out[14]: True"
     ]
    }
   ],
   "source": [
    "example3 = \" \"\n",
    "example3.isspace()"
   ]
  },
  {
   "cell_type": "markdown",
   "metadata": {
    "application/vnd.databricks.v1+cell": {
     "cellMetadata": {
      "byteLimit": 2048000,
      "rowLimit": 10000
     },
     "inputWidgets": {},
     "nuid": "e18ed4dc-08f5-4846-9d7c-eb67abb48fbc",
     "showTitle": false,
     "title": ""
    }
   },
   "source": [
    "\n",
    "### Solution 2\n",
    "\n",
    "For this problem, suppose we have a string like below:"
   ]
  },
  {
   "cell_type": "code",
   "execution_count": 0,
   "metadata": {
    "application/vnd.databricks.v1+cell": {
     "cellMetadata": {
      "byteLimit": 2048000,
      "rowLimit": 10000
     },
     "inputWidgets": {},
     "nuid": "f9d3f6a9-87a9-483e-b12e-49d0b9dfc040",
     "showTitle": false,
     "title": ""
    }
   },
   "outputs": [],
   "source": [
    "s = \"I have a dream, But the other guy. boy. only has a plan,\""
   ]
  },
  {
   "cell_type": "markdown",
   "metadata": {
    "application/vnd.databricks.v1+cell": {
     "cellMetadata": {
      "byteLimit": 2048000,
      "rowLimit": 10000
     },
     "inputWidgets": {},
     "nuid": "623f603e-c200-415d-b6dd-fcd51b02de2c",
     "showTitle": false,
     "title": ""
    }
   },
   "source": [
    "\n",
    "Usually, the replace() method can simply do the job, for example:"
   ]
  },
  {
   "cell_type": "code",
   "execution_count": 0,
   "metadata": {
    "application/vnd.databricks.v1+cell": {
     "cellMetadata": {
      "byteLimit": 2048000,
      "rowLimit": 10000
     },
     "inputWidgets": {},
     "nuid": "0028a021-23c5-47f9-8ac8-99219ee945cf",
     "showTitle": false,
     "title": ""
    }
   },
   "outputs": [
    {
     "output_type": "stream",
     "name": "stdout",
     "output_type": "stream",
     "text": [
      "Out[16]: 'I have a dream. But the other guy. boy. only has a plan.'"
     ]
    }
   ],
   "source": [
    "s1 = s.replace(\",\", \".\")\n",
    "s1"
   ]
  },
  {
   "cell_type": "markdown",
   "metadata": {
    "application/vnd.databricks.v1+cell": {
     "cellMetadata": {
      "byteLimit": 2048000,
      "rowLimit": 10000
     },
     "inputWidgets": {},
     "nuid": "63f6dd02-a596-4ee6-b609-1a3e5c31eb48",
     "showTitle": false,
     "title": ""
    }
   },
   "source": [
    "\n",
    "However, the tricky part is that we have to replace the other way around simultaneously. So we need a pseudo filler for the third notation. Let's call this pseudo filler \"third\":"
   ]
  },
  {
   "cell_type": "code",
   "execution_count": 0,
   "metadata": {
    "application/vnd.databricks.v1+cell": {
     "cellMetadata": {
      "byteLimit": 2048000,
      "rowLimit": 10000
     },
     "inputWidgets": {},
     "nuid": "e4e14b34-19ab-4b26-802e-5c75d8d09887",
     "showTitle": false,
     "title": ""
    }
   },
   "outputs": [
    {
     "output_type": "stream",
     "name": "stdout",
     "output_type": "stream",
     "text": [
      "Out[20]: 'I have a dream. But the other guy, boy, only has a plan.'"
     ]
    }
   ],
   "source": [
    "def swap(st):\n",
    "    st= st.replace(',', 'third')\n",
    "    st = st.replace('.', ',')\n",
    "    st = st.replace('third', '.')\n",
    "    return st\n",
    "\n",
    "s2 = swap(s)\n",
    "s2"
   ]
  }
 ],
 "metadata": {
  "application/vnd.databricks.v1+notebook": {
   "dashboards": [],
   "language": "python",
   "notebookMetadata": {
    "pythonIndentUnit": 4
   },
   "notebookName": "Problem 013",
   "widgets": {}
  }
 },
 "nbformat": 4,
 "nbformat_minor": 0
}
