{
 "cells": [
  {
   "cell_type": "markdown",
   "metadata": {
    "application/vnd.databricks.v1+cell": {
     "cellMetadata": {
      "byteLimit": 2048000,
      "rowLimit": 10000
     },
     "inputWidgets": {},
     "nuid": "d0b9e3b7-a0b8-409c-8ae6-9af45306f581",
     "showTitle": false,
     "title": ""
    }
   },
   "source": [
    "\n",
    "### Problems\n",
    "\n",
    "In this problem set, we focus on permutations and combinations. \n",
    "\n",
    "   1. Compute factorial of \\\\(n\\\\), that is, write a function that computes \\\\(n!\\\\) in a recursive way.\n",
    "   2. Given a list, say [1, 2, 3], find all permutations.\n",
    "   3. Given a list \\\\(x\\\\), say [1, 2, 3, 4], find all combinations \\\\(\\binom{n}{j}\\\\) where \\\\(n\\\\) is the size of the list \\\\(x\\\\) and \\\\(0 \\le j \\le n, j \\in \\mathbb{Z}\\\\).\n",
    "\n",
    "All answers should be written in functions. A good reference for this section can be found here:\n",
    "\n",
    "   - https://www.geeksforgeeks.org/permutation-and-combination-in-python/"
   ]
  },
  {
   "cell_type": "markdown",
   "metadata": {
    "application/vnd.databricks.v1+cell": {
     "cellMetadata": {
      "byteLimit": 2048000,
      "rowLimit": 10000
     },
     "inputWidgets": {},
     "nuid": "19dc5535-c862-4384-8e78-24d39d739bec",
     "showTitle": false,
     "title": ""
    }
   },
   "source": [
    "\n",
    "### Solutions\n",
    "\n",
    "We will need to import the following package: `itertools`. This module implements a number of iterator building blocks."
   ]
  },
  {
   "cell_type": "code",
   "execution_count": 0,
   "metadata": {
    "application/vnd.databricks.v1+cell": {
     "cellMetadata": {
      "byteLimit": 2048000,
      "rowLimit": 10000
     },
     "inputWidgets": {},
     "nuid": "82e62d25-c744-45a1-9e68-12a194cc5921",
     "showTitle": false,
     "title": ""
    }
   },
   "outputs": [],
   "source": [
    "from itertools import permutations, combinations "
   ]
  },
  {
   "cell_type": "code",
   "execution_count": 0,
   "metadata": {
    "application/vnd.databricks.v1+cell": {
     "cellMetadata": {
      "byteLimit": 2048000,
      "rowLimit": 10000
     },
     "inputWidgets": {},
     "nuid": "bb8fa34d-8269-4c57-8600-42cb3843541f",
     "showTitle": false,
     "title": ""
    }
   },
   "outputs": [
    {
     "output_type": "stream",
     "name": "stdout",
     "output_type": "stream",
     "text": [
      "120\n"
     ]
    }
   ],
   "source": [
    "def compute_factorial(n):\n",
    "    if n == 0:\n",
    "        return 1\n",
    "    else:\n",
    "        return n * compute_factorial(n - 1)\n",
    "\n",
    "n = 5\n",
    "print(compute_factorial(n))  # output: 120"
   ]
  },
  {
   "cell_type": "code",
   "execution_count": 0,
   "metadata": {
    "application/vnd.databricks.v1+cell": {
     "cellMetadata": {
      "byteLimit": 2048000,
      "rowLimit": 10000
     },
     "inputWidgets": {},
     "nuid": "60a20d56-d8e3-4909-932f-fc74a7cde4f4",
     "showTitle": false,
     "title": ""
    }
   },
   "outputs": [
    {
     "output_type": "stream",
     "name": "stdout",
     "output_type": "stream",
     "text": [
      "Out[5]: [(1, 2, 3), (1, 3, 2), (2, 1, 3), (2, 3, 1), (3, 1, 2), (3, 2, 1)]"
     ]
    }
   ],
   "source": [
    "l1 = [1, 2, 3]\n",
    "\n",
    "def list_permutations(l):\n",
    "    '''\n",
    "    input: a list\n",
    "    output: a list of tuples\n",
    "    '''\n",
    "    perm = permutations(l) \n",
    "    return list(perm)\n",
    "\n",
    "list_permutations(l1)"
   ]
  },
  {
   "cell_type": "code",
   "execution_count": 0,
   "metadata": {
    "application/vnd.databricks.v1+cell": {
     "cellMetadata": {
      "byteLimit": 2048000,
      "rowLimit": 10000
     },
     "inputWidgets": {},
     "nuid": "bcf662a3-22d6-4d0b-95f1-ba87a658dc72",
     "showTitle": false,
     "title": ""
    }
   },
   "outputs": [
    {
     "output_type": "stream",
     "name": "stdout",
     "output_type": "stream",
     "text": [
      "Out[6]: [(1, 2), (1, 3), (1, 4), (2, 3), (2, 4), (3, 4)]"
     ]
    }
   ],
   "source": [
    "l2 = [1, 2, 3, 4]\n",
    "j = 2\n",
    "\n",
    "def list_combinations(l, r):\n",
    "    '''\n",
    "    input: a list\n",
    "    output: a list of tuples\n",
    "    '''\n",
    "    comb = combinations(l, r) \n",
    "    return list(comb)\n",
    "\n",
    "list_combinations(l=l2, r=j)"
   ]
  }
 ],
 "metadata": {
  "application/vnd.databricks.v1+notebook": {
   "dashboards": [],
   "language": "python",
   "notebookMetadata": {
    "pythonIndentUnit": 4
   },
   "notebookName": "Problem 014",
   "widgets": {}
  }
 },
 "nbformat": 4,
 "nbformat_minor": 0
}
