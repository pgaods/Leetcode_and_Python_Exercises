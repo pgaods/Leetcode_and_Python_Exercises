{
 "cells": [
  {
   "cell_type": "markdown",
   "metadata": {
    "application/vnd.databricks.v1+cell": {
     "cellMetadata": {
      "byteLimit": 2048000,
      "rowLimit": 10000
     },
     "inputWidgets": {},
     "nuid": "6ca3c68c-4d4c-4d2f-92af-7fb51c1d0c1f",
     "showTitle": false,
     "title": ""
    }
   },
   "source": [
    "\n",
    "### Problems\n",
    "\n",
    "In this problem set we focus on dictionaries.\n",
    "\n",
    "1. We have a dictionary with keys to be composers and values to be its era of when the composer lived. Remove all keys whose key value starts with \"B\".\n",
    "2. Sometimes, we just wish to work with unique elements and any type of repetition is not desired, for these cases, we need to have techniques to solve these problems. One such problem can be to test for unique keys and values in a dictionary. For keys, they are by default unique, hence no external testing is required, but as for values, we need to find a way to test if two keys can correspond to the same value. Write a function to achieve such a goal.\n",
    "3. Suppose we have a dictionary test_dict = {'gfg': 1, 'is': 2, 'best': 3}. Test if the dictionary has a value of 3 in it."
   ]
  },
  {
   "cell_type": "markdown",
   "metadata": {
    "application/vnd.databricks.v1+cell": {
     "cellMetadata": {
      "byteLimit": 2048000,
      "rowLimit": 10000
     },
     "inputWidgets": {},
     "nuid": "9c64597f-bce1-41c8-aceb-26d016726337",
     "showTitle": false,
     "title": ""
    }
   },
   "source": [
    "\n",
    "### Solutions\n",
    "\n",
    "Let's suppose we have a dictionary \\\\(d\\\\) like below, we can use the d.pop(_key\\_to\\_remove_) to remove the key:"
   ]
  },
  {
   "cell_type": "code",
   "execution_count": 0,
   "metadata": {
    "application/vnd.databricks.v1+cell": {
     "cellMetadata": {
      "byteLimit": 2048000,
      "rowLimit": 10000
     },
     "inputWidgets": {},
     "nuid": "7eab29fb-3f6a-4ee1-bd55-a8a04cda312c",
     "showTitle": false,
     "title": ""
    }
   },
   "outputs": [
    {
     "output_type": "stream",
     "name": "stdout",
     "output_type": "stream",
     "text": [
      "{'Chopin': 'Romantic', 'Schubert': 'early Romantic', 'Scarlatti': 'Baroque', 'Wagner': 'late Romantic'}\n"
     ]
    }
   ],
   "source": [
    "d = {'Bach': 'Baroque', 'Beethoven': 'Classical-Romantic', 'Brahms': 'late Romantic', 'Chopin': 'Romantic', 'Schubert': 'early Romantic', 'Scarlatti': 'Baroque', 'Wagner': 'late Romantic'}\n",
    "d1 = {k: v for k, v in d.items() if not k.startswith('B')}\n",
    "print(d1)"
   ]
  },
  {
   "cell_type": "markdown",
   "metadata": {
    "application/vnd.databricks.v1+cell": {
     "cellMetadata": {
      "byteLimit": 2048000,
      "rowLimit": 10000
     },
     "inputWidgets": {},
     "nuid": "1893e87c-c9a6-4387-b833-6a5b2c9108c3",
     "showTitle": false,
     "title": ""
    }
   },
   "source": [
    "\n",
    "For the second question, to test if any two keys in a dictionary correspond to the same value, you can simply check if the number of unique values is equal to the number of keys. If they're equal, then all values are unique; otherwise, at least two keys share a value."
   ]
  },
  {
   "cell_type": "code",
   "execution_count": 0,
   "metadata": {
    "application/vnd.databricks.v1+cell": {
     "cellMetadata": {
      "byteLimit": 2048000,
      "rowLimit": 10000
     },
     "inputWidgets": {},
     "nuid": "3f24f590-0b31-4a12-aef2-16109c5382ab",
     "showTitle": false,
     "title": ""
    }
   },
   "outputs": [
    {
     "output_type": "stream",
     "name": "stdout",
     "output_type": "stream",
     "text": [
      "the dictionary has repeated values\nthe dictionary has unique values corresponding to the same key\n"
     ]
    }
   ],
   "source": [
    "def check(dic):\n",
    "    if len(dic) == len(set(dic.values())):\n",
    "        return \"the dictionary has unique values corresponding to the same key\"\n",
    "    else:\n",
    "        return \"the dictionary has repeated values\"\n",
    "\n",
    "print(check(d))\n",
    "\n",
    "d2 = {1: 2, 2: 4, 4: 8}\n",
    "print(check(d2))"
   ]
  },
  {
   "cell_type": "markdown",
   "metadata": {
    "application/vnd.databricks.v1+cell": {
     "cellMetadata": {
      "byteLimit": 2048000,
      "rowLimit": 10000
     },
     "inputWidgets": {},
     "nuid": "b8551158-c48c-41f4-8e12-bd1feefee25a",
     "showTitle": false,
     "title": ""
    }
   },
   "source": [
    "\n",
    "For the 3rd problem, there are more than one way to do it. The first way is to use the any() function:"
   ]
  },
  {
   "cell_type": "code",
   "execution_count": 0,
   "metadata": {
    "application/vnd.databricks.v1+cell": {
     "cellMetadata": {
      "byteLimit": 2048000,
      "rowLimit": 10000
     },
     "inputWidgets": {},
     "nuid": "ea10211a-8529-4e4d-b184-e77f72f6403c",
     "showTitle": false,
     "title": ""
    }
   },
   "outputs": [
    {
     "output_type": "stream",
     "name": "stdout",
     "output_type": "stream",
     "text": [
      "Yes, 3 exists as a value in the dictionary\n"
     ]
    }
   ],
   "source": [
    "test_dict = {'gfg': 1, 'is': 2, 'best': 3}\n",
    "\n",
    "if any([True for k,v in test_dict.items() if v == 3]):\n",
    "    print(f\"Yes, 3 exists as a value in the dictionary\")\n",
    "else:\n",
    "    print(f\"No, 3 does not exist as a value in the dictionary\")"
   ]
  },
  {
   "cell_type": "markdown",
   "metadata": {
    "application/vnd.databricks.v1+cell": {
     "cellMetadata": {
      "byteLimit": 2048000,
      "rowLimit": 10000
     },
     "inputWidgets": {},
     "nuid": "c90f2594-fe11-4b97-bccf-df35c87f4929",
     "showTitle": false,
     "title": ""
    }
   },
   "source": [
    "\n",
    "Another way to do this is to use a loop:"
   ]
  },
  {
   "cell_type": "code",
   "execution_count": 0,
   "metadata": {
    "application/vnd.databricks.v1+cell": {
     "cellMetadata": {
      "byteLimit": 2048000,
      "rowLimit": 10000
     },
     "inputWidgets": {},
     "nuid": "53ffbab7-bb34-40c9-8273-5f4ace8546be",
     "showTitle": false,
     "title": ""
    }
   },
   "outputs": [
    {
     "output_type": "stream",
     "name": "stdout",
     "output_type": "stream",
     "text": [
      "Is 3 present in the dictionary as a value?: True\n"
     ]
    }
   ],
   "source": [
    "res = False\n",
    "for key in test_dict:\n",
    "    if(test_dict[key] == 3):\n",
    "        res = True\n",
    "        break\n",
    "\n",
    "print(\"Is 3 present in the dictionary as a value?: \" + str(res))"
   ]
  }
 ],
 "metadata": {
  "application/vnd.databricks.v1+notebook": {
   "dashboards": [],
   "language": "python",
   "notebookMetadata": {
    "pythonIndentUnit": 4
   },
   "notebookName": "Problem 006",
   "widgets": {}
  }
 },
 "nbformat": 4,
 "nbformat_minor": 0
}
