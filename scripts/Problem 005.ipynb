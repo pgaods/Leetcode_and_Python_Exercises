{
 "cells": [
  {
   "cell_type": "markdown",
   "metadata": {
    "application/vnd.databricks.v1+cell": {
     "cellMetadata": {
      "byteLimit": 2048000,
      "rowLimit": 10000
     },
     "inputWidgets": {},
     "nuid": "3c9b8cf7-af58-4076-b5ce-ef87a3922dd7",
     "showTitle": false,
     "title": ""
    }
   },
   "source": [
    "\n",
    "### Problem\n",
    "\n",
    "Given a string `s`, return the longest palindromic substring in `s`. A string is **palindromic** if it reads the same forward and backward. As usual, a substring is a contiguous non-empty sequence of characters within a string.\n",
    "\n",
    "Below is an example. Suppose we have a string:\n",
    "\n",
    "     > s = \"babaq\"\n",
    "\n",
    "Then we should expect the output to be \"aba\" or \"bab\".\n",
    "\n",
    "As another example, suppose we have a string:\n",
    "\n",
    "     > s = \"bddb\"\n",
    "\n",
    "Then should expect the output to be \"dd\""
   ]
  },
  {
   "cell_type": "markdown",
   "metadata": {
    "application/vnd.databricks.v1+cell": {
     "cellMetadata": {
      "byteLimit": 2048000,
      "rowLimit": 10000
     },
     "inputWidgets": {},
     "nuid": "275e42ac-ecea-44f4-8c13-5a5f6713d20a",
     "showTitle": false,
     "title": ""
    }
   },
   "source": [
    "\n",
    "### Solution\n",
    "\n",
    "The problem can be broken down into more than 1 steps:\n",
    "\n",
    "   1. given a string `s`, create a list `lst` such that `lst` contains all substrings of `s`;\n",
    "   2. For all elements \\\\(k\\\\) in `lst`, find all the palindromic one (i.e., reversing the characters gives the same `lst`), and then make a new list `v`;\n",
    "   3. Find the elements in `v` that has the longest length. \n"
   ]
  },
  {
   "cell_type": "code",
   "execution_count": 0,
   "metadata": {
    "application/vnd.databricks.v1+cell": {
     "cellMetadata": {
      "byteLimit": 2048000,
      "rowLimit": 10000
     },
     "inputWidgets": {},
     "nuid": "e12d7688-ab12-4136-b7e5-1b624374000a",
     "showTitle": false,
     "title": ""
    }
   },
   "outputs": [],
   "source": [
    "s = \"babaqab\"\n",
    "\n",
    "def define_substrings(s): # step 1\n",
    "    n = len(s)\n",
    "    subs = []\n",
    "    for i in range(n):\n",
    "        for j in range(i+1, n+1):\n",
    "            subs.append(s[i:j])\n",
    "    return subs\n",
    "\n",
    "def find_palindrome(k):\n",
    "    if k[::-1]==k and len(k)>1:\n",
    "        return k\n",
    "    else:\n",
    "        return None\n",
    "    \n",
    "def find_maxlen(l):\n",
    "    return max(l, key=len)"
   ]
  },
  {
   "cell_type": "code",
   "execution_count": 0,
   "metadata": {
    "application/vnd.databricks.v1+cell": {
     "cellMetadata": {
      "byteLimit": 2048000,
      "rowLimit": 10000
     },
     "inputWidgets": {},
     "nuid": "9822001c-223b-4c18-b5b5-bfc77072f2d8",
     "showTitle": false,
     "title": ""
    }
   },
   "outputs": [
    {
     "output_type": "stream",
     "name": "stdout",
     "output_type": "stream",
     "text": [
      "baqab\n"
     ]
    }
   ],
   "source": [
    "lst = define_substrings(s)\n",
    "v = list(map(find_palindrome, lst))\n",
    "v = [l for l in v if l != None]\n",
    "result = find_maxlen(v)\n",
    "print(result)"
   ]
  },
  {
   "cell_type": "code",
   "execution_count": 0,
   "metadata": {
    "application/vnd.databricks.v1+cell": {
     "cellMetadata": {},
     "inputWidgets": {},
     "nuid": "b5c046af-c4b1-4d56-b464-c98fb6cb9651",
     "showTitle": false,
     "title": ""
    }
   },
   "outputs": [],
   "source": []
  },
  {
   "cell_type": "markdown",
   "metadata": {
    "application/vnd.databricks.v1+cell": {
     "cellMetadata": {},
     "inputWidgets": {},
     "nuid": "3c15216e-5437-42c8-839f-eb5f1c3a5f04",
     "showTitle": false,
     "title": ""
    }
   },
   "source": [
    "\n",
    "Notice that the double colons are very useful when indexing lists. Suppose we have a list `mylist`, the operation mylist[::-1] basically reverses the order."
   ]
  },
  {
   "cell_type": "code",
   "execution_count": 0,
   "metadata": {
    "application/vnd.databricks.v1+cell": {
     "cellMetadata": {
      "byteLimit": 2048000,
      "rowLimit": 10000
     },
     "inputWidgets": {},
     "nuid": "da838021-b2b1-4db1-a209-9f00a78b7a9e",
     "showTitle": false,
     "title": ""
    }
   },
   "outputs": [
    {
     "output_type": "stream",
     "name": "stdout",
     "output_type": "stream",
     "text": [
      "Out[1]: [5, 4, 3, 2, 1]"
     ]
    }
   ],
   "source": [
    "mylist = [1,2,3,4,5]\n",
    "mylist[::-1]"
   ]
  },
  {
   "cell_type": "markdown",
   "metadata": {
    "application/vnd.databricks.v1+cell": {
     "cellMetadata": {},
     "inputWidgets": {},
     "nuid": "b6fc8717-1a71-4aa4-a834-61e056d058d5",
     "showTitle": false,
     "title": ""
    }
   },
   "source": [
    "\n",
    "However, if we index the number with a different number rather than -1, the result will be different. This is because the syntax for list indexing is really the following: mylist[_start_:_stop_:_step_]. If we do mylist[::-2], then, we are traversing the entire list but backward with a step of 2, so we will end up with the final result [5, 3, 1]."
   ]
  },
  {
   "cell_type": "code",
   "execution_count": 0,
   "metadata": {
    "application/vnd.databricks.v1+cell": {
     "cellMetadata": {
      "byteLimit": 2048000,
      "rowLimit": 10000
     },
     "inputWidgets": {},
     "nuid": "24050f44-b671-498a-9bc9-ef18a0738ab6",
     "showTitle": false,
     "title": ""
    }
   },
   "outputs": [
    {
     "output_type": "stream",
     "name": "stdout",
     "output_type": "stream",
     "text": [
      "Out[2]: [5, 3, 1]"
     ]
    }
   ],
   "source": [
    "mylist[::-2]"
   ]
  },
  {
   "cell_type": "markdown",
   "metadata": {
    "application/vnd.databricks.v1+cell": {
     "cellMetadata": {},
     "inputWidgets": {},
     "nuid": "3200532a-9d2b-48c3-b96d-643541dd07b0",
     "showTitle": false,
     "title": ""
    }
   },
   "source": [
    "\n",
    "Here is another example:"
   ]
  },
  {
   "cell_type": "code",
   "execution_count": 0,
   "metadata": {
    "application/vnd.databricks.v1+cell": {
     "cellMetadata": {
      "byteLimit": 2048000,
      "rowLimit": 10000
     },
     "inputWidgets": {},
     "nuid": "617a2d66-46f8-4057-a0e4-3a2c7a11b0a3",
     "showTitle": false,
     "title": ""
    }
   },
   "outputs": [
    {
     "output_type": "stream",
     "name": "stdout",
     "output_type": "stream",
     "text": [
      "Out[5]: [1, 4]"
     ]
    }
   ],
   "source": [
    "mylist[0:5:3]"
   ]
  }
 ],
 "metadata": {
  "application/vnd.databricks.v1+notebook": {
   "dashboards": [],
   "language": "python",
   "notebookMetadata": {
    "pythonIndentUnit": 4
   },
   "notebookName": "Problem 005",
   "widgets": {}
  }
 },
 "nbformat": 4,
 "nbformat_minor": 0
}
