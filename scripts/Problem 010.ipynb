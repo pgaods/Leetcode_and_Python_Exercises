{
 "cells": [
  {
   "cell_type": "markdown",
   "metadata": {
    "application/vnd.databricks.v1+cell": {
     "cellMetadata": {
      "byteLimit": 2048000,
      "rowLimit": 10000
     },
     "inputWidgets": {},
     "nuid": "d1a9930d-a4f3-422e-882a-1bfe716be13e",
     "showTitle": false,
     "title": ""
    }
   },
   "source": [
    "\n",
    "### Problem\n",
    "\n",
    "We focus on string manipulations in this problem set.\n",
    "\n",
    "   1. Extract all the string characters which have odd number of occurrences for a given string \"geekforgeeks\".\n",
    "   2. Given a string, check if that string contains any special characters of dollar sign as well as the ampersand (\"$\" and \"&\"). Return True or False.\n",
    "   3. Given a string, perform split on vowels. For example, if we have a string 'GFGaBstuforigeeks', we expect a list as a result: ['GFG', 'Bst', 'f', 'r', 'g', 'ks']."
   ]
  },
  {
   "cell_type": "markdown",
   "metadata": {
    "application/vnd.databricks.v1+cell": {
     "cellMetadata": {
      "byteLimit": 2048000,
      "rowLimit": 10000
     },
     "inputWidgets": {},
     "nuid": "904e3d2f-f846-41a4-ad62-3e99a024616e",
     "showTitle": false,
     "title": ""
    }
   },
   "source": [
    "\n",
    "### Solutions \n",
    "\n",
    "For the first problem, we first create a dictionary to count frequency of each character. And then we pick the odd numbers:"
   ]
  },
  {
   "cell_type": "code",
   "execution_count": 0,
   "metadata": {
    "application/vnd.databricks.v1+cell": {
     "cellMetadata": {
      "byteLimit": 2048000,
      "rowLimit": 10000
     },
     "inputWidgets": {},
     "nuid": "b132bf53-64ff-4c3c-a07b-7fb54ebdc067",
     "showTitle": false,
     "title": ""
    }
   },
   "outputs": [
    {
     "output_type": "stream",
     "name": "stdout",
     "output_type": "stream",
     "text": [
      "{'g': 2, 'e': 4, 'k': 2, 'f': 1, 'o': 1, 'r': 1, 's': 1}\nOut[1]: {'f': 1, 'o': 1, 'r': 1, 's': 1}"
     ]
    }
   ],
   "source": [
    "s = \"geekforgeeks\"\n",
    "\n",
    "d = {}\n",
    "for k in s:\n",
    "    d[k] = d.get(k, 0) + 1 # the syntax is d.get(_keyname_, _value_)\n",
    "print(d)\n",
    "\n",
    "result = {k: v for k, v in d.items() if v % 2 != 0}\n",
    "result"
   ]
  },
  {
   "cell_type": "markdown",
   "metadata": {
    "application/vnd.databricks.v1+cell": {
     "cellMetadata": {
      "byteLimit": 2048000,
      "rowLimit": 10000
     },
     "inputWidgets": {},
     "nuid": "b0118804-79b0-4e62-9e6f-951723f12810",
     "showTitle": false,
     "title": ""
    }
   },
   "source": [
    "\n",
    "For problem 2, we will give 3 examples:"
   ]
  },
  {
   "cell_type": "code",
   "execution_count": 0,
   "metadata": {
    "application/vnd.databricks.v1+cell": {
     "cellMetadata": {
      "byteLimit": 2048000,
      "rowLimit": 10000
     },
     "inputWidgets": {},
     "nuid": "e1436bbe-ac91-44db-b717-e329c88204ef",
     "showTitle": false,
     "title": ""
    }
   },
   "outputs": [
    {
     "output_type": "stream",
     "name": "stdout",
     "output_type": "stream",
     "text": [
      "True\nTrue\nFalse\n"
     ]
    }
   ],
   "source": [
    "s1 = \"$300\"\n",
    "s2 = \"A & B\"\n",
    "s3 = \"buck\"\n",
    "\n",
    "def check_special(s):\n",
    "    return any(substring in s for substring in [\"&\", \"$\"])\n",
    "\n",
    "print(check_special(s1))\n",
    "print(check_special(s2))\n",
    "print(check_special(s3))"
   ]
  },
  {
   "cell_type": "markdown",
   "metadata": {
    "application/vnd.databricks.v1+cell": {
     "cellMetadata": {
      "byteLimit": 2048000,
      "rowLimit": 10000
     },
     "inputWidgets": {},
     "nuid": "7a08630a-b3e7-4352-b597-ccce494d5889",
     "showTitle": false,
     "title": ""
    }
   },
   "source": [
    "\n",
    "For problem 3, we can do the following:"
   ]
  },
  {
   "cell_type": "code",
   "execution_count": 0,
   "metadata": {
    "application/vnd.databricks.v1+cell": {
     "cellMetadata": {
      "byteLimit": 2048000,
      "rowLimit": 10000
     },
     "inputWidgets": {},
     "nuid": "0c66651b-e061-4871-b300-17f1d7bbc293",
     "showTitle": false,
     "title": ""
    }
   },
   "outputs": [
    {
     "output_type": "stream",
     "name": "stdout",
     "output_type": "stream",
     "text": [
      "Out[3]: ['GFG', 'Bst', 'f', 'r', 'g', 'ks']"
     ]
    }
   ],
   "source": [
    "s = 'GFGaBstuforigeeks'\n",
    "\n",
    "def split_on_vowels(s):\n",
    "    vowels = 'aeiouAEIOU'\n",
    "    result = []\n",
    "    word = ''\n",
    "    for char in s:\n",
    "        if char in vowels:\n",
    "            if word:\n",
    "                result.append(word)\n",
    "                word = ''\n",
    "        else:\n",
    "            word += char\n",
    "    if word:\n",
    "        result.append(word)\n",
    "    return result\n",
    "\n",
    "split_on_vowels(s) # ['GFG', 'Bst', 'f', 'r', 'g', 'ks']."
   ]
  }
 ],
 "metadata": {
  "application/vnd.databricks.v1+notebook": {
   "dashboards": [],
   "language": "python",
   "notebookMetadata": {
    "pythonIndentUnit": 4
   },
   "notebookName": "Problem 010",
   "widgets": {}
  }
 },
 "nbformat": 4,
 "nbformat_minor": 0
}
