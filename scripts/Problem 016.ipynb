{
 "cells": [
  {
   "cell_type": "markdown",
   "metadata": {
    "application/vnd.databricks.v1+cell": {
     "cellMetadata": {
      "byteLimit": 2048000,
      "rowLimit": 10000
     },
     "inputWidgets": {},
     "nuid": "61d88f57-64a6-41fc-9bc5-0a61d82db298",
     "showTitle": false,
     "title": ""
    }
   },
   "source": [
    "\n",
    "### Problem\n",
    "\n",
    "Given an integer array `nums` of length \\\\(n\\\\) and an integer `target`, find three integers in `nums` such that the sum is closest to `target`. For the result, return the sum of the three integers."
   ]
  },
  {
   "cell_type": "code",
   "execution_count": 0,
   "metadata": {
    "application/vnd.databricks.v1+cell": {
     "cellMetadata": {
      "byteLimit": 2048000,
      "rowLimit": 10000
     },
     "inputWidgets": {},
     "nuid": "d5ea8097-005b-4600-a40e-81df0580a7e3",
     "showTitle": false,
     "title": ""
    }
   },
   "outputs": [],
   "source": [
    "from itertools import combinations"
   ]
  },
  {
   "cell_type": "code",
   "execution_count": 0,
   "metadata": {
    "application/vnd.databricks.v1+cell": {
     "cellMetadata": {
      "byteLimit": 2048000,
      "rowLimit": 10000
     },
     "inputWidgets": {},
     "nuid": "7948b8af-d3f1-4b73-b54d-f00562cd3148",
     "showTitle": false,
     "title": ""
    }
   },
   "outputs": [],
   "source": [
    "nums = [1,2,3,4]\n",
    "r = 3\n",
    "target = 10"
   ]
  },
  {
   "cell_type": "code",
   "execution_count": 0,
   "metadata": {
    "application/vnd.databricks.v1+cell": {
     "cellMetadata": {
      "byteLimit": 2048000,
      "rowLimit": 10000
     },
     "inputWidgets": {},
     "nuid": "35e298cb-12e2-4039-b8b4-e0f1c188b419",
     "showTitle": false,
     "title": ""
    }
   },
   "outputs": [
    {
     "output_type": "stream",
     "name": "stdout",
     "output_type": "stream",
     "text": [
      "[6, 7, 8, 9]\n9\n"
     ]
    }
   ],
   "source": [
    "def list_combinations(l, r):\n",
    "    comb = combinations(l, r) \n",
    "    c = list(comb)\n",
    "    return [sum(c[i]) for i in range(len(c))]\n",
    "\n",
    "c = list_combinations(l=nums, r=r)\n",
    "print(c)\n",
    "\n",
    "closest_to_target = min(c, key=lambda x: abs(x-10))\n",
    "print(closest_to_target)"
   ]
  },
  {
   "cell_type": "markdown",
   "metadata": {
    "application/vnd.databricks.v1+cell": {
     "cellMetadata": {
      "byteLimit": 2048000,
      "rowLimit": 10000
     },
     "inputWidgets": {},
     "nuid": "3d501b17-24ab-43c1-994b-20daeb2f05ed",
     "showTitle": false,
     "title": ""
    }
   },
   "source": [
    "\n",
    "Here is an alternative solution according to ChatGPT:"
   ]
  },
  {
   "cell_type": "code",
   "execution_count": 0,
   "metadata": {
    "application/vnd.databricks.v1+cell": {
     "cellMetadata": {
      "byteLimit": 2048000,
      "rowLimit": 10000
     },
     "inputWidgets": {},
     "nuid": "09ba519b-ad9c-4937-922d-301a6664c957",
     "showTitle": false,
     "title": ""
    }
   },
   "outputs": [
    {
     "output_type": "stream",
     "name": "stdout",
     "output_type": "stream",
     "text": [
      "Out[69]: 9"
     ]
    }
   ],
   "source": [
    "def threeSumClosest(nums, target):\n",
    "    nums.sort()\n",
    "    closest_sum = float('inf')  # initializing the result to a large value\n",
    "    \n",
    "    for i in range(len(nums) - 2):\n",
    "        left, right = i + 1, len(nums) - 1  # Using two pointers\n",
    "        \n",
    "        while left < right:\n",
    "            current_sum = nums[i] + nums[left] + nums[right]\n",
    "        \n",
    "            if current_sum == target: # if the current sum is equal to the target, return the target\n",
    "                return target\n",
    "            \n",
    "            if abs(target - current_sum) < abs(target - closest_sum): # if the current sum is closer to the target than the previously recorded sum\n",
    "                closest_sum = current_sum\n",
    "                \n",
    "            if current_sum < target: # adjusting pointers\n",
    "                left += 1\n",
    "            else:\n",
    "                right -= 1\n",
    "                \n",
    "    return closest_sum\n",
    "\n",
    "threeSumClosest(nums, target)"
   ]
  }
 ],
 "metadata": {
  "application/vnd.databricks.v1+notebook": {
   "dashboards": [],
   "language": "python",
   "notebookMetadata": {
    "pythonIndentUnit": 4
   },
   "notebookName": "Problem 016",
   "widgets": {}
  }
 },
 "nbformat": 4,
 "nbformat_minor": 0
}
