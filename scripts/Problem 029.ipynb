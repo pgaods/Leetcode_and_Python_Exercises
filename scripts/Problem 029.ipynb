{
 "cells": [
  {
   "cell_type": "markdown",
   "metadata": {
    "application/vnd.databricks.v1+cell": {
     "cellMetadata": {
      "byteLimit": 2048000,
      "rowLimit": 10000
     },
     "inputWidgets": {},
     "nuid": "6ec4203a-bcdc-435f-b71e-42e13b432430",
     "showTitle": false,
     "title": ""
    }
   },
   "source": [
    "\n",
    "### Problem \n",
    "\n",
    "Given two positive integers  a and b, divide two integers b/a without using multiplication, division, and mod operator. The integer division should truncate toward zero, which means losing its fractional part. For example, 8.345 would be truncated to 8, and -2.7335 would be truncated to -2. Write a function to return the quotient. "
   ]
  },
  {
   "cell_type": "markdown",
   "metadata": {
    "application/vnd.databricks.v1+cell": {
     "cellMetadata": {
      "byteLimit": 2048000,
      "rowLimit": 10000
     },
     "inputWidgets": {},
     "nuid": "de626582-e518-416b-b112-dd37a5667547",
     "showTitle": false,
     "title": ""
    }
   },
   "source": [
    "\n",
    "### Solution\n",
    "\n",
    "We will need loops for this problem. "
   ]
  },
  {
   "cell_type": "code",
   "execution_count": 0,
   "metadata": {
    "application/vnd.databricks.v1+cell": {
     "cellMetadata": {
      "byteLimit": 2048000,
      "rowLimit": 10000
     },
     "inputWidgets": {},
     "nuid": "911f9f17-a534-408e-a9e5-a54c139f057d",
     "showTitle": false,
     "title": ""
    }
   },
   "outputs": [
    {
     "output_type": "stream",
     "name": "stdout",
     "output_type": "stream",
     "text": [
      "Out[28]: 3"
     ]
    }
   ],
   "source": [
    "b = 15.54\n",
    "a = 4\n",
    "\n",
    "def int_division(a, b):\n",
    "    if a == 0:  # handling division by zero\n",
    "        return \"Division by zero is not allowed\"\n",
    "\n",
    "    quotient = 0\n",
    "    while b >= a:\n",
    "        b -= a # same as b = b - a\n",
    "        quotient += 1\n",
    "    return quotient\n",
    "\n",
    "int_division(a, b)"
   ]
  },
  {
   "cell_type": "code",
   "execution_count": 0,
   "metadata": {
    "application/vnd.databricks.v1+cell": {
     "cellMetadata": {
      "byteLimit": 2048000,
      "rowLimit": 10000
     },
     "inputWidgets": {},
     "nuid": "2c6a49c0-a135-449c-add1-5764dea91c3f",
     "showTitle": false,
     "title": ""
    }
   },
   "outputs": [],
   "source": []
  }
 ],
 "metadata": {
  "application/vnd.databricks.v1+notebook": {
   "dashboards": [],
   "language": "python",
   "notebookMetadata": {
    "pythonIndentUnit": 4
   },
   "notebookName": "Problem 029",
   "widgets": {}
  }
 },
 "nbformat": 4,
 "nbformat_minor": 0
}
