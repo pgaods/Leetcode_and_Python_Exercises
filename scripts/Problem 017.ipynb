{
 "cells": [
  {
   "cell_type": "markdown",
   "metadata": {
    "application/vnd.databricks.v1+cell": {
     "cellMetadata": {
      "byteLimit": 2048000,
      "rowLimit": 10000
     },
     "inputWidgets": {},
     "nuid": "8fb741dd-0466-4430-957a-757b56ce271a",
     "showTitle": false,
     "title": ""
    }
   },
   "source": [
    "\n",
    "### Problems\n",
    "\n",
    "   1. Print numbers with commas as 1000 separators in Python. For example, if we have a string 100000, we need to change it to 100,000. If we are given an integer, we should print numbers with commas. \n",
    "   2. Print numbers of leap years from given list of years. Recall a leap year happens once every four years. "
   ]
  },
  {
   "cell_type": "markdown",
   "metadata": {
    "application/vnd.databricks.v1+cell": {
     "cellMetadata": {
      "byteLimit": 2048000,
      "rowLimit": 10000
     },
     "inputWidgets": {},
     "nuid": "b1fb3dd5-3e75-4b48-8d90-eb3f4b9bb478",
     "showTitle": false,
     "title": ""
    }
   },
   "source": [
    "\n",
    "### Solution 1\n",
    "\n",
    "We will need to break it down to 2 cases: when the input is a string, and when the input is a numeric number (int)."
   ]
  },
  {
   "cell_type": "code",
   "execution_count": 0,
   "metadata": {
    "application/vnd.databricks.v1+cell": {
     "cellMetadata": {
      "byteLimit": 2048000,
      "rowLimit": 10000
     },
     "inputWidgets": {},
     "nuid": "0f422869-e450-4129-aff3-b96f61fa4f9b",
     "showTitle": false,
     "title": ""
    }
   },
   "outputs": [],
   "source": [
    "a1 = \"987654321\" # desired output: 987,654,321\n",
    "a2 = 987654321"
   ]
  },
  {
   "cell_type": "code",
   "execution_count": 0,
   "metadata": {
    "application/vnd.databricks.v1+cell": {
     "cellMetadata": {
      "byteLimit": 2048000,
      "rowLimit": 10000
     },
     "inputWidgets": {},
     "nuid": "3535ae33-d832-4d82-ab99-02ea5074dd7c",
     "showTitle": false,
     "title": ""
    }
   },
   "outputs": [
    {
     "output_type": "stream",
     "name": "stdout",
     "output_type": "stream",
     "text": [
      "987,654,321\n987,654,321\nError! The input needs to be either an integer or a string\n"
     ]
    }
   ],
   "source": [
    "def format_numbers(x):\n",
    "  try:\n",
    "    if isinstance(x, str):\n",
    "      integer = int(s)\n",
    "    elif isinstance(x, int):\n",
    "      integer = x\n",
    "  \n",
    "    formatted_number = \"{:,}\".format(integer) # this is a string\n",
    "    return formatted_number\n",
    "  \n",
    "  except Exception as e:\n",
    "      print(\"Error! The input needs to be either an integer or a string\")\n",
    "      # raise TypeError\n",
    "\n",
    "print(format_numbers(a1))\n",
    "print(format_numbers(a2))\n",
    "format_numbers([3])"
   ]
  },
  {
   "cell_type": "markdown",
   "metadata": {
    "application/vnd.databricks.v1+cell": {
     "cellMetadata": {},
     "inputWidgets": {},
     "nuid": "15bdd91b-f9b3-405a-8b7a-097a11154014",
     "showTitle": false,
     "title": ""
    }
   },
   "source": [
    "\n",
    "### Solution 2\n",
    "\n",
    "A leap year is defined a bit more specifically: it is divisible by 4. Additionally, if it's divisible by 100, it should also be divisible by 400 to be a leap year."
   ]
  },
  {
   "cell_type": "code",
   "execution_count": 0,
   "metadata": {
    "application/vnd.databricks.v1+cell": {
     "cellMetadata": {
      "byteLimit": 2048000,
      "rowLimit": 10000
     },
     "inputWidgets": {},
     "nuid": "423e6de2-d4d6-40ee-92b7-0bc64604998d",
     "showTitle": false,
     "title": ""
    }
   },
   "outputs": [
    {
     "output_type": "stream",
     "name": "stdout",
     "output_type": "stream",
     "text": [
      "This is a leap year: 2000\nThis is a leap year: 2004\nThis is a leap year: 2400\n"
     ]
    }
   ],
   "source": [
    "def is_leap_year(year):\n",
    "    if year % 4 != 0: \n",
    "        return False\n",
    "    elif year % 100 != 0:\n",
    "        return True\n",
    "    elif year % 400 != 0:\n",
    "        return False\n",
    "    else:\n",
    "        return True\n",
    "\n",
    "years = [2000, 2001, 2002, 2003, 2004, 2005, 2006, 2007, 2100, 2400]\n",
    "\n",
    "for year in years:\n",
    "    if is_leap_year(year):\n",
    "        print(\"This is a leap year:\", year)"
   ]
  }
 ],
 "metadata": {
  "application/vnd.databricks.v1+notebook": {
   "dashboards": [],
   "language": "python",
   "notebookMetadata": {
    "pythonIndentUnit": 4
   },
   "notebookName": "Problem 017",
   "widgets": {}
  }
 },
 "nbformat": 4,
 "nbformat_minor": 0
}
