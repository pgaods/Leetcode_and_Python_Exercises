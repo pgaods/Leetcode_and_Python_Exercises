{
 "cells": [
  {
   "cell_type": "markdown",
   "metadata": {
    "application/vnd.databricks.v1+cell": {
     "cellMetadata": {},
     "inputWidgets": {},
     "nuid": "1c08729d-32d9-4a8b-b2e5-9c1378e3f572",
     "showTitle": false,
     "title": ""
    }
   },
   "source": [
    "\n",
    "### Problems\n",
    "\n",
    "We focus on nested structures of lists or dictionaries:\n",
    "\n",
    "   1. Given a dictionary with nested dictionaries as values, extract all the values with of particular key. For example, suppose we have a dictionary d = {'PGZ' : {'a' : 7, 'b' : 9, 'c' : 12}, 'is' : {'a' : 15, 'b': 19, 'c': 20}, 'best' :{'a' : 5, 'b' : 10, 'c': 2}}, where we want all the elements from 'b' within each dictionary. The desired output is a list [9, 19, 10].\n",
    "   2. Suppose we have a list of lists a = [[3,2,4], [1,4,5,9], [0,12]] where each element is another list of variable length. Obtain a new list that picks the maximum for each sublist as their values (so the answer would be [4, 9, 12])."
   ]
  },
  {
   "cell_type": "markdown",
   "metadata": {
    "application/vnd.databricks.v1+cell": {
     "cellMetadata": {},
     "inputWidgets": {},
     "nuid": "9ad14d48-32f7-465d-aae7-d39b7487ba25",
     "showTitle": false,
     "title": ""
    }
   },
   "source": [
    "\n",
    "### Solutions\n",
    "\n",
    "For the first problem, here is the solution:"
   ]
  },
  {
   "cell_type": "code",
   "execution_count": 0,
   "metadata": {
    "application/vnd.databricks.v1+cell": {
     "cellMetadata": {
      "byteLimit": 2048000,
      "rowLimit": 10000
     },
     "inputWidgets": {},
     "nuid": "54461aa0-e0ed-44ee-af23-bab5c8c898ea",
     "showTitle": false,
     "title": ""
    }
   },
   "outputs": [
    {
     "output_type": "stream",
     "name": "stdout",
     "output_type": "stream",
     "text": [
      "[9, 19, 10]\n"
     ]
    }
   ],
   "source": [
    "d = {'PGZ' : {'a' : 7, 'b' : 9, 'c' : 12}, 'is' : {'a' : 15, 'b': 19, 'c': 20}, 'best' :{'a' : 5, 'b' : 10, 'c': 2}}\n",
    "\n",
    "mylist = list(d.values())\n",
    "result = [j.get('b') for j in mylist]\n",
    "print(result)"
   ]
  },
  {
   "cell_type": "markdown",
   "metadata": {
    "application/vnd.databricks.v1+cell": {
     "cellMetadata": {
      "byteLimit": 2048000,
      "rowLimit": 10000
     },
     "inputWidgets": {},
     "nuid": "c9947bd7-5d76-4933-bf31-7b8ca7042d86",
     "showTitle": false,
     "title": ""
    }
   },
   "source": [
    "\n",
    "Now lets solve problem 2:"
   ]
  },
  {
   "cell_type": "code",
   "execution_count": 0,
   "metadata": {
    "application/vnd.databricks.v1+cell": {
     "cellMetadata": {
      "byteLimit": 2048000,
      "rowLimit": 10000
     },
     "inputWidgets": {},
     "nuid": "f49d79b5-3ec4-4b8b-9e3a-f1106289bc88",
     "showTitle": false,
     "title": ""
    }
   },
   "outputs": [
    {
     "output_type": "stream",
     "name": "stdout",
     "output_type": "stream",
     "text": [
      "[4, 9, 12]\n"
     ]
    }
   ],
   "source": [
    "a = [[3,2,4], [1,4,5,9], [0,12]]\n",
    "\n",
    "result = [max(j) for j in a]\n",
    "print(result)"
   ]
  }
 ],
 "metadata": {
  "application/vnd.databricks.v1+notebook": {
   "dashboards": [],
   "language": "python",
   "notebookMetadata": {
    "pythonIndentUnit": 4
   },
   "notebookName": "Problem 007",
   "widgets": {}
  }
 },
 "nbformat": 4,
 "nbformat_minor": 0
}
