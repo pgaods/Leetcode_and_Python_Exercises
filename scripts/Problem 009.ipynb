{
 "cells": [
  {
   "cell_type": "markdown",
   "metadata": {
    "application/vnd.databricks.v1+cell": {
     "cellMetadata": {},
     "inputWidgets": {},
     "nuid": "dea6b50c-485b-4ce7-a66f-7b887671923e",
     "showTitle": false,
     "title": ""
    }
   },
   "source": [
    "\n",
    "### Problems\n",
    "\n",
    "In this problem sets, we focus on studying the map() function. \n",
    "\n",
    "   1. Write a Python program to triple all numbers in a given list of integers. Use Python map().\n",
    "   2. Write a Python program to compute the square of the first 13 Fibonacci numbers, using the map() function and generate a list of the numbers. The first 13 Fibonacci sequence is 0, 1, 1, 2, 3, 5, 8, 13, 21, 34, 55, 89, 144. Recall that the Fibonacci sequence is a sequence in which each number is the sum of the two preceding ones."
   ]
  },
  {
   "cell_type": "markdown",
   "metadata": {
    "application/vnd.databricks.v1+cell": {
     "cellMetadata": {},
     "inputWidgets": {},
     "nuid": "c735f484-2754-4f92-a50e-8c8527edd84d",
     "showTitle": false,
     "title": ""
    }
   },
   "source": [
    "\n",
    "### Solutions\n",
    "\n",
    "Let's solve the first problem. You can think of the map() function as apply(), basically applying a function to an object (usualy a list or iterables). The output is a map object, so it needs to be turned into an iterable (like list):"
   ]
  },
  {
   "cell_type": "code",
   "execution_count": 0,
   "metadata": {
    "application/vnd.databricks.v1+cell": {
     "cellMetadata": {
      "byteLimit": 2048000,
      "rowLimit": 10000
     },
     "inputWidgets": {},
     "nuid": "2bbcdf6b-574d-4ed1-a2e4-aa7363cbb4dc",
     "showTitle": false,
     "title": ""
    }
   },
   "outputs": [
    {
     "output_type": "stream",
     "name": "stdout",
     "output_type": "stream",
     "text": [
      "Out[3]: [9, 6, 12]"
     ]
    }
   ],
   "source": [
    "l1 = [3, 2, 4]\n",
    "l2 = list(map(lambda x: 3*x, l1)) # desired output: [9, 6, 12]\n",
    "l2"
   ]
  },
  {
   "cell_type": "markdown",
   "metadata": {
    "application/vnd.databricks.v1+cell": {
     "cellMetadata": {},
     "inputWidgets": {},
     "nuid": "e1a962fb-2c93-4be1-82cc-44561427503b",
     "showTitle": false,
     "title": ""
    }
   },
   "source": [
    "\n",
    "For the second question, we need to generate the Fibonacci sequence first."
   ]
  },
  {
   "cell_type": "code",
   "execution_count": 0,
   "metadata": {
    "application/vnd.databricks.v1+cell": {
     "cellMetadata": {
      "byteLimit": 2048000,
      "rowLimit": 10000
     },
     "inputWidgets": {},
     "nuid": "64121cab-b869-4e54-b803-f7e59c6cae3f",
     "showTitle": false,
     "title": ""
    }
   },
   "outputs": [
    {
     "output_type": "stream",
     "name": "stdout",
     "output_type": "stream",
     "text": [
      "[0, 1, 1, 4, 9, 25, 64, 169, 441, 1156, 3025, 7921, 20736]\n"
     ]
    }
   ],
   "source": [
    "def fibonacci(n):\n",
    "    \"\"\"Generate the first n Fibonacci numbers.\"\"\"\n",
    "    fib_sequence = [0, 1]\n",
    "    for _ in range(2, n): # 2,3,4,...n-1\n",
    "        fib_sequence.append(fib_sequence[-1] + fib_sequence[-2])\n",
    "    return fib_sequence\n",
    "\n",
    "first_13_fib = fibonacci(13) # generating the first 13 Fibonacci numbers\n",
    "\n",
    "squared_fib = list(map(lambda x: x**2, first_13_fib))\n",
    "\n",
    "print(squared_fib)"
   ]
  },
  {
   "cell_type": "markdown",
   "metadata": {
    "application/vnd.databricks.v1+cell": {
     "cellMetadata": {},
     "inputWidgets": {},
     "nuid": "089d1e23-ffe4-436d-a966-b689553a8913",
     "showTitle": false,
     "title": ""
    }
   },
   "source": [
    "\n",
    "In the given code above, the _ (underscore) is a convention used for a variable that you're not going to use later. It's often used as a \"throwaway\" variable."
   ]
  }
 ],
 "metadata": {
  "application/vnd.databricks.v1+notebook": {
   "dashboards": [],
   "language": "python",
   "notebookMetadata": {
    "pythonIndentUnit": 4
   },
   "notebookName": "Problem 009",
   "widgets": {}
  }
 },
 "nbformat": 4,
 "nbformat_minor": 0
}
