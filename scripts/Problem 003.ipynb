{
 "cells": [
  {
   "cell_type": "markdown",
   "metadata": {
    "application/vnd.databricks.v1+cell": {
     "cellMetadata": {
      "byteLimit": 2048000,
      "rowLimit": 10000
     },
     "inputWidgets": {},
     "nuid": "f9fd01e8-350b-48c6-8eb2-b1059607acf3",
     "showTitle": false,
     "title": ""
    }
   },
   "source": [
    "\n",
    "### Problem \n",
    "\n",
    "Given a string `s`, find the length of the longest substring without repeating characters."
   ]
  },
  {
   "cell_type": "markdown",
   "metadata": {
    "application/vnd.databricks.v1+cell": {
     "cellMetadata": {
      "byteLimit": 2048000,
      "rowLimit": 10000
     },
     "inputWidgets": {},
     "nuid": "1b3ecde7-ce6c-46f9-bae8-b2449f6d64e0",
     "showTitle": false,
     "title": ""
    }
   },
   "source": [
    "\n",
    "### Solution\n",
    "\n",
    "We can break the problem into 3 steps. The first step is to create a list whose elements are all substrings of the current string `s`. Then in the second step, we pick the elements in this list that have no repeating characters. In step 3, find the length of the longest substring without repeating characters in this current list by taking the maximum value of the list."
   ]
  },
  {
   "cell_type": "code",
   "execution_count": 0,
   "metadata": {
    "application/vnd.databricks.v1+cell": {
     "cellMetadata": {
      "byteLimit": 2048000,
      "rowLimit": 10000
     },
     "inputWidgets": {},
     "nuid": "d9bf4e65-92da-45d0-b203-cc86806c6426",
     "showTitle": false,
     "title": ""
    }
   },
   "outputs": [],
   "source": [
    "def define_substrings(s): # step 1\n",
    "    n = len(s)\n",
    "    subs = []\n",
    "    for i in range(n):\n",
    "        for j in range(i+1, n+1):\n",
    "            subs.append(s[i:j])\n",
    "    return subs\n",
    "\n",
    "def filter_non_repeating(mylist): # step 2\n",
    "    return [word for word in mylist if len(word) == len(set(word))]\n",
    "\n",
    "def apply_maxlen(lst): # step 3\n",
    "    return max(list(map(len, lst)))"
   ]
  },
  {
   "cell_type": "markdown",
   "metadata": {
    "application/vnd.databricks.v1+cell": {
     "cellMetadata": {
      "byteLimit": 2048000,
      "rowLimit": 10000
     },
     "inputWidgets": {},
     "nuid": "c9bd3ce8-0d5d-4d71-95d4-87530f923e7e",
     "showTitle": false,
     "title": ""
    }
   },
   "source": [
    "\n",
    "Let's test the code:"
   ]
  },
  {
   "cell_type": "code",
   "execution_count": 0,
   "metadata": {
    "application/vnd.databricks.v1+cell": {
     "cellMetadata": {
      "byteLimit": 2048000,
      "rowLimit": 10000
     },
     "inputWidgets": {},
     "nuid": "c1b51360-1e52-4a60-ad76-fdd893895926",
     "showTitle": false,
     "title": ""
    }
   },
   "outputs": [
    {
     "output_type": "stream",
     "name": "stdout",
     "output_type": "stream",
     "text": [
      "['a', 'ab', 'abc', 'abca', 'abcab', 'abcabc', 'abcabcd', 'abcabcdb', 'abcabcdbb', 'b', 'bc', 'bca', 'bcab', 'bcabc', 'bcabcd', 'bcabcdb', 'bcabcdbb', 'c', 'ca', 'cab', 'cabc', 'cabcd', 'cabcdb', 'cabcdbb', 'a', 'ab', 'abc', 'abcd', 'abcdb', 'abcdbb', 'b', 'bc', 'bcd', 'bcdb', 'bcdbb', 'c', 'cd', 'cdb', 'cdbb', 'd', 'db', 'dbb', 'b', 'bb', 'b']\n['a', 'ab', 'abc', 'b', 'bc', 'bca', 'c', 'ca', 'cab', 'a', 'ab', 'abc', 'abcd', 'b', 'bc', 'bcd', 'c', 'cd', 'cdb', 'd', 'db', 'b', 'b']\nFinal answer: 4\n"
     ]
    }
   ],
   "source": [
    "s = \"abcabcdbb\"\n",
    "mylist = define_substrings(s)\n",
    "print(mylist)\n",
    "mylist2 = filter_non_repeating(mylist)\n",
    "print(mylist2)\n",
    "result = apply_maxlen(mylist2)\n",
    "print(\"Final answer:\", result)"
   ]
  },
  {
   "cell_type": "markdown",
   "metadata": {
    "application/vnd.databricks.v1+cell": {
     "cellMetadata": {
      "byteLimit": 2048000,
      "rowLimit": 10000
     },
     "inputWidgets": {},
     "nuid": "1f1e1d24-ef4c-4394-9328-891617f1159d",
     "showTitle": false,
     "title": ""
    }
   },
   "source": [
    "\n",
    "Note that the map() function is a built-in Python function used to apply a specified function to all the items of an input list (or any iterable). The syntax is:\n",
    "\n",
    "     > map(function, iterable, ...)\n",
    "\n",
    "Here are some examples of using the map() function:"
   ]
  },
  {
   "cell_type": "code",
   "execution_count": 0,
   "metadata": {
    "application/vnd.databricks.v1+cell": {
     "cellMetadata": {
      "byteLimit": 2048000,
      "rowLimit": 10000
     },
     "inputWidgets": {},
     "nuid": "7d668f87-f93c-421b-933b-dbc1b5d325bf",
     "showTitle": false,
     "title": ""
    }
   },
   "outputs": [
    {
     "output_type": "stream",
     "name": "stdout",
     "output_type": "stream",
     "text": [
      "[5, 6, 6]\n[1, 4, 9, 16, 25]\n[5, 7, 9]\n['HELLO', 'WORLD', 'PYTHON']\n"
     ]
    }
   ],
   "source": [
    "words = [\"apple\", \"banana\", \"cherry\"]\n",
    "lengths = list(map(len, words))\n",
    "print(lengths)  # Output: [5, 6, 6]\n",
    "\n",
    "numbers = [1, 2, 3, 4, 5]\n",
    "squared = list(map(lambda x: x**2, numbers))\n",
    "print(squared)  # Output: [1, 4, 9, 16, 25]\n",
    "\n",
    "list1 = [1, 2, 3]\n",
    "list2 = [4, 5, 6]\n",
    "result = list(map(lambda x, y: x + y, list1, list2))\n",
    "print(result)  # Output: [5, 7, 9]\n",
    "\n",
    "words = [\"hello\", \"world\", \"python\"]\n",
    "uppercased = list(map(str.upper, words))\n",
    "print(uppercased)  # Output: ['HELLO', 'WORLD', 'PYTHON']"
   ]
  },
  {
   "cell_type": "markdown",
   "metadata": {
    "application/vnd.databricks.v1+cell": {
     "cellMetadata": {
      "byteLimit": 2048000,
      "rowLimit": 10000
     },
     "inputWidgets": {},
     "nuid": "a6b78634-d1ef-443e-9e43-dac4a53fb2dc",
     "showTitle": false,
     "title": ""
    }
   },
   "source": [
    "\n",
    "### Alternative Solution\n",
    "\n",
    "This is based on the GPT solution. We use the sliding window approach. The idea is to maintain a window of unique characters and slide it over the string."
   ]
  },
  {
   "cell_type": "code",
   "execution_count": 0,
   "metadata": {
    "application/vnd.databricks.v1+cell": {
     "cellMetadata": {
      "byteLimit": 2048000,
      "rowLimit": 10000
     },
     "inputWidgets": {},
     "nuid": "f0a6be9e-dd67-4925-a5b7-b19847e522e8",
     "showTitle": false,
     "title": ""
    }
   },
   "outputs": [],
   "source": [
    "def length_of_longest_substring(s: str) -> int:\n",
    "    n = len(s)\n",
    "    if n == 0:\n",
    "        return 0\n",
    "\n",
    "    left, right = 0, 0  # initializing pointers for the sliding window\n",
    "    char_set = set()    # a set to store characters of the current substring\n",
    "    max_len = 0         # to store the length of the longest substring\n",
    "\n",
    "    while right < n:\n",
    "        if s[right] not in char_set:\n",
    "            char_set.add(s[right])\n",
    "            max_len = max(max_len, right - left + 1)\n",
    "            right += 1\n",
    "        else:\n",
    "            char_set.remove(s[left])\n",
    "            left += 1\n",
    "\n",
    "    return max_len"
   ]
  },
  {
   "cell_type": "markdown",
   "metadata": {
    "application/vnd.databricks.v1+cell": {
     "cellMetadata": {
      "byteLimit": 2048000,
      "rowLimit": 10000
     },
     "inputWidgets": {},
     "nuid": "55b4d69d-9690-46d4-9ad5-3d05c1be1864",
     "showTitle": false,
     "title": ""
    }
   },
   "source": [
    "\n",
    "Let's test the code:"
   ]
  },
  {
   "cell_type": "code",
   "execution_count": 0,
   "metadata": {
    "application/vnd.databricks.v1+cell": {
     "cellMetadata": {
      "byteLimit": 2048000,
      "rowLimit": 10000
     },
     "inputWidgets": {},
     "nuid": "3abd7aca-b53e-43e7-bd88-01b79d271852",
     "showTitle": false,
     "title": ""
    }
   },
   "outputs": [
    {
     "output_type": "stream",
     "name": "stdout",
     "output_type": "stream",
     "text": [
      "4\n"
     ]
    }
   ],
   "source": [
    "s = \"abcabcdbb\"\n",
    "print(length_of_longest_substring(s))  # Expected output: 4"
   ]
  }
 ],
 "metadata": {
  "application/vnd.databricks.v1+notebook": {
   "dashboards": [],
   "language": "python",
   "notebookMetadata": {
    "pythonIndentUnit": 4
   },
   "notebookName": "Problem 003",
   "widgets": {}
  }
 },
 "nbformat": 4,
 "nbformat_minor": 0
}
