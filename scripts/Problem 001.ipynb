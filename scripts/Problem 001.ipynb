{
 "cells": [
  {
   "cell_type": "markdown",
   "metadata": {
    "application/vnd.databricks.v1+cell": {
     "cellMetadata": {},
     "inputWidgets": {},
     "nuid": "c6390dbb-faba-4cd7-a6cd-c412f994ebfc",
     "showTitle": false,
     "title": ""
    }
   },
   "source": [
    "\n",
    "### Problem \n",
    "\n",
    "Given an array of integers `nums` and an integer `target`, return indices of the two numbers such that they add up to `target`.\n",
    "\n",
    "You may assume that each input would have exactly one solution, and you may not use the same element twice. You can return the answer in any order."
   ]
  },
  {
   "cell_type": "markdown",
   "metadata": {
    "application/vnd.databricks.v1+cell": {
     "cellMetadata": {},
     "inputWidgets": {},
     "nuid": "d7d26230-fe25-42d3-94ee-6c2e7ffcd4fb",
     "showTitle": false,
     "title": ""
    }
   },
   "source": [
    "\n",
    "### Solution\n",
    "\n",
    "The idea is to use an intermediary step called `complement` s.t. this number is the difference between `target` and the index of the object `num`:"
   ]
  },
  {
   "cell_type": "code",
   "execution_count": 0,
   "metadata": {
    "application/vnd.databricks.v1+cell": {
     "cellMetadata": {
      "byteLimit": 2048000,
      "rowLimit": 10000
     },
     "inputWidgets": {},
     "nuid": "24a9df56-76ec-42bd-ad48-623c1ca72be2",
     "showTitle": false,
     "title": ""
    }
   },
   "outputs": [],
   "source": [
    "def two_sum(nums, target):\n",
    "    \"\"\"\n",
    "    Given an array of integers `nums` and an integer `target`, return indices of the two numbers such that they add up to `target`.\n",
    "    \"\"\"\n",
    "    seen = {}  # dictionary to store value:index pairs\n",
    "\n",
    "    for index, num in enumerate(nums):\n",
    "        complement = target - num\n",
    "\n",
    "        if complement in seen:  # if the complementary number is already seen\n",
    "            return [seen[complement], index]  # return its index and the current number's index\n",
    "\n",
    "        seen[num] = index  # store the current number and its index\n",
    "        print(\"seen: \", seen)\n",
    "\n",
    "    # Since the problem assumes there's always a solution, we won't reach this line; but, just for completeness:\n",
    "    return None"
   ]
  },
  {
   "cell_type": "markdown",
   "metadata": {
    "application/vnd.databricks.v1+cell": {
     "cellMetadata": {},
     "inputWidgets": {},
     "nuid": "d2b759b0-53db-4c54-bb5f-245264175439",
     "showTitle": false,
     "title": ""
    }
   },
   "source": [
    "\n",
    "Let's test it:"
   ]
  },
  {
   "cell_type": "code",
   "execution_count": 0,
   "metadata": {
    "application/vnd.databricks.v1+cell": {
     "cellMetadata": {
      "byteLimit": 2048000,
      "rowLimit": 10000
     },
     "inputWidgets": {},
     "nuid": "41335c0c-9144-4f1c-ac37-e8945f550245",
     "showTitle": false,
     "title": ""
    }
   },
   "outputs": [
    {
     "output_type": "stream",
     "name": "stdout",
     "output_type": "stream",
     "text": [
      "seen:  {2: 0}\nseen:  {2: 0, 7: 1}\nseen:  {2: 0, 7: 1, 11: 2}\n[2, 3]\n"
     ]
    }
   ],
   "source": [
    "nums = [2, 7, 11, 15]\n",
    "target = 26\n",
    "print(two_sum(nums, target))  # expected output: [2, 3]"
   ]
  }
 ],
 "metadata": {
  "application/vnd.databricks.v1+notebook": {
   "dashboards": [],
   "language": "python",
   "notebookMetadata": {
    "pythonIndentUnit": 4
   },
   "notebookName": "Problem 001",
   "widgets": {}
  }
 },
 "nbformat": 4,
 "nbformat_minor": 0
}
