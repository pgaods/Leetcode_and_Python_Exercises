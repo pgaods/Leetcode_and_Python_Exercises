{
 "cells": [
  {
   "cell_type": "markdown",
   "metadata": {
    "application/vnd.databricks.v1+cell": {
     "cellMetadata": {
      "byteLimit": 2048000,
      "rowLimit": 10000
     },
     "inputWidgets": {},
     "nuid": "9d7dce4c-fda0-4ca5-82dd-7f225f4bbc9d",
     "showTitle": false,
     "title": ""
    }
   },
   "source": [
    "\n",
    "### Problems\n",
    "\n",
    "This is an exercise to train lists and dictionary. Below are the questions.\n",
    "\n",
    "   1. Suppose we have a dictionary such as d={1: 5, 2: 3, 6: 9} with positive integers to be the key, and positive integers to be the values. Find the key that corresponds to the mininum value of the values. \n",
    "   2. Suppose we have a dictionary such as d={1: 5, 2: 3, 6: 9}, turn this into a list l=[1, 5, 2, 3, 6, 9].\n",
    "   3. Suppose we have 2 dictionaries `d1` and `d2`, with their keys to be classic musical composers, and values their most famous repertoire. Find the intersection and union of these dictionaries. \n",
    "   4. Suppose we have 2 lists `l1` and `l2`, find the intersection and union of these lists.\n",
    "   5. Suppose we have a list c1 = [(1, 5), (2, 3), (6, 9)]. Create a dictionary out of it by using the second number as the value and the first number as the key (desired output: dic={1:5, 2:3, 6:9}).\n",
    "   6. Suppose we have a list c2 = [(\"a\", 1, 9), (\"b\", 4, 7)]. Create a dictionary that looks like the following: dict = {\"a\": (1, 9), \"b\": (4, 7)}.\n",
    "   7. We have a list [['a', 'b', 1, 2], ['c', 'd', 3, 4], ['e', 'f', 5, 6]]. We want to create a mapped dictionary in the following format: {('a', 'b'): (1, 2), ('c', 'd'): (3, 4), ('e', 'f'): (5, 6)};"
   ]
  },
  {
   "cell_type": "markdown",
   "metadata": {
    "application/vnd.databricks.v1+cell": {
     "cellMetadata": {
      "byteLimit": 2048000,
      "rowLimit": 10000
     },
     "inputWidgets": {},
     "nuid": "e8dac61b-a0c2-4e72-9b4a-d7498776fdd0",
     "showTitle": false,
     "title": ""
    }
   },
   "source": [
    "\n",
    "### Solutions\n",
    "\n",
    "We will solve the first 2 problems first. Recall that the main methods associated with diciontionaries are listed below:"
   ]
  },
  {
   "cell_type": "code",
   "execution_count": 0,
   "metadata": {
    "application/vnd.databricks.v1+cell": {
     "cellMetadata": {
      "byteLimit": 2048000,
      "rowLimit": 10000
     },
     "inputWidgets": {},
     "nuid": "4b78b656-25ed-4733-88c0-dc8d83048e40",
     "showTitle": false,
     "title": ""
    }
   },
   "outputs": [
    {
     "output_type": "stream",
     "name": "stdout",
     "output_type": "stream",
     "text": [
      "dict_keys([1, 2, 6])\ndict_values([5, 3, 9])\ndict_items([(1, 5), (2, 3), (6, 9)])\nOut[5]: 9"
     ]
    }
   ],
   "source": [
    "d={1: 5, 2: 3, 6: 9}\n",
    "print(d.keys())\n",
    "print(d.values())\n",
    "print(d.items())\n",
    "d.get(6)"
   ]
  },
  {
   "cell_type": "code",
   "execution_count": 0,
   "metadata": {
    "application/vnd.databricks.v1+cell": {
     "cellMetadata": {
      "byteLimit": 2048000,
      "rowLimit": 10000
     },
     "inputWidgets": {},
     "nuid": "81c47243-e8db-445d-b2c0-7286a0f2b9c2",
     "showTitle": false,
     "title": ""
    }
   },
   "outputs": [
    {
     "output_type": "stream",
     "name": "stdout",
     "output_type": "stream",
     "text": [
      "Out[6]: 2"
     ]
    }
   ],
   "source": [
    "def key_for_min_value(dic):\n",
    "    return min(dic, key=d.get)\n",
    "\n",
    "key_for_min_value(d) # problem 1: answer is 2"
   ]
  },
  {
   "cell_type": "markdown",
   "metadata": {
    "application/vnd.databricks.v1+cell": {
     "cellMetadata": {
      "byteLimit": 2048000,
      "rowLimit": 10000
     },
     "inputWidgets": {},
     "nuid": "60c57d70-0943-449f-9889-cff41e877711",
     "showTitle": false,
     "title": ""
    }
   },
   "source": [
    "\n",
    "For problem 2, we need to unpack the dictionary. The trick is to use the extend() function which is used to iterate over an iterable (string, tuple, list, set, or dictionary), and then add each element of the iterable to the end of the current list. "
   ]
  },
  {
   "cell_type": "code",
   "execution_count": 0,
   "metadata": {
    "application/vnd.databricks.v1+cell": {
     "cellMetadata": {
      "byteLimit": 2048000,
      "rowLimit": 10000
     },
     "inputWidgets": {},
     "nuid": "7aa5fbd1-fbad-473d-b41c-3ede3fea8f98",
     "showTitle": false,
     "title": ""
    }
   },
   "outputs": [
    {
     "output_type": "stream",
     "name": "stdout",
     "output_type": "stream",
     "text": [
      "[1, 5, 2, 3, 6, 9]\n"
     ]
    }
   ],
   "source": [
    "d={1: 5, 2: 3, 6: 9}\n",
    "\n",
    "result = []\n",
    "for key, value in d.items():\n",
    "    result.extend([key, value])\n",
    "\n",
    "print(result)"
   ]
  },
  {
   "cell_type": "markdown",
   "metadata": {
    "application/vnd.databricks.v1+cell": {
     "cellMetadata": {
      "byteLimit": 2048000,
      "rowLimit": 10000
     },
     "inputWidgets": {},
     "nuid": "a85b1ce9-1e16-4158-88e4-bc6bdb784558",
     "showTitle": false,
     "title": ""
    }
   },
   "source": [
    "\n",
    "Let's solve problem 3:"
   ]
  },
  {
   "cell_type": "code",
   "execution_count": 0,
   "metadata": {
    "application/vnd.databricks.v1+cell": {
     "cellMetadata": {
      "byteLimit": 2048000,
      "rowLimit": 10000
     },
     "inputWidgets": {},
     "nuid": "368396b8-d988-4bbf-b4bb-dbea1e844941",
     "showTitle": false,
     "title": ""
    }
   },
   "outputs": [
    {
     "output_type": "stream",
     "name": "stdout",
     "output_type": "stream",
     "text": [
      "{'Chopin': 'Mazurka'}\n{'Schubert': 'Music Moments', 'Debussy': 'Arabsque', 'Chopin': 'Mazurka', 'Beethoven': '32 Variations in C Minor', 'Stravinsky': 'Fire Bird', 'Bach': 'Toccata'}\n"
     ]
    }
   ],
   "source": [
    "d1= {\"Beethoven\": \"32 sonatas\", \"Chopin\": \"Mazurka\", \"Debussy\": \"Arabsque\", \"Schubert\": \"Music Moments\"}\n",
    "d2 = {\"Bach\": \"Toccata\", \"Beethoven\": \"32 Variations in C Minor\", \"Chopin\": \"Mazurka\", \"Stravinsky\": \"Fire Bird\"}\n",
    "\n",
    "d3 = dict(d1.items() & d2.items()) # intersection\n",
    "d4 = dict(d1.items() | d2.items()) # union\n",
    "print(d3)\n",
    "print(d4)"
   ]
  },
  {
   "cell_type": "markdown",
   "metadata": {
    "application/vnd.databricks.v1+cell": {
     "cellMetadata": {
      "byteLimit": 2048000,
      "rowLimit": 10000
     },
     "inputWidgets": {},
     "nuid": "97a464e3-348e-429a-b1c4-64e280a040e5",
     "showTitle": false,
     "title": ""
    }
   },
   "source": [
    "\n",
    "If we change the value of the d2, and then redo the exercise, the results will be different:"
   ]
  },
  {
   "cell_type": "code",
   "execution_count": 0,
   "metadata": {
    "application/vnd.databricks.v1+cell": {
     "cellMetadata": {
      "byteLimit": 2048000,
      "rowLimit": 10000
     },
     "inputWidgets": {},
     "nuid": "4dea805f-b751-4dc7-90a6-9812f13b133b",
     "showTitle": false,
     "title": ""
    }
   },
   "outputs": [
    {
     "output_type": "stream",
     "name": "stdout",
     "output_type": "stream",
     "text": [
      "{'Chopin': 'Mazurka', 'Beethoven': '32 sonatas'}\n{'Schubert': 'Music Moments', 'Debussy': 'Arabsque', 'Chopin': 'Mazurka', 'Beethoven': '32 sonatas', 'Stravinsky': 'Fire Bird', 'Bach': 'Toccata'}\n"
     ]
    }
   ],
   "source": [
    "d2[\"Beethoven\"] = \"32 sonatas\"\n",
    "d3 = dict(d1.items() & d2.items()) # intersection\n",
    "d4 = dict(d1.items() | d2.items()) # union\n",
    "print(d3)\n",
    "print(d4)"
   ]
  },
  {
   "cell_type": "markdown",
   "metadata": {
    "application/vnd.databricks.v1+cell": {
     "cellMetadata": {
      "byteLimit": 2048000,
      "rowLimit": 10000
     },
     "inputWidgets": {},
     "nuid": "320da56d-e793-4145-804e-c1ec2d43704b",
     "showTitle": false,
     "title": ""
    }
   },
   "source": [
    "\n",
    "Let's solve problem 4:"
   ]
  },
  {
   "cell_type": "code",
   "execution_count": 0,
   "metadata": {
    "application/vnd.databricks.v1+cell": {
     "cellMetadata": {
      "byteLimit": 2048000,
      "rowLimit": 10000
     },
     "inputWidgets": {},
     "nuid": "1334f217-192a-49ad-821b-db170f17cf00",
     "showTitle": false,
     "title": ""
    }
   },
   "outputs": [
    {
     "output_type": "stream",
     "name": "stdout",
     "output_type": "stream",
     "text": [
      "[1, 2, 5]\n[1, 2, 3, 5, 6, 9, 0, 1, 2, 5, 8]\n"
     ]
    }
   ],
   "source": [
    "l1 = [1,2,3,5,6,9]\n",
    "l2 = [0,1,2,5,8]\n",
    "\n",
    "def list_intersection(lst1, lst2):\n",
    "    lst3 = [value for value in lst1 if value in lst2]\n",
    "    return lst3\n",
    "\n",
    "def list_union(lst1, lst2): # repeated values are allowed \n",
    "    lst3 = lst1 + lst2\n",
    "    return lst3\n",
    "\n",
    "print(list_intersection(l1, l2))\n",
    "print(list_union(l1, l2))"
   ]
  },
  {
   "cell_type": "markdown",
   "metadata": {
    "application/vnd.databricks.v1+cell": {
     "cellMetadata": {
      "byteLimit": 2048000,
      "rowLimit": 10000
     },
     "inputWidgets": {},
     "nuid": "a40b5c8e-dbfa-4344-9293-3eba0fbdb05f",
     "showTitle": false,
     "title": ""
    }
   },
   "source": [
    "\n",
    "For problem 5, all it takes is to use the dict() method. Problem 6 is a bit more tricky:"
   ]
  },
  {
   "cell_type": "code",
   "execution_count": 0,
   "metadata": {
    "application/vnd.databricks.v1+cell": {
     "cellMetadata": {
      "byteLimit": 2048000,
      "rowLimit": 10000
     },
     "inputWidgets": {},
     "nuid": "b158fcfd-4286-47cd-8e37-236d198ac40a",
     "showTitle": false,
     "title": ""
    }
   },
   "outputs": [
    {
     "output_type": "stream",
     "name": "stdout",
     "output_type": "stream",
     "text": [
      "Out[11]: {1: 5, 2: 3, 6: 9}"
     ]
    }
   ],
   "source": [
    "c1 = [(1, 5), (2, 3), (6, 9)]\n",
    "dict(c1)"
   ]
  },
  {
   "cell_type": "markdown",
   "metadata": {
    "application/vnd.databricks.v1+cell": {
     "cellMetadata": {
      "byteLimit": 2048000,
      "rowLimit": 10000
     },
     "inputWidgets": {},
     "nuid": "f8cad2fa-5eff-4a4f-95c2-d97a3c6ce278",
     "showTitle": false,
     "title": ""
    }
   },
   "source": [
    "\n",
    "For problem 6, we can use brute force:"
   ]
  },
  {
   "cell_type": "code",
   "execution_count": 0,
   "metadata": {
    "application/vnd.databricks.v1+cell": {
     "cellMetadata": {
      "byteLimit": 2048000,
      "rowLimit": 10000
     },
     "inputWidgets": {},
     "nuid": "872bf087-5b17-4ee5-8b97-0a05284e4594",
     "showTitle": false,
     "title": ""
    }
   },
   "outputs": [
    {
     "output_type": "stream",
     "name": "stdout",
     "output_type": "stream",
     "text": [
      "{'a': (1, 9), 'b': (4, 7)}\n"
     ]
    }
   ],
   "source": [
    "c2 = [(\"a\", 1, 9), (\"b\", 4, 7)]\n",
    "c3 = {key: (value1, value2) for key, value1, value2 in c2}\n",
    "print(c3)"
   ]
  },
  {
   "cell_type": "markdown",
   "metadata": {
    "application/vnd.databricks.v1+cell": {
     "cellMetadata": {
      "byteLimit": 2048000,
      "rowLimit": 10000
     },
     "inputWidgets": {},
     "nuid": "1bfb34f8-c602-4d42-ab9b-325d68c571ff",
     "showTitle": false,
     "title": ""
    }
   },
   "source": [
    "\n",
    "Problem 7 is similar to problem 6. There are obviously more than one solution. Beside the simple solution using comprehension, we provide two additional alternative solutions:"
   ]
  },
  {
   "cell_type": "code",
   "execution_count": 0,
   "metadata": {
    "application/vnd.databricks.v1+cell": {
     "cellMetadata": {
      "byteLimit": 2048000,
      "rowLimit": 10000
     },
     "inputWidgets": {},
     "nuid": "7b5560f8-a9e4-4459-bf12-69b3448f4d93",
     "showTitle": false,
     "title": ""
    }
   },
   "outputs": [
    {
     "output_type": "stream",
     "name": "stdout",
     "output_type": "stream",
     "text": [
      "{('a', 'b'): (1, 2), ('c', 'd'): (3, 4), ('e', 'f'): (5, 6)}\n"
     ]
    }
   ],
   "source": [
    "c4 = [['a', 'b', 1, 2], ['c', 'd', 3, 4], ['e', 'f', 5, 6]]\n",
    "c5 = {(key1, key2): (value1, value2) for key1, key2, value1, value2 in c4} # solution\n",
    "print(c5)"
   ]
  },
  {
   "cell_type": "code",
   "execution_count": 0,
   "metadata": {
    "application/vnd.databricks.v1+cell": {
     "cellMetadata": {
      "byteLimit": 2048000,
      "rowLimit": 10000
     },
     "inputWidgets": {},
     "nuid": "a0086233-54f9-43dc-aef1-0b6fe5ab5896",
     "showTitle": false,
     "title": ""
    }
   },
   "outputs": [
    {
     "output_type": "stream",
     "name": "stdout",
     "output_type": "stream",
     "text": [
      "{('a', 'b'): [1, 2], ('c', 'd'): [3, 4], ('e', 'f'): [5, 6]}\n"
     ]
    }
   ],
   "source": [
    "u1 = [tuple(sublist[0:2]) for sublist in c4] # or [tuple(sublist[:2]) for sublist in c4]\n",
    "# print(u1)\n",
    "u2 = [sublist[2:4] for sublist in c4] \n",
    "# print(u2)\n",
    "c6 = dict(zip(u1, u2)) # turning zip object into a dictionary\n",
    "print(c6) # alternative solution"
   ]
  },
  {
   "cell_type": "code",
   "execution_count": 0,
   "metadata": {
    "application/vnd.databricks.v1+cell": {
     "cellMetadata": {
      "byteLimit": 2048000,
      "rowLimit": 10000
     },
     "inputWidgets": {},
     "nuid": "fa100812-b8ca-44b5-8985-4f1778bd82bb",
     "showTitle": false,
     "title": ""
    }
   },
   "outputs": [
    {
     "output_type": "stream",
     "name": "stdout",
     "output_type": "stream",
     "text": [
      "{('a', 'b'): (1, 2), ('c', 'd'): (3, 4), ('e', 'f'): (5, 6)}\n"
     ]
    }
   ],
   "source": [
    "c7 = {(v[0], v[1]): tuple(v[2:]) for v in c4}\n",
    "print(c7)"
   ]
  }
 ],
 "metadata": {
  "application/vnd.databricks.v1+notebook": {
   "dashboards": [],
   "language": "python",
   "notebookMetadata": {
    "pythonIndentUnit": 4
   },
   "notebookName": "Problem 002",
   "widgets": {}
  }
 },
 "nbformat": 4,
 "nbformat_minor": 0
}
