{
 "cells": [
  {
   "cell_type": "markdown",
   "metadata": {
    "application/vnd.databricks.v1+cell": {
     "cellMetadata": {
      "byteLimit": 2048000,
      "rowLimit": 10000
     },
     "inputWidgets": {},
     "nuid": "d5501097-6802-4d16-aab4-c9cce35bc52a",
     "showTitle": false,
     "title": ""
    }
   },
   "source": [
    "\n",
    "### Problems\n",
    "\n",
    "In this problem sets, we will focus on problems that can be solved using the `collections` package. Specifically, we will focus on `Counter`, `DefaultDict`, `ChainMap` and `NamedTuple` classes.\n",
    "\n",
    "   1. Given a string, first remove all punctuations. Then count how many times the name \"Julia\" was called, and the frequency of all other actual words (excluding punctuations) using the collections.Counter() function.\n",
    "   2. Create a `DefaultDict` with 3 keys: 1, 2, 3. And if a user calls another non-existent key, default the value to \"blah\".\n",
    "   3. Create a `ChainMap` object that holds some settings for a hypothetical application. Allow the user to input a setting and see the value according to the precedence: local > environment > default.\n",
    "   4. Create a simple employee record system using namedtuple where each employee record has the following fields: name, age, department, and position. The system should:\n",
    "        - allow the creation of new employee records;\n",
    "        - display details of all employees in a nicely formatted way;\n",
    "        - allow searching for employees by name."
   ]
  },
  {
   "cell_type": "code",
   "execution_count": 0,
   "metadata": {
    "application/vnd.databricks.v1+cell": {
     "cellMetadata": {
      "byteLimit": 2048000,
      "rowLimit": 10000
     },
     "inputWidgets": {},
     "nuid": "56649c62-d3e1-414b-a93a-0b3b1fb71adc",
     "showTitle": false,
     "title": ""
    }
   },
   "outputs": [],
   "source": [
    "import collections\n",
    "from collections import Counter, defaultdict, ChainMap, namedtuple"
   ]
  },
  {
   "cell_type": "markdown",
   "metadata": {
    "application/vnd.databricks.v1+cell": {
     "cellMetadata": {
      "byteLimit": 2048000,
      "rowLimit": 10000
     },
     "inputWidgets": {},
     "nuid": "74f6ceba-c1bf-45b6-bd7b-4d175bca690e",
     "showTitle": false,
     "title": ""
    }
   },
   "source": [
    "\n",
    "### Solution 1\n",
    "\n",
    "We first created a processed string that removes all punctuations. And then use collections.counter() to count frequencies of each word:"
   ]
  },
  {
   "cell_type": "code",
   "execution_count": 0,
   "metadata": {
    "application/vnd.databricks.v1+cell": {
     "cellMetadata": {
      "byteLimit": 2048000,
      "rowLimit": 10000
     },
     "inputWidgets": {},
     "nuid": "00d4bc87-2327-4e0e-b161-38575fb287c5",
     "showTitle": false,
     "title": ""
    }
   },
   "outputs": [
    {
     "output_type": "stream",
     "name": "stdout",
     "output_type": "stream",
     "text": [
      "['Julia', 'my', 'love', 'Julia', 'I', 'cannot', 'forget', 'you', 'Julia', 'you', 'are', 'my', 'sun', 'my', 'moon', 'and', 'if', 'you', 'love', 'me', 'I', 'will', 'give', 'you', 'the', 'whole', 'world']\nfreq of Julia:  3\nCounter({'you': 4, 'my': 3, 'love': 2, 'I': 2, 'cannot': 1, 'forget': 1, 'are': 1, 'sun': 1, 'moon': 1, 'and': 1, 'if': 1, 'me': 1, 'will': 1, 'give': 1, 'the': 1, 'whole': 1, 'world': 1})\n"
     ]
    }
   ],
   "source": [
    "s = \"Julia, my love Julia, I cannot forget you. Julia, you are my sun, my moon and if you love me, I will give you the whole world.\"\n",
    "preprocessed1 = s.split() # this is a list\n",
    "def remove_punc(text):\n",
    "    if \",\" in text:\n",
    "        return text.replace(\",\", \"\")\n",
    "    elif \".\" in text:\n",
    "        return text.replace(\".\", \"\")\n",
    "    else:\n",
    "        return text\n",
    "preprocessed2 = list(map(remove_punc, preprocessed1))\n",
    "print(preprocessed2)\n",
    "result1 = preprocessed2.count(\"Julia\")\n",
    "print(\"freq of Julia: \", result1)\n",
    "\n",
    "result2 = [j for j in preprocessed2 if j != 'Julia']\n",
    "print(Counter(result2))"
   ]
  },
  {
   "cell_type": "markdown",
   "metadata": {
    "application/vnd.databricks.v1+cell": {
     "cellMetadata": {
      "byteLimit": 2048000,
      "rowLimit": 10000
     },
     "inputWidgets": {},
     "nuid": "b27cac4e-2fcd-4bbb-a53c-4f86b93b86e4",
     "showTitle": false,
     "title": ""
    }
   },
   "source": [
    "\n",
    "### Solution 2\n",
    "\n",
    "Remember the collections.defaultdict(_func_) must take a function as its argument. So we just need to define a function that returns \"blah\":"
   ]
  },
  {
   "cell_type": "code",
   "execution_count": 0,
   "metadata": {
    "application/vnd.databricks.v1+cell": {
     "cellMetadata": {
      "byteLimit": 2048000,
      "rowLimit": 10000
     },
     "inputWidgets": {},
     "nuid": "231f7e0b-8edb-4ae3-8c9c-2cd61fc9f013",
     "showTitle": false,
     "title": ""
    }
   },
   "outputs": [
    {
     "output_type": "stream",
     "name": "stdout",
     "output_type": "stream",
     "text": [
      "value for 1\nvalue for 2\nvalue for 3\nblah\n"
     ]
    }
   ],
   "source": [
    "def default_value():\n",
    "    return 'blah'\n",
    "\n",
    "d = defaultdict(default_value)\n",
    "\n",
    "# Assign values to the keys 1, 2, and 3\n",
    "d[1] = 'value for 1'\n",
    "d[2] = 'value for 2'\n",
    "d[3] = 'value for 3'\n",
    "\n",
    "print(d[1])  # Outputs 'value for 1'\n",
    "print(d[2])  # Outputs 'value for 2'\n",
    "print(d[3])  # Outputs 'value for 3'\n",
    "print(d[4])  # Outputs 'blah' as this is a non-existent key and triggers the default_value function"
   ]
  },
  {
   "cell_type": "markdown",
   "metadata": {
    "application/vnd.databricks.v1+cell": {
     "cellMetadata": {
      "byteLimit": 2048000,
      "rowLimit": 10000
     },
     "inputWidgets": {},
     "nuid": "4387e52f-ed7e-4361-afc3-b54b912f1eed",
     "showTitle": false,
     "title": ""
    }
   },
   "source": [
    "\n",
    "### Solution 3\n",
    "\n",
    "We create 3 dictionaries: default_settings, env_settings, and local_settings. We then create a `ChainMap` and write a function to fetch and display a setting. Notice that there is a hierarchy in the chain. So whoever goes first, will be the one that takes on the true value. "
   ]
  },
  {
   "cell_type": "code",
   "execution_count": 0,
   "metadata": {
    "application/vnd.databricks.v1+cell": {
     "cellMetadata": {
      "byteLimit": 2048000,
      "rowLimit": 10000
     },
     "inputWidgets": {},
     "nuid": "dde1c6ec-a9e6-4b52-932f-6ee9b44ef72d",
     "showTitle": false,
     "title": ""
    }
   },
   "outputs": [
    {
     "output_type": "stream",
     "name": "stdout",
     "output_type": "stream",
     "text": [
      "The value for 'secret_key' is: local-secret-key\nThe value for 'debug' is: True\nThe value for 'non_existent_setting' is: Setting not found\n"
     ]
    }
   ],
   "source": [
    "default_settings = {\n",
    "    'debug': False,\n",
    "    'verbose': False,\n",
    "    'database_uri': 'postgresql://localhost',\n",
    "    'secret_key': 'default-secret-key',\n",
    "}\n",
    "env_settings = {\n",
    "    'debug': True, \n",
    "    'database_uri': 'postgresql://dev-server',\n",
    "}\n",
    "local_settings = {\n",
    "    'secret_key': 'local-secret-key',  # Override for local testing\n",
    "}\n",
    "\n",
    "config = ChainMap(local_settings, env_settings, default_settings)\n",
    "\n",
    "def get_setting(key):\n",
    "    \"\"\"\n",
    "    This is the function to fetch and display a setting\n",
    "    \"\"\"\n",
    "    return config.get(key, 'Setting not found')\n",
    "\n",
    "user_setting_query = 'secret_key'  # now imagine this is a user input collected at runtime\" user is asking for the 'secret_key' setting\n",
    "print(f\"The value for '{user_setting_query}' is: {get_setting(user_setting_query)}\") # fetching and display the setting value\n",
    "\n",
    "user_setting_query = 'debug' # now imagine the user asks for the 'debug' setting\n",
    "print(f\"The value for '{user_setting_query}' is: {get_setting(user_setting_query)}\")\n",
    "\n",
    "user_setting_query = 'non_existent_setting' # if the user asks for a setting that doesn't exist\n",
    "print(f\"The value for '{user_setting_query}' is: {get_setting(user_setting_query)}\")"
   ]
  },
  {
   "cell_type": "markdown",
   "metadata": {
    "application/vnd.databricks.v1+cell": {
     "cellMetadata": {
      "byteLimit": 2048000,
      "rowLimit": 10000
     },
     "inputWidgets": {},
     "nuid": "8311e55a-0688-438c-b4e1-641653ffbb2e",
     "showTitle": false,
     "title": ""
    }
   },
   "source": [
    "\n",
    "We see from above that both dictionaries default_settings and env_settings has a key called \"debug\". Since the precedence is local > environment > default. We know that env_settings value will override the default_settings value. So we needed to chain the values in the right order."
   ]
  },
  {
   "cell_type": "markdown",
   "metadata": {
    "application/vnd.databricks.v1+cell": {
     "cellMetadata": {
      "byteLimit": 2048000,
      "rowLimit": 10000
     },
     "inputWidgets": {},
     "nuid": "36961337-7417-4219-8e00-930f4499d44b",
     "showTitle": false,
     "title": ""
    }
   },
   "source": [
    "\n",
    "### Solution 4\n",
    "\n",
    "We will need to create 3 methods in the class:"
   ]
  },
  {
   "cell_type": "code",
   "execution_count": 0,
   "metadata": {
    "application/vnd.databricks.v1+cell": {
     "cellMetadata": {
      "byteLimit": 2048000,
      "rowLimit": 10000
     },
     "inputWidgets": {},
     "nuid": "d25e3753-0ee1-4709-a911-f246f8d737f5",
     "showTitle": false,
     "title": ""
    }
   },
   "outputs": [
    {
     "output_type": "stream",
     "name": "stdout",
     "output_type": "stream",
     "text": [
      "Out[5]: __main__.Employee"
     ]
    }
   ],
   "source": [
    "Employee = namedtuple('Employee', 'name age department position')\n",
    "Employee"
   ]
  },
  {
   "cell_type": "code",
   "execution_count": 0,
   "metadata": {
    "application/vnd.databricks.v1+cell": {
     "cellMetadata": {
      "byteLimit": 2048000,
      "rowLimit": 10000
     },
     "inputWidgets": {},
     "nuid": "13191554-c37b-495c-b8fb-d3b3b5e2c788",
     "showTitle": false,
     "title": ""
    }
   },
   "outputs": [],
   "source": [
    "class EmployeeManager:\n",
    "    def __init__(self):\n",
    "        self.employee_records = []\n",
    "\n",
    "    def add_employee(self, name, age, department, position):\n",
    "        emp = Employee(name, age, department, position)\n",
    "        self.employee_records.append(emp)\n",
    "        print(f\"Added new employee: {emp}\")\n",
    "\n",
    "    def display_employees(self):\n",
    "        print(\"\\nEmployee Details:\")\n",
    "        for emp in self.employee_records:\n",
    "            print(f\"Name: {emp.name}, Age: {emp.age}, Department: {emp.department}, Position: {emp.position}\")\n",
    "\n",
    "    def search_employee(self, name):\n",
    "        print(f\"\\nSearching for employee: {name}\")\n",
    "        results = [j for j in self.employee_records if j.name == name]\n",
    "        if results:\n",
    "            for j in results:\n",
    "                print(f\"Found: Name: {j.name}, Age: {j.age}, Department: {j.department}, Position: {j.position}\")\n",
    "        else:\n",
    "            print(\"No employee found with that name.\")\n",
    "\n",
    "manager = EmployeeManager()"
   ]
  },
  {
   "cell_type": "code",
   "execution_count": 0,
   "metadata": {
    "application/vnd.databricks.v1+cell": {
     "cellMetadata": {
      "byteLimit": 2048000,
      "rowLimit": 10000
     },
     "inputWidgets": {},
     "nuid": "debd054a-24e4-4696-be07-0af4ab534800",
     "showTitle": false,
     "title": ""
    }
   },
   "outputs": [
    {
     "output_type": "stream",
     "name": "stdout",
     "output_type": "stream",
     "text": [
      "Added new employee: Employee(name='Alice', age=30, department='IT', position='Developer')\nAdded new employee: Employee(name='Bob', age=35, department='HR', position='Manager')\nAdded new employee: Employee(name='Charlie', age=28, department='IT', position='Support Specialist')\n\nEmployee Details:\nName: Alice, Age: 30, Department: IT, Position: Developer\nName: Bob, Age: 35, Department: HR, Position: Manager\nName: Charlie, Age: 28, Department: IT, Position: Support Specialist\n\nSearching for employee: Alice\nFound: Name: Alice, Age: 30, Department: IT, Position: Developer\n\nSearching for employee: Diana\nNo employee found with that name.\n"
     ]
    }
   ],
   "source": [
    "# Adding employees\n",
    "manager.add_employee('Alice', 30, 'IT', 'Developer')\n",
    "manager.add_employee('Bob', 35, 'HR', 'Manager')\n",
    "manager.add_employee('Charlie', 28, 'IT', 'Support Specialist')\n",
    "\n",
    "# Display all employees\n",
    "manager.display_employees()\n",
    "\n",
    "# Search for an employee\n",
    "manager.search_employee('Alice')\n",
    "manager.search_employee('Diana')  # This should show no results"
   ]
  }
 ],
 "metadata": {
  "application/vnd.databricks.v1+notebook": {
   "dashboards": [],
   "language": "python",
   "notebookMetadata": {
    "pythonIndentUnit": 4
   },
   "notebookName": "Problem 021",
   "widgets": {}
  }
 },
 "nbformat": 4,
 "nbformat_minor": 0
}
