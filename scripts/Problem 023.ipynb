{
 "cells": [
  {
   "cell_type": "markdown",
   "metadata": {
    "application/vnd.databricks.v1+cell": {
     "cellMetadata": {},
     "inputWidgets": {},
     "nuid": "3d696126-95d9-4b34-a854-5e21594133e9",
     "showTitle": false,
     "title": ""
    }
   },
   "source": [
    "\n",
    "### Problems\n",
    "\n",
    "In this module, we focus on issues related to the `functools` module.\n",
    "\n",
    "   1. Recall that functools.reduce() function is used to apply a particular function passed in its argument to all of the list elements mentioned in the sequence passed along. Your task is to write a Python function named accumulate_tuples that takes a list of tuples as an input. Each tuple contains two numeric elements. You are to use functools.reduce() to add up the first elements of each tuple to form the first element of the result tuple, and the second elements to form the second element of the result tuple. For example, given a list of tuples like [(1, 2), (3, 4), (5, 6)], your function should return (9, 12) because \\\\(1+3+5=9, 2+4+6=12\\\\).\n",
    "   2. Write a Python program that uses functools.partial() to create a custom sort function. Your task is to sort a list of strings based on their integer value at a specified index in the string. The strings are structured as follows: \"Name:Age:Height\". You should create a partial function that can be used as the key in sorted() to sort by \"Age\". For example, given a list like [\"Alice:30:165\", \"Bob:25:180\", \"Charlie:35:170\"], your custom sort function should be able to sort the list so that the output is ordered by age. Call this partial sort function \\\\(h(.)\\\\)."
   ]
  },
  {
   "cell_type": "code",
   "execution_count": 0,
   "metadata": {
    "application/vnd.databricks.v1+cell": {
     "cellMetadata": {
      "byteLimit": 2048000,
      "rowLimit": 10000
     },
     "inputWidgets": {},
     "nuid": "8ff16efb-74b9-4c82-b61f-52ec2c595d0f",
     "showTitle": false,
     "title": ""
    }
   },
   "outputs": [],
   "source": [
    "import functools\n",
    "from functools import reduce, partial"
   ]
  },
  {
   "cell_type": "markdown",
   "metadata": {
    "application/vnd.databricks.v1+cell": {
     "cellMetadata": {},
     "inputWidgets": {},
     "nuid": "3a8598bf-1869-4086-b23a-23b34a3b81d4",
     "showTitle": false,
     "title": ""
    }
   },
   "source": [
    "\n",
    "### Solutions \n",
    "\n",
    "For problem 1, we will use functools.reduce(_func_) which will take a function as an argument:"
   ]
  },
  {
   "cell_type": "code",
   "execution_count": 0,
   "metadata": {
    "application/vnd.databricks.v1+cell": {
     "cellMetadata": {
      "byteLimit": 2048000,
      "rowLimit": 10000
     },
     "inputWidgets": {},
     "nuid": "a52de517-5f1a-4716-a260-633ba7387098",
     "showTitle": false,
     "title": ""
    }
   },
   "outputs": [
    {
     "output_type": "execute_result",
     "data": {
      "text/plain": [
       "[9, 12]"
      ]
     },
     "execution_count": 6,
     "metadata": {},
     "output_type": "execute_result"
    }
   ],
   "source": [
    "l = [(1, 2), (3, 4), (5, 6)]\n",
    "\n",
    "def add_tuples(a, b):\n",
    "  return (a[0] + b[0], a[1] + b[1])\n",
    "\n",
    "result = list(reduce(add_tuples, l))\n",
    "result"
   ]
  },
  {
   "cell_type": "markdown",
   "metadata": {
    "application/vnd.databricks.v1+cell": {
     "cellMetadata": {},
     "inputWidgets": {},
     "nuid": "9048699b-fbfe-4d61-9a87-5cfe0cbb8dc5",
     "showTitle": false,
     "title": ""
    }
   },
   "source": [
    "\n",
    "Now let's solve the second problem:"
   ]
  },
  {
   "cell_type": "code",
   "execution_count": 0,
   "metadata": {
    "application/vnd.databricks.v1+cell": {
     "cellMetadata": {
      "byteLimit": 2048000,
      "rowLimit": 10000
     },
     "inputWidgets": {},
     "nuid": "1ab75552-085b-47a0-86ca-9d4fcb2c6260",
     "showTitle": false,
     "title": ""
    }
   },
   "outputs": [
    {
     "output_type": "stream",
     "name": "stdout",
     "output_type": "stream",
     "text": [
      "['Bob:25:180', 'Alice:30:165', 'Charlie:35:170']\n"
     ]
    }
   ],
   "source": [
    "def extract_value_by_index(string, index):\n",
    "    return int(string.split(':')[index])\n",
    "\n",
    "h = partial(extract_value_by_index, index=1) # creating a partial function that always extracts the value at index 1 (Age)\n",
    "\n",
    "def sort_by_age(strings_list):\n",
    "  \"\"\"\n",
    "  input: a list of strings\n",
    "  output: a list\n",
    "  \"\"\"\n",
    "  return sorted(strings_list, key=h)\n",
    "\n",
    "\n",
    "people = [\"Alice:30:165\", \"Bob:25:180\", \"Charlie:35:170\"]\n",
    "sorted_people = sort_by_age(people)\n",
    "print(sorted_people)"
   ]
  }
 ],
 "metadata": {
  "application/vnd.databricks.v1+notebook": {
   "dashboards": [],
   "language": "python",
   "notebookMetadata": {
    "pythonIndentUnit": 4
   },
   "notebookName": "Problem 023",
   "widgets": {}
  }
 },
 "nbformat": 4,
 "nbformat_minor": 0
}
