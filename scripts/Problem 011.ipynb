{
 "cells": [
  {
   "cell_type": "markdown",
   "metadata": {
    "application/vnd.databricks.v1+cell": {
     "cellMetadata": {},
     "inputWidgets": {},
     "nuid": "b293f7bc-e2e6-4bc1-97dd-46431ea4f835",
     "showTitle": false,
     "title": ""
    }
   },
   "source": [
    "\n",
    "### Problem \n",
    "\n",
    "You are given an integer array (vector) indicating height \\\\(h\\\\). The array has a length \\\\(n\\\\). There are \\\\(n\\\\) vertical lines drawn such that the two endpoints of the \\\\(i\\\\)-th line are \\\\((i, 0)\\\\) and \\\\((i, h[i])\\\\). Find two lines that together with the x-axis form a container, such that the container contains the most water. Return the maximum amount of water a container can store."
   ]
  },
  {
   "cell_type": "code",
   "execution_count": 0,
   "metadata": {
    "application/vnd.databricks.v1+cell": {
     "cellMetadata": {
      "byteLimit": 2048000,
      "rowLimit": 10000
     },
     "inputWidgets": {},
     "nuid": "4a058fe7-0bca-48b3-8543-05051f50628f",
     "showTitle": false,
     "title": ""
    }
   },
   "outputs": [],
   "source": [
    "from IPython.display import Image"
   ]
  },
  {
   "cell_type": "markdown",
   "metadata": {
    "application/vnd.databricks.v1+cell": {
     "cellMetadata": {},
     "inputWidgets": {},
     "nuid": "7e68f53f-d281-400b-a3e8-01b95a2974ca",
     "showTitle": false,
     "title": ""
    }
   },
   "source": [
    "\n",
    "As an example, suppose we have an input vector with height [1,8,6,2,5,4,8,3,7]. We expect the final result to be 49. The above vertical lines are represented by array [1,8,6,2,5,4,8,3,7]. In this case, the max area of water (blue section) the container can contain is 49."
   ]
  },
  {
   "cell_type": "code",
   "execution_count": 0,
   "metadata": {
    "application/vnd.databricks.v1+cell": {
     "cellMetadata": {
      "byteLimit": 2048000,
      "rowLimit": 10000
     },
     "inputWidgets": {},
     "nuid": "7c964ba4-f0a1-498a-ba47-25f39456cc57",
     "showTitle": false,
     "title": ""
    }
   },
   "outputs": [
    {
     "output_type": "execute_result",
     "data": {
      "text/html": [
       "<img src=\"https://s3-lc-upload.s3.amazonaws.com/uploads/2018/07/17/question_11.jpg\" width=\"600\" height=\"300\"/>"
      ],
      "text/plain": [
       "<IPython.core.display.Image object>"
      ]
     },
     "execution_count": 4,
     "metadata": {},
     "output_type": "execute_result"
    }
   ],
   "source": [
    "url=\"https://s3-lc-upload.s3.amazonaws.com/uploads/2018/07/17/question_11.jpg\"\n",
    "Image(url=url, width=600, height=300)"
   ]
  },
  {
   "cell_type": "markdown",
   "metadata": {
    "application/vnd.databricks.v1+cell": {
     "cellMetadata": {},
     "inputWidgets": {},
     "nuid": "f73a8b66-9e0c-4253-be65-73318fff1444",
     "showTitle": false,
     "title": ""
    }
   },
   "source": [
    "\n",
    "### Solution\n",
    "\n",
    "The problem is essentially an optimization problem: maximize the objective function \\\\(Q\\\\): \\\\(Q=|i-j|min(h_{i}, h_{j})\\\\) where \\\\(i, j = 0,1,2,...n, i \\in \\mathbb{Z}\\\\)."
   ]
  },
  {
   "cell_type": "code",
   "execution_count": 0,
   "metadata": {
    "application/vnd.databricks.v1+cell": {
     "cellMetadata": {
      "byteLimit": 2048000,
      "rowLimit": 10000
     },
     "inputWidgets": {},
     "nuid": "eebc4edc-8ebf-4a48-a5eb-a3deefdebd4a",
     "showTitle": false,
     "title": ""
    }
   },
   "outputs": [
    {
     "output_type": "execute_result",
     "data": {
      "text/plain": [
       "49"
      ]
     },
     "execution_count": 10,
     "metadata": {},
     "output_type": "execute_result"
    }
   ],
   "source": [
    "h = [1,8,6,2,5,4,8,3,7] \n",
    "\n",
    "n = len(h)\n",
    "area = []\n",
    "for i in range(n):\n",
    "    for j in range(n):\n",
    "        area.append(abs(i-j)*min(h[i], h[j]))\n",
    "\n",
    "print(\"result: \", max(area)) # 49"
   ]
  }
 ],
 "metadata": {
  "application/vnd.databricks.v1+notebook": {
   "dashboards": [],
   "language": "python",
   "notebookMetadata": {
    "pythonIndentUnit": 4
   },
   "notebookName": "Problem 011",
   "widgets": {}
  }
 },
 "nbformat": 4,
 "nbformat_minor": 0
}
