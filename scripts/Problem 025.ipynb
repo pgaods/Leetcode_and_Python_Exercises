{
 "cells": [
  {
   "cell_type": "markdown",
   "metadata": {
    "application/vnd.databricks.v1+cell": {
     "cellMetadata": {
      "byteLimit": 2048000,
      "rowLimit": 10000
     },
     "inputWidgets": {},
     "nuid": "ce25f517-fc62-409d-9d71-97e804219fcc",
     "showTitle": false,
     "title": ""
    }
   },
   "source": [
    "\n",
    "### Problems\n",
    "\n",
    "In this problem sets, we focus on writing Python functions. \n",
    "\n",
    "   1. Given a generic Python function, find out the arguments of this function.\n",
    "   2. Given a generic function, assign a function to a variable in Python.\n",
    "   3. How to check if a Python variable exists? List a few ways.\n",
    "   4. How to return a function from a function? Give examples. \n",
    "\n",
    "A good set of documents related to this topic can be found at:\n",
    "\n",
    "   - https://www.geeksforgeeks.org/how-to-get-list-of-parameters-name-from-a-function-in-python/?ref=lbp\n",
    "   - https://www.geeksforgeeks.org/assign-function-to-a-variable-in-python/?ref=lbp\n",
    "   - https://www.geeksforgeeks.org/how-to-check-if-a-python-variable-exists/?ref=lbp\n",
    "   - https://www.geeksforgeeks.org/returning-a-function-from-a-function-python/?ref=lbp"
   ]
  },
  {
   "cell_type": "code",
   "execution_count": 0,
   "metadata": {
    "application/vnd.databricks.v1+cell": {
     "cellMetadata": {
      "byteLimit": 2048000,
      "rowLimit": 10000
     },
     "inputWidgets": {},
     "nuid": "4d7cc503-11a9-4fff-8d54-e44e3e47a380",
     "showTitle": false,
     "title": ""
    }
   },
   "outputs": [],
   "source": [
    "import inspect\n",
    "import collections"
   ]
  },
  {
   "cell_type": "markdown",
   "metadata": {
    "application/vnd.databricks.v1+cell": {
     "cellMetadata": {
      "byteLimit": 2048000,
      "rowLimit": 10000
     },
     "inputWidgets": {},
     "nuid": "fc793a22-be03-48b7-b545-48b514fcb019",
     "showTitle": false,
     "title": ""
    }
   },
   "source": [
    "\n",
    "### Solution 1\n",
    "\n",
    "The key for the 1st problem is to use the `inspect` module and there is a signature() function to achieve this:"
   ]
  },
  {
   "cell_type": "code",
   "execution_count": 0,
   "metadata": {
    "application/vnd.databricks.v1+cell": {
     "cellMetadata": {
      "byteLimit": 2048000,
      "rowLimit": 10000
     },
     "inputWidgets": {},
     "nuid": "577dd80a-3389-4f26-9237-9f5571bfa016",
     "showTitle": false,
     "title": ""
    }
   },
   "outputs": [
    {
     "output_type": "stream",
     "name": "stdout",
     "output_type": "stream",
     "text": [
      "(a, b)\n"
     ]
    }
   ],
   "source": [
    "def fun(a, b): \n",
    "    return a**b \n",
    "\n",
    "print(inspect.signature(fun))  "
   ]
  },
  {
   "cell_type": "markdown",
   "metadata": {
    "application/vnd.databricks.v1+cell": {
     "cellMetadata": {
      "byteLimit": 2048000,
      "rowLimit": 10000
     },
     "inputWidgets": {},
     "nuid": "bf9b837e-7e83-4596-86e2-f3a0de37ccc4",
     "showTitle": false,
     "title": ""
    }
   },
   "source": [
    "\n",
    "There are other ways (such as using the getargspec() method) to do this:"
   ]
  },
  {
   "cell_type": "code",
   "execution_count": 0,
   "metadata": {
    "application/vnd.databricks.v1+cell": {
     "cellMetadata": {
      "byteLimit": 2048000,
      "rowLimit": 10000
     },
     "inputWidgets": {},
     "nuid": "34177d8e-fe31-482a-b389-61cd20d218a9",
     "showTitle": false,
     "title": ""
    }
   },
   "outputs": [
    {
     "output_type": "stream",
     "name": "stdout",
     "output_type": "stream",
     "text": [
      "(obj, /)\nArgSpec(args=['self', 'iterable'], varargs=None, keywords='kwds', defaults=(None,))\n<command-184244964915568>:2: DeprecationWarning: inspect.getargspec() is deprecated since Python 3.0, use inspect.signature() or inspect.getfullargspec()\n  print(inspect.getargspec(collections.Counter))\n"
     ]
    }
   ],
   "source": [
    "print(inspect.signature(len))\n",
    "print(inspect.getargspec(collections.Counter))"
   ]
  },
  {
   "cell_type": "markdown",
   "metadata": {
    "application/vnd.databricks.v1+cell": {
     "cellMetadata": {
      "byteLimit": 2048000,
      "rowLimit": 10000
     },
     "inputWidgets": {},
     "nuid": "9706dac3-041a-49b2-9ce8-bcf55b8c2185",
     "showTitle": false,
     "title": ""
    }
   },
   "source": [
    "\n",
    "### Solution 2\n",
    "\n",
    "This is the easiest problem:"
   ]
  },
  {
   "cell_type": "code",
   "execution_count": 0,
   "metadata": {
    "application/vnd.databricks.v1+cell": {
     "cellMetadata": {
      "byteLimit": 2048000,
      "rowLimit": 10000
     },
     "inputWidgets": {},
     "nuid": "64a81e3b-8958-46ae-991f-b710091e6891",
     "showTitle": false,
     "title": ""
    }
   },
   "outputs": [
    {
     "output_type": "stream",
     "name": "stdout",
     "output_type": "stream",
     "text": [
      "GFG\n"
     ]
    }
   ],
   "source": [
    "def a():\n",
    "    print(\"GFG\")\n",
    "var = a # assining function to a variable\n",
    "\n",
    "var() # calling the variable"
   ]
  },
  {
   "cell_type": "markdown",
   "metadata": {
    "application/vnd.databricks.v1+cell": {
     "cellMetadata": {
      "byteLimit": 2048000,
      "rowLimit": 10000
     },
     "inputWidgets": {},
     "nuid": "85260a98-0a05-41f1-8bf2-e394a9ca1a05",
     "showTitle": false,
     "title": ""
    }
   },
   "source": [
    "\n",
    "Here is another example:"
   ]
  },
  {
   "cell_type": "code",
   "execution_count": 0,
   "metadata": {
    "application/vnd.databricks.v1+cell": {
     "cellMetadata": {
      "byteLimit": 2048000,
      "rowLimit": 10000
     },
     "inputWidgets": {},
     "nuid": "10b3f5e7-af2c-405e-b3c3-65543d8fb882",
     "showTitle": false,
     "title": ""
    }
   },
   "outputs": [
    {
     "output_type": "stream",
     "name": "stdout",
     "output_type": "stream",
     "text": [
      "odd number\neven number\n"
     ]
    }
   ],
   "source": [
    "# function defined\n",
    "def even_num(a):\n",
    "\tif a % 2 == 0:\n",
    "\t\tprint(\"even number\")\n",
    "\telse:\n",
    "\t\tprint(\"odd number\")\n",
    "z = even_num\n",
    "\n",
    "z(67)\n",
    "z(10)"
   ]
  },
  {
   "cell_type": "markdown",
   "metadata": {
    "application/vnd.databricks.v1+cell": {
     "cellMetadata": {
      "byteLimit": 2048000,
      "rowLimit": 10000
     },
     "inputWidgets": {},
     "nuid": "5df2e677-f9a5-4ece-b4b3-36fde3957070",
     "showTitle": false,
     "title": ""
    }
   },
   "source": [
    "\n",
    "### Solution 3\n",
    "\n",
    "This problem really depends on whether the variable is a local or global variable. "
   ]
  },
  {
   "cell_type": "code",
   "execution_count": 0,
   "metadata": {
    "application/vnd.databricks.v1+cell": {
     "cellMetadata": {
      "byteLimit": 2048000,
      "rowLimit": 10000
     },
     "inputWidgets": {},
     "nuid": "ebde0825-fbd0-41a0-8487-8e98acf22841",
     "showTitle": false,
     "title": ""
    }
   },
   "outputs": [
    {
     "output_type": "stream",
     "name": "stdout",
     "output_type": "stream",
     "text": [
      "Out[6]: True"
     ]
    }
   ],
   "source": [
    "a_variable = 0 # global variable\n",
    "\n",
    "def func(): \n",
    "\tif 'a_variable' in globals():\n",
    "\t\treturn True\n",
    "\n",
    "func()"
   ]
  },
  {
   "cell_type": "code",
   "execution_count": 0,
   "metadata": {
    "application/vnd.databricks.v1+cell": {
     "cellMetadata": {
      "byteLimit": 2048000,
      "rowLimit": 10000
     },
     "inputWidgets": {},
     "nuid": "b4a8cdab-88f8-479e-85af-d159545ee193",
     "showTitle": false,
     "title": ""
    }
   },
   "outputs": [
    {
     "output_type": "stream",
     "name": "stdout",
     "output_type": "stream",
     "text": [
      "True\nFalse\n"
     ]
    }
   ],
   "source": [
    "def myfunc1():\n",
    "    local_var = 0\n",
    "    if 'local_var' in locals(): # local variable\n",
    "        return True\n",
    "def myfunc2():\n",
    "    blah = 0\n",
    "    if 'local_var' in locals(): \n",
    "        return True\n",
    "    else:\n",
    "        return False\n",
    "print(myfunc1())\n",
    "print(myfunc2())"
   ]
  },
  {
   "cell_type": "markdown",
   "metadata": {
    "application/vnd.databricks.v1+cell": {
     "cellMetadata": {},
     "inputWidgets": {},
     "nuid": "11765a85-a1fb-4938-986d-06f144161f19",
     "showTitle": false,
     "title": ""
    }
   },
   "source": [
    "\n",
    "### Solution 4\n",
    "\n",
    "In this example, the first method is A() and the second method is B(). A() method returns the B() method that is kept as an object with name returned_function and will be used for calling the second method."
   ]
  },
  {
   "cell_type": "code",
   "execution_count": 0,
   "metadata": {
    "application/vnd.databricks.v1+cell": {
     "cellMetadata": {
      "byteLimit": 2048000,
      "rowLimit": 10000
     },
     "inputWidgets": {},
     "nuid": "3c3d4f50-f3c3-4a9f-b1ac-9d5bdd32c444",
     "showTitle": false,
     "title": ""
    }
   },
   "outputs": [
    {
     "output_type": "stream",
     "name": "stdout",
     "output_type": "stream",
     "text": [
      "Inside the method A().\nInside the method B().\n"
     ]
    }
   ],
   "source": [
    "# defining 2 methods: second method that will be returned by first method\n",
    "def B():\n",
    "\tprint(\"Inside the method B().\")\n",
    "\t\n",
    "def A(): # first method that return second method\n",
    "\tprint(\"Inside the method A().\")\n",
    "\treturn B # returning the second method\n",
    "\n",
    "returned_function = A()\n",
    "returned_function()"
   ]
  },
  {
   "cell_type": "markdown",
   "metadata": {
    "application/vnd.databricks.v1+cell": {
     "cellMetadata": {},
     "inputWidgets": {},
     "nuid": "3ebe1b21-f64a-49c2-a7e1-43b03d981358",
     "showTitle": false,
     "title": ""
    }
   },
   "source": [
    "\n",
    "In the next example, the first method is A() and the second method is B(). Here A() method is called which returns the B() method. The difference is that the functions have arguments now:"
   ]
  },
  {
   "cell_type": "code",
   "execution_count": 0,
   "metadata": {
    "application/vnd.databricks.v1+cell": {
     "cellMetadata": {
      "byteLimit": 2048000,
      "rowLimit": 10000
     },
     "inputWidgets": {},
     "nuid": "dcc14248-9915-4e17-add3-dfee46d2d81f",
     "showTitle": false,
     "title": ""
    }
   },
   "outputs": [
    {
     "output_type": "stream",
     "name": "stdout",
     "output_type": "stream",
     "text": [
      "Hello and Good Morning.\n"
     ]
    }
   ],
   "source": [
    "def B(st2):\n",
    "\tprint(\"Good \" + st2 + \".\")\n",
    "\t\n",
    "# first method that return second method\n",
    "def A(st1, st2):\n",
    "\tprint(st1 + \" and \", end = \"\")\n",
    "\treturn B(st2) # returning the second method\n",
    "\n",
    "\n",
    "# 1. execute the body of first method\n",
    "# 2. execute the body of second method as first method return the second method\n",
    "A(\"Hello\", \"Morning\")"
   ]
  },
  {
   "cell_type": "markdown",
   "metadata": {
    "application/vnd.databricks.v1+cell": {
     "cellMetadata": {},
     "inputWidgets": {},
     "nuid": "42d5c14c-a33a-4083-80c7-f612439684cd",
     "showTitle": false,
     "title": ""
    }
   },
   "source": [
    "\n",
    "Here is an example of using lambda function:"
   ]
  },
  {
   "cell_type": "code",
   "execution_count": 0,
   "metadata": {
    "application/vnd.databricks.v1+cell": {
     "cellMetadata": {
      "byteLimit": 2048000,
      "rowLimit": 10000
     },
     "inputWidgets": {},
     "nuid": "618ad9af-4a4f-42d2-9e28-ba486b58a5e4",
     "showTitle": false,
     "title": ""
    }
   },
   "outputs": [
    {
     "output_type": "stream",
     "name": "stdout",
     "output_type": "stream",
     "text": [
      "<function A.<locals>.<lambda> at 0x7fe44c73baf0>\n21\n"
     ]
    }
   ],
   "source": [
    "def A(u, v):\n",
    "    w = u + v\n",
    "    z = u - v\n",
    "    return lambda: print(w * z) # returning secon method without name\n",
    " \n",
    "returned_function = A(5, 2)\n",
    "print(returned_function)\n",
    "\n",
    "returned_function() # calling the second method by first method"
   ]
  }
 ],
 "metadata": {
  "application/vnd.databricks.v1+notebook": {
   "dashboards": [],
   "language": "python",
   "notebookMetadata": {
    "pythonIndentUnit": 4
   },
   "notebookName": "Problem 025",
   "widgets": {}
  }
 },
 "nbformat": 4,
 "nbformat_minor": 0
}
