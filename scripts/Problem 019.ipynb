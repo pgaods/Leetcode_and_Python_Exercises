{
 "cells": [
  {
   "cell_type": "markdown",
   "metadata": {
    "application/vnd.databricks.v1+cell": {
     "cellMetadata": {},
     "inputWidgets": {},
     "nuid": "bde08eb3-e597-4114-a7b7-574ce1fa6b48",
     "showTitle": false,
     "title": ""
    }
   },
   "source": [
    "\n",
    "### Problem\n",
    "\n",
    "In this problem set, we focus on issues related to writing loops (for, while statements).\n",
    "\n",
    "   1. Use the while loop to print numbers from 1 to 5. Stop after 5.\n",
    "   2. Iterate from \\\\(i=1\\\\) to \\\\(i=8\\\\) by printing, but if \\\\(i = 4, 7\\\\), skip the printing statements in the loop and continue with the next iteration.\n",
    "   3. Write a while loop to display each character from a string and if a character is number then stop the loop (use the \"break\" statement).\n",
    "   4. Write a while loop to display only alphabets from a string using the \"continue\" statement.\n",
    "   5. Given two lists of equal length, write a function that returns a new list that contains the sum of elements from the given lists at their corresponding indices. You must use the zip() function and a for loop to achieve this."
   ]
  },
  {
   "cell_type": "markdown",
   "metadata": {
    "application/vnd.databricks.v1+cell": {
     "cellMetadata": {},
     "inputWidgets": {},
     "nuid": "280005bd-ad8c-4cc2-870d-4765768500d6",
     "showTitle": false,
     "title": ""
    }
   },
   "source": [
    "\n",
    "### Solutions\n",
    "\n",
    "For problem 1, we can use a while...else statement:"
   ]
  },
  {
   "cell_type": "code",
   "execution_count": 0,
   "metadata": {
    "application/vnd.databricks.v1+cell": {
     "cellMetadata": {
      "byteLimit": 2048000,
      "rowLimit": 10000
     },
     "inputWidgets": {},
     "nuid": "49c870c5-5e9d-4e9e-b869-44a66cf5d4d9",
     "showTitle": false,
     "title": ""
    }
   },
   "outputs": [
    {
     "output_type": "stream",
     "name": "stdout",
     "output_type": "stream",
     "text": [
      "1\n2\n3\n4\n5\nstop!\n"
     ]
    }
   ],
   "source": [
    "i = 1\n",
    "while i <= 5:\n",
    "    print(i)\n",
    "    i = i +1\n",
    "else:\n",
    "    print(\"stop!\")"
   ]
  },
  {
   "cell_type": "markdown",
   "metadata": {
    "application/vnd.databricks.v1+cell": {
     "cellMetadata": {},
     "inputWidgets": {},
     "nuid": "68f71339-8b54-4a0c-83fc-4bb79b584aca",
     "showTitle": false,
     "title": ""
    }
   },
   "source": [
    "\n",
    "For the second problem, we will need to use the \"continue\" statement to skip some elements in the loop:"
   ]
  },
  {
   "cell_type": "code",
   "execution_count": 0,
   "metadata": {
    "application/vnd.databricks.v1+cell": {
     "cellMetadata": {
      "byteLimit": 2048000,
      "rowLimit": 10000
     },
     "inputWidgets": {},
     "nuid": "feed35b9-c977-4917-b6a4-7033814c0c13",
     "showTitle": false,
     "title": ""
    }
   },
   "outputs": [
    {
     "output_type": "stream",
     "name": "stdout",
     "output_type": "stream",
     "text": [
      "1\n2\n3\n5\n6\n8\n"
     ]
    }
   ],
   "source": [
    "i = 1\n",
    "while i <= 8:\n",
    "    if i == 4 or i == 7:\n",
    "        i += 1 # i = i + 1\n",
    "        continue\n",
    "    print(i)\n",
    "    i += 1"
   ]
  },
  {
   "cell_type": "markdown",
   "metadata": {
    "application/vnd.databricks.v1+cell": {
     "cellMetadata": {},
     "inputWidgets": {},
     "nuid": "e35a7e0c-ffe8-4d6e-a116-82cfc2938d1b",
     "showTitle": false,
     "title": ""
    }
   },
   "source": [
    "\n",
    "For the third problem, we need to use the \"break\" statement:"
   ]
  },
  {
   "cell_type": "code",
   "execution_count": 0,
   "metadata": {
    "application/vnd.databricks.v1+cell": {
     "cellMetadata": {
      "byteLimit": 2048000,
      "rowLimit": 10000
     },
     "inputWidgets": {},
     "nuid": "8361e1e1-0346-403a-86a5-cd43df013aa2",
     "showTitle": false,
     "title": ""
    }
   },
   "outputs": [
    {
     "output_type": "stream",
     "name": "stdout",
     "output_type": "stream",
     "text": [
      "I\n \nh\na\nv\ne\n"
     ]
    }
   ],
   "source": [
    "s= \"I have30 dollars in my pocket now.\"\n",
    "i = 0\n",
    "while i < len(s):\n",
    "    if s[i].isnumeric():\n",
    "        break\n",
    "    print(s[i])\n",
    "    i = i + 1"
   ]
  },
  {
   "cell_type": "markdown",
   "metadata": {
    "application/vnd.databricks.v1+cell": {
     "cellMetadata": {},
     "inputWidgets": {},
     "nuid": "14f97df9-c28c-4d45-862f-2b9daabdd04f",
     "showTitle": false,
     "title": ""
    }
   },
   "source": [
    "\n",
    "For the next problem, we need a loop to display only alphabets from a string using the \"continue\" statement:"
   ]
  },
  {
   "cell_type": "code",
   "execution_count": 0,
   "metadata": {
    "application/vnd.databricks.v1+cell": {
     "cellMetadata": {
      "byteLimit": 2048000,
      "rowLimit": 10000
     },
     "inputWidgets": {},
     "nuid": "96f1fc4d-e218-4c7b-8197-e5d5e294d6a2",
     "showTitle": false,
     "title": ""
    }
   },
   "outputs": [
    {
     "output_type": "stream",
     "name": "stdout",
     "output_type": "stream",
     "text": [
      "J e s a a R o y "
     ]
    }
   ],
   "source": [
    "name = 'Jesaa29Roy'\n",
    "\n",
    "i = -1\n",
    "while i < len(name) - 1:\n",
    "    i = i + 1\n",
    "    \n",
    "    if not name[i].isalpha(): # skipping while loop body if current character is not alphabet\n",
    "        continue\n",
    "    print(name[i], end=' ')"
   ]
  },
  {
   "cell_type": "markdown",
   "metadata": {
    "application/vnd.databricks.v1+cell": {
     "cellMetadata": {},
     "inputWidgets": {},
     "nuid": "a33f04b2-e4cc-4976-9d41-9ad67dda827b",
     "showTitle": false,
     "title": ""
    }
   },
   "source": [
    "\n",
    "Obviously the last question is easy, if there is no constraint. But here we must use the zip() function and a for loop to achieve this."
   ]
  },
  {
   "cell_type": "code",
   "execution_count": 0,
   "metadata": {
    "application/vnd.databricks.v1+cell": {
     "cellMetadata": {
      "byteLimit": 2048000,
      "rowLimit": 10000
     },
     "inputWidgets": {},
     "nuid": "bb62503b-51c4-45a7-a73a-b43214953f02",
     "showTitle": false,
     "title": ""
    }
   },
   "outputs": [
    {
     "output_type": "stream",
     "name": "stdout",
     "output_type": "stream",
     "text": [
      "Out[6]: [5, 17, 15]"
     ]
    }
   ],
   "source": [
    "list1 = [1, 2, 3]\n",
    "list2 = [4, 15, 12]\n",
    "\n",
    "def sum_lists(list1, list2):\n",
    "    result = []\n",
    "    for a, b in zip(list1, list2):\n",
    "        result.append(a + b)\n",
    "    return result\n",
    "\n",
    "sum_lists(list1, list2)"
   ]
  }
 ],
 "metadata": {
  "application/vnd.databricks.v1+notebook": {
   "dashboards": [],
   "language": "python",
   "notebookMetadata": {
    "pythonIndentUnit": 4
   },
   "notebookName": "Problem 019",
   "widgets": {}
  }
 },
 "nbformat": 4,
 "nbformat_minor": 0
}
