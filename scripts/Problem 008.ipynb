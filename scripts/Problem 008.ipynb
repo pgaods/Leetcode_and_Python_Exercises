{
 "cells": [
  {
   "cell_type": "markdown",
   "metadata": {
    "application/vnd.databricks.v1+cell": {
     "cellMetadata": {
      "byteLimit": 2048000,
      "rowLimit": 10000
     },
     "inputWidgets": {},
     "nuid": "1c0ed0fe-30dc-4337-9c9a-4072a2df1beb",
     "showTitle": false,
     "title": ""
    }
   },
   "source": [
    "\n",
    "### Problems\n",
    "\n",
    "We focus on complex structure of lists and dictionaries.\n",
    "\n",
    "1. Given a list [2, '4', 9, 23, 1, \"Chandler\", 32], and a number \\\\(t=4\\\\) which is less than the length of the list, create a dictionary whose key is the value of the t-th element of the list, and the value to be a list of the rest of the original list (so the expected answer is {1: [2, '4', 9, 23, \"Chandler\", 32]}).\n",
    "2. Flatten the following dictionary: if we have a dictionary d = {'month' : [1, 2, 3], 'name' : ['Jan', 'Feb', 'March']}, create a new dictionary that looks like this: {1: 'Jan', 2: 'Feb', 3: 'March'}."
   ]
  },
  {
   "cell_type": "markdown",
   "metadata": {
    "application/vnd.databricks.v1+cell": {
     "cellMetadata": {
      "byteLimit": 2048000,
      "rowLimit": 10000
     },
     "inputWidgets": {},
     "nuid": "185c9601-072b-45ec-a21c-7d4f1ba9f149",
     "showTitle": false,
     "title": ""
    }
   },
   "source": [
    "\n",
    "### Solutions \n",
    "\n",
    "Let's solve the 1st problem:"
   ]
  },
  {
   "cell_type": "code",
   "execution_count": 0,
   "metadata": {
    "application/vnd.databricks.v1+cell": {
     "cellMetadata": {
      "byteLimit": 2048000,
      "rowLimit": 10000
     },
     "inputWidgets": {},
     "nuid": "b7bb95f9-dc2d-4bad-b270-e2c1cf59e825",
     "showTitle": false,
     "title": ""
    }
   },
   "outputs": [
    {
     "output_type": "stream",
     "name": "stdout",
     "output_type": "stream",
     "text": [
      "{1: [2, '4', 9, 23, 'Chandler', 32]}\n"
     ]
    }
   ],
   "source": [
    "v = [2, '4', 9, 23, 1, \"Chandler\", 32]\n",
    "t = 4\n",
    "result = {v[t]: [v[i] for i in range(len(v)) if i != t]}\n",
    "print(result)"
   ]
  },
  {
   "cell_type": "markdown",
   "metadata": {
    "application/vnd.databricks.v1+cell": {
     "cellMetadata": {
      "byteLimit": 2048000,
      "rowLimit": 10000
     },
     "inputWidgets": {},
     "nuid": "047e5be1-56a5-47af-af08-2e177472024e",
     "showTitle": false,
     "title": ""
    }
   },
   "source": [
    "\n",
    "For problem 2, we can simply use zip():"
   ]
  },
  {
   "cell_type": "code",
   "execution_count": 0,
   "metadata": {
    "application/vnd.databricks.v1+cell": {
     "cellMetadata": {
      "byteLimit": 2048000,
      "rowLimit": 10000
     },
     "inputWidgets": {},
     "nuid": "34c0998a-a159-4c2b-8e81-add5d9e7f767",
     "showTitle": false,
     "title": ""
    }
   },
   "outputs": [
    {
     "output_type": "stream",
     "name": "stdout",
     "output_type": "stream",
     "text": [
      "Out[2]: {1: 'Jan', 2: 'Feb', 3: 'March'}"
     ]
    }
   ],
   "source": [
    "d = {'month' : [1, 2, 3], 'name' : ['Jan', 'Feb', 'March']} # desired output: {1: 'Jan', 2: 'Feb', 3: 'March'}.\n",
    "\n",
    "l1 = list(d.values())[0]\n",
    "l2 = list(d.values())[1]\n",
    "print(l1)\n",
    "print(l2)\n",
    "result = dict(zip(l1, l2))\n",
    "result"
   ]
  }
 ],
 "metadata": {
  "application/vnd.databricks.v1+notebook": {
   "dashboards": [],
   "language": "python",
   "notebookMetadata": {
    "pythonIndentUnit": 4
   },
   "notebookName": "Problem 008",
   "widgets": {}
  }
 },
 "nbformat": 4,
 "nbformat_minor": 0
}
