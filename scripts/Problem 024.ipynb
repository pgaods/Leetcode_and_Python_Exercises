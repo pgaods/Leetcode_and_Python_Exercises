{
 "cells": [
  {
   "cell_type": "markdown",
   "metadata": {
    "application/vnd.databricks.v1+cell": {
     "cellMetadata": {
      "byteLimit": 2048000,
      "rowLimit": 10000
     },
     "inputWidgets": {},
     "nuid": "11f3887a-6260-4dff-b115-92bcccae0cb9",
     "showTitle": false,
     "title": ""
    }
   },
   "source": [
    "\n",
    "### Problem\n",
    "\n",
    "Given a linked list, swap every two adjacent nodes and return its head. You must solve the problem without modifying the values in the list's nodes (i.e., only nodes themselves may be changed)."
   ]
  },
  {
   "cell_type": "code",
   "execution_count": 0,
   "metadata": {
    "application/vnd.databricks.v1+cell": {
     "cellMetadata": {
      "byteLimit": 2048000,
      "rowLimit": 10000
     },
     "inputWidgets": {},
     "nuid": "07bb8dbb-b4b3-4466-a28b-816895160491",
     "showTitle": false,
     "title": ""
    }
   },
   "outputs": [],
   "source": [
    "from collections import deque"
   ]
  },
  {
   "cell_type": "markdown",
   "metadata": {
    "application/vnd.databricks.v1+cell": {
     "cellMetadata": {
      "byteLimit": 2048000,
      "rowLimit": 10000
     },
     "inputWidgets": {},
     "nuid": "b49b78da-6909-40be-b5a1-84443a6b39ce",
     "showTitle": false,
     "title": ""
    }
   },
   "source": [
    "\n",
    "### Solution\n",
    "\n",
    "We can approach this by popping two elements at a time from the left of the deque, and then appending them in reverse order. We continue this process until we've gone through the entire deque. Since deque in Python doesn't have node-based structure like a traditional linked list, we are effectively swapping elements, but not modifying their values, which aligns with the constraint of our problem."
   ]
  },
  {
   "cell_type": "code",
   "execution_count": 0,
   "metadata": {
    "application/vnd.databricks.v1+cell": {
     "cellMetadata": {
      "byteLimit": 2048000,
      "rowLimit": 10000
     },
     "inputWidgets": {},
     "nuid": "19c8f421-375d-467f-bc3f-e72cecc51094",
     "showTitle": false,
     "title": ""
    }
   },
   "outputs": [
    {
     "output_type": "stream",
     "name": "stdout",
     "output_type": "stream",
     "text": [
      "deque(['b', 'a', 4, 3, 6, 5, 8, 7])\n"
     ]
    }
   ],
   "source": [
    "ll = deque([\"a\", \"b\", 3, 4, 5, 6, 7, 8])\n",
    "\n",
    "def swap_adjacent_nodes(ll):\n",
    "    \n",
    "    temp_deque = deque()\n",
    "\n",
    "    while len(ll) >= 2:\n",
    "        first = ll.popleft() # popping two elements from the left\n",
    "        second = ll.popleft()\n",
    "\n",
    "        temp_deque.append(second) # appending them in reverse order to the temporary deque\n",
    "        temp_deque.append(first)\n",
    "    \n",
    "    if ll: # if there's an odd element left, just append it to the end\n",
    "        temp_deque.append(ll.pop())\n",
    "\n",
    "    return temp_deque\n",
    "\n",
    "swapped_ll = swap_adjacent_nodes(ll)\n",
    "print(swapped_ll) "
   ]
  }
 ],
 "metadata": {
  "application/vnd.databricks.v1+notebook": {
   "dashboards": [],
   "language": "python",
   "notebookMetadata": {
    "pythonIndentUnit": 4
   },
   "notebookName": "Problem 024",
   "widgets": {}
  }
 },
 "nbformat": 4,
 "nbformat_minor": 0
}
