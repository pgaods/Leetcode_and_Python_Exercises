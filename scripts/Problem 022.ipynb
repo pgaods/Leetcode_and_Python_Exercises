{
 "cells": [
  {
   "cell_type": "markdown",
   "metadata": {
    "application/vnd.databricks.v1+cell": {
     "cellMetadata": {
      "byteLimit": 2048000,
      "rowLimit": 10000
     },
     "inputWidgets": {},
     "nuid": "ef362603-7e85-4638-8588-f23ca1964ccc",
     "showTitle": false,
     "title": ""
    }
   },
   "source": [
    "\n",
    "### Problems\n",
    "\n",
    "In this problem set, we focus on issues related to the `itertools` module.\n",
    "\n",
    "   1. Create a string that says \"I love Schopenhauer\" that cycles itself for 3 times using the itertools.cycle() function.\n",
    "   2. Repeat the same execise as before, but this time using itertools.repeat().\n",
    "   3. Write a function that compute \\\\( \\sum_{k=1}^{n} \\binom{n}{k} \\\\).\n",
    "   4. Given a list [1, 2, 3, 4, 5], use the itertools.accumulate() function to compute a list with cumulative sums and the result should be computed as [1, 1+2, 1+2+3, 1+2+3+4, 1+2+3+4+5].\n",
    "   5. Given two tuples (1, 2 ,3), (\"A\", \"B\"), create a new tuple using itertools.chain() s.t. the new tuple is (1, 2, 3, \"A\", \"B\").\n",
    "   6. Given a list of names, only start to print the rest of the names once the list hits the string \"Emily\".\n",
    "   7. Given a list of names, start printing the names as soon as possible but stop once it hits the string \"Emily\".\n",
    "   8. Given a [1, 2, 3, 4, 5, 6, 7, 8, 9, 10, 11, 12, 13, 14], extract a new list from the current by starting from the 2nd element (index=1) and pick every 3 elements, and stop after the number 10 shows up. Use the itertools.islice() function. "
   ]
  },
  {
   "cell_type": "code",
   "execution_count": 0,
   "metadata": {
    "application/vnd.databricks.v1+cell": {
     "cellMetadata": {
      "byteLimit": 2048000,
      "rowLimit": 10000
     },
     "inputWidgets": {},
     "nuid": "60d1861b-f71a-4c82-b740-51cc4a4da7d5",
     "showTitle": false,
     "title": ""
    }
   },
   "outputs": [],
   "source": [
    "import itertools\n",
    "\n",
    "from itertools import cycle, repeat, accumulate, chain, dropwhile, takewhile, islice"
   ]
  },
  {
   "cell_type": "markdown",
   "metadata": {
    "application/vnd.databricks.v1+cell": {
     "cellMetadata": {
      "byteLimit": 2048000,
      "rowLimit": 10000
     },
     "inputWidgets": {},
     "nuid": "fb6c03c5-2d08-41ca-98ed-29bdf26f4709",
     "showTitle": false,
     "title": ""
    }
   },
   "source": [
    "\n",
    "### Solution 1 - 2\n",
    "\n",
    "The itertools.cycle(_iterable_) takes an iterable as an argument so we need to stop it:"
   ]
  },
  {
   "cell_type": "code",
   "execution_count": 0,
   "metadata": {
    "application/vnd.databricks.v1+cell": {
     "cellMetadata": {
      "byteLimit": 2048000,
      "rowLimit": 10000
     },
     "inputWidgets": {},
     "nuid": "d51a66f1-40ec-4197-b156-0046f71afba7",
     "showTitle": false,
     "title": ""
    }
   },
   "outputs": [
    {
     "output_type": "stream",
     "name": "stdout",
     "output_type": "stream",
     "text": [
      "I love Schopenhauer I love Schopenhauer I love Schopenhauer "
     ]
    }
   ],
   "source": [
    "cnt = 0\n",
    "for i in cycle(['I love Schopenhauer']):\n",
    "    if cnt > 2:\n",
    "        break\n",
    "    else:\n",
    "        print(i, end=\" \")\n",
    "        cnt = cnt + 1"
   ]
  },
  {
   "cell_type": "markdown",
   "metadata": {
    "application/vnd.databricks.v1+cell": {
     "cellMetadata": {},
     "inputWidgets": {},
     "nuid": "d96826d9-1d6a-4f57-a859-c21781751e3c",
     "showTitle": false,
     "title": ""
    }
   },
   "source": [
    "\n",
    "Using itertools.repeat(_val_, _num_) is even easier:"
   ]
  },
  {
   "cell_type": "code",
   "execution_count": 0,
   "metadata": {
    "application/vnd.databricks.v1+cell": {
     "cellMetadata": {
      "byteLimit": 2048000,
      "rowLimit": 10000
     },
     "inputWidgets": {},
     "nuid": "17a26557-85d5-47f0-8996-be7874fdf519",
     "showTitle": false,
     "title": ""
    }
   },
   "outputs": [
    {
     "output_type": "stream",
     "name": "stdout",
     "output_type": "stream",
     "text": [
      "'I love Schopenhauer', 'I love Schopenhauer', 'I love Schopenhauer'\n"
     ]
    }
   ],
   "source": [
    "mylist=list(repeat('I love Schopenhauer', 3))\n",
    "\n",
    "formatted_string = \"', '\".join(mylist)\n",
    "print(f\"'{formatted_string}'\")"
   ]
  },
  {
   "cell_type": "markdown",
   "metadata": {
    "application/vnd.databricks.v1+cell": {
     "cellMetadata": {},
     "inputWidgets": {},
     "nuid": "603882e4-d73d-4601-b772-ebdd38d04092",
     "showTitle": false,
     "title": ""
    }
   },
   "source": [
    "\n",
    "### Solution for 3\n",
    "\n",
    "We first define the functional factorial recursively, and then write a new function that wraps this current function. Let's write a class:"
   ]
  },
  {
   "cell_type": "code",
   "execution_count": 0,
   "metadata": {
    "application/vnd.databricks.v1+cell": {
     "cellMetadata": {
      "byteLimit": 2048000,
      "rowLimit": 10000
     },
     "inputWidgets": {},
     "nuid": "7ee1c468-bcd6-4caa-bf89-6d921048195c",
     "showTitle": false,
     "title": ""
    }
   },
   "outputs": [],
   "source": [
    "class add_combinatorics:\n",
    "    def __init__(self, n):\n",
    "        self.n = n\n",
    "    \n",
    "    def factorial(x):\n",
    "        if (x==0) | (x==1):\n",
    "            return 1\n",
    "        else:\n",
    "            return x*factorial(x-1)\n",
    "    \n",
    "    def combo(n, k):\n",
    "        return factorial(n)/(factorial(k)*factorial(n-k))\n",
    "    \n",
    "    def _sumcombos(n):\n",
    "        total = 0\n",
    "        for k in range(1, n + 1):\n",
    "            total += combo(n, k) # or total = total + combo(n, k)\n",
    "        return total"
   ]
  },
  {
   "cell_type": "code",
   "execution_count": 0,
   "metadata": {
    "application/vnd.databricks.v1+cell": {
     "cellMetadata": {
      "byteLimit": 2048000,
      "rowLimit": 10000
     },
     "inputWidgets": {},
     "nuid": "1aa15217-8350-4b8f-a845-ff6c47e54b9a",
     "showTitle": false,
     "title": ""
    }
   },
   "outputs": [
    {
     "output_type": "stream",
     "name": "stdout",
     "output_type": "stream",
     "text": [
      "7.0\n15.0\n31.0\n\n\n10.0\n5.0\n"
     ]
    }
   ],
   "source": [
    "print(add_combinatorics._sumcombos(3))\n",
    "print(add_combinatorics._sumcombos(4))\n",
    "print(add_combinatorics._sumcombos(5))\n",
    "print(\"\\n\")\n",
    "print(add_combinatorics.combo(5,2))\n",
    "print(add_combinatorics.combo(5,1))"
   ]
  },
  {
   "cell_type": "markdown",
   "metadata": {
    "application/vnd.databricks.v1+cell": {
     "cellMetadata": {},
     "inputWidgets": {},
     "nuid": "40475199-c05f-41ab-8df0-510df7b7c7de",
     "showTitle": false,
     "title": ""
    }
   },
   "source": [
    "\n",
    "### Solution for 4 - 5\n",
    "\n",
    "These are fairly simple questions:"
   ]
  },
  {
   "cell_type": "code",
   "execution_count": 0,
   "metadata": {
    "application/vnd.databricks.v1+cell": {
     "cellMetadata": {
      "byteLimit": 2048000,
      "rowLimit": 10000
     },
     "inputWidgets": {},
     "nuid": "f658de3b-1385-47f8-a0d3-80c103cdabb8",
     "showTitle": false,
     "title": ""
    }
   },
   "outputs": [
    {
     "output_type": "stream",
     "name": "stdout",
     "output_type": "stream",
     "text": [
      "Out[37]: [1, 3, 6, 10, 15]"
     ]
    }
   ],
   "source": [
    "list(accumulate([1,2,3,4,5]))"
   ]
  },
  {
   "cell_type": "code",
   "execution_count": 0,
   "metadata": {
    "application/vnd.databricks.v1+cell": {
     "cellMetadata": {
      "byteLimit": 2048000,
      "rowLimit": 10000
     },
     "inputWidgets": {},
     "nuid": "2f8637a5-3d2e-48a8-accb-8db54daaa5da",
     "showTitle": false,
     "title": ""
    }
   },
   "outputs": [
    {
     "output_type": "stream",
     "name": "stdout",
     "output_type": "stream",
     "text": [
      "(1, 2, 3, 'A', 'B')\n"
     ]
    }
   ],
   "source": [
    "tup1=(1,2,3)\n",
    "tup2=(\"A\", \"B\")\n",
    "result = chain(tup1, tup2)\n",
    "print(tuple(result))"
   ]
  },
  {
   "cell_type": "markdown",
   "metadata": {
    "application/vnd.databricks.v1+cell": {
     "cellMetadata": {},
     "inputWidgets": {},
     "nuid": "57bdfba1-ed8b-40c8-a5b0-e84fe852e8ee",
     "showTitle": false,
     "title": ""
    }
   },
   "source": [
    "\n",
    "### Solution for 6 - 7\n",
    "\n",
    "These will require itertools.dropwhile()and itertools.takewhile(). Recall that they need a function as their syntax is dropwhile(_func_, _iterable_) and takewhile(_func_, _iterable_) "
   ]
  },
  {
   "cell_type": "code",
   "execution_count": 0,
   "metadata": {
    "application/vnd.databricks.v1+cell": {
     "cellMetadata": {
      "byteLimit": 2048000,
      "rowLimit": 10000
     },
     "inputWidgets": {},
     "nuid": "47445141-674c-468a-a1a1-a13ef87d4980",
     "showTitle": false,
     "title": ""
    }
   },
   "outputs": [
    {
     "output_type": "stream",
     "name": "stdout",
     "output_type": "stream",
     "text": [
      "Out[54]: ['Emily', 'Hirut']"
     ]
    }
   ],
   "source": [
    "names = [\"Jake\", \"Zak\", \"Erin\", \"Emily\", \"Hirut\"]\n",
    "def printnames(s):\n",
    "    if s != \"Emily\":\n",
    "        return True\n",
    "\n",
    "list(dropwhile(printnames, names))"
   ]
  },
  {
   "cell_type": "code",
   "execution_count": 0,
   "metadata": {
    "application/vnd.databricks.v1+cell": {
     "cellMetadata": {
      "byteLimit": 2048000,
      "rowLimit": 10000
     },
     "inputWidgets": {},
     "nuid": "1e9153ac-f472-4a78-a685-c4bc37d3bf39",
     "showTitle": false,
     "title": ""
    }
   },
   "outputs": [
    {
     "output_type": "stream",
     "name": "stdout",
     "output_type": "stream",
     "text": [
      "Out[55]: ['Jake', 'Zak', 'Erin']"
     ]
    }
   ],
   "source": [
    "names = [\"Jake\", \"Zak\", \"Erin\", \"Emily\", \"Hirut\"]\n",
    "def printnames(s):\n",
    "    if s != \"Emily\":\n",
    "        return True\n",
    "\n",
    "list(takewhile(printnames, names))"
   ]
  },
  {
   "cell_type": "markdown",
   "metadata": {
    "application/vnd.databricks.v1+cell": {
     "cellMetadata": {},
     "inputWidgets": {},
     "nuid": "2075d088-a282-4604-b80b-9356b2fcdfcd",
     "showTitle": false,
     "title": ""
    }
   },
   "source": [
    "\n",
    "### Solution for 8\n",
    "\n",
    "We will need to use the itertools.islice() function. "
   ]
  },
  {
   "cell_type": "code",
   "execution_count": 0,
   "metadata": {
    "application/vnd.databricks.v1+cell": {
     "cellMetadata": {
      "byteLimit": 2048000,
      "rowLimit": 10000
     },
     "inputWidgets": {},
     "nuid": "87fa0e76-c2ce-449f-82d9-e3ee42449de6",
     "showTitle": false,
     "title": ""
    }
   },
   "outputs": [
    {
     "output_type": "stream",
     "name": "stdout",
     "output_type": "stream",
     "text": [
      "Out[60]: [2, 5, 8]"
     ]
    }
   ],
   "source": [
    "mylist = [1, 2, 3, 4, 5, 6, 7, 8, 9, 10, 11, 12, 13, 14]\n",
    "result = list(islice(mylist, 1, 10, 3))\n",
    "result"
   ]
  }
 ],
 "metadata": {
  "application/vnd.databricks.v1+notebook": {
   "dashboards": [],
   "language": "python",
   "notebookMetadata": {
    "pythonIndentUnit": 4
   },
   "notebookName": "Problem 022",
   "widgets": {}
  }
 },
 "nbformat": 4,
 "nbformat_minor": 0
}
