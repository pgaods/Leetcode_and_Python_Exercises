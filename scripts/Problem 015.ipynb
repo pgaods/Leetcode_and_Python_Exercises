{
 "cells": [
  {
   "cell_type": "markdown",
   "metadata": {
    "application/vnd.databricks.v1+cell": {
     "cellMetadata": {
      "byteLimit": 2048000,
      "rowLimit": 10000
     },
     "inputWidgets": {},
     "nuid": "90a267f3-2590-41f0-a0d8-5377494b94b7",
     "showTitle": false,
     "title": ""
    }
   },
   "source": [
    "\n",
    "### Problems \n",
    "\n",
    "In this problem set, we focus on generating sequences. Problem 1-3 are standard sequences with explicit solutions. Problem 4-5 are problems that describe a sequence without an explicity formula, so they must be defined in terms of recursions. \n",
    "\n",
    "   1. Generate an arimetic sequence such that \\\\(a_{1}=-2\\\\), \\\\(q=-3\\\\), and \\\\(a_{n}=a_{1}+(n-1)q\\\\) where \\\\(n=10\\\\).\n",
    "   2. Generate a geometric sequence such that \\\\(a_{1}=4\\\\), \\\\(r=3\\\\), and \\\\(a_{n}=a_{1}r^{n-1}\\\\) where  \\\\(n=5\\\\).\n",
    "   3. Generate an alternating sequence such that \\\\(s = [1, -2, 3, -4...9, -10]\\\\).\n",
    "   4. Generate a sequence such that \\\\(x_{n}=3x_{n-1}^{2}+2\\\\), where \\\\(a_{1}=1, n \\ge 1\\\\).\n",
    "   5. Generate a sequence such that \\\\(a_{n} = 2a_{n-1}+4a_{n-2}-n, a_{1}=1, a_{2}=1\\\\)."
   ]
  },
  {
   "cell_type": "markdown",
   "metadata": {
    "application/vnd.databricks.v1+cell": {
     "cellMetadata": {
      "byteLimit": 2048000,
      "rowLimit": 10000
     },
     "inputWidgets": {},
     "nuid": "055d8678-3b6d-492c-b843-f83e63be282a",
     "showTitle": false,
     "title": ""
    }
   },
   "source": [
    "\n",
    "### Solutions for 1 - 3\n",
    "\n",
    "The idea for all these problems is that we need to know how to write the sequence formula in Python:"
   ]
  },
  {
   "cell_type": "code",
   "execution_count": 0,
   "metadata": {
    "application/vnd.databricks.v1+cell": {
     "cellMetadata": {
      "byteLimit": 2048000,
      "rowLimit": 10000
     },
     "inputWidgets": {},
     "nuid": "fd47c786-2204-4b5d-8cca-857e9da08933",
     "showTitle": false,
     "title": ""
    }
   },
   "outputs": [
    {
     "output_type": "stream",
     "name": "stdout",
     "output_type": "stream",
     "text": [
      "Out[6]: [-2, -5, -8, -11, -14, -17, -20, -23, -26, -29]"
     ]
    }
   ],
   "source": [
    "def arithmetic_sequence(a1, n, q):\n",
    "    \"\"\"\n",
    "    Given the initial value, the difference term q, and number of terms n, the function generates an arimetic sequence and returns a sequence represented by a list.\n",
    "    \"\"\"\n",
    "    seq = []\n",
    "    for i in range(1, n+1):\n",
    "        a_n = a1 + (i-1)*q\n",
    "        seq.append(a_n)\n",
    "    return seq\n",
    "\n",
    "sequence1 = arithmetic_sequence(a1=-2, n=10, q=-3)\n",
    "sequence1"
   ]
  },
  {
   "cell_type": "code",
   "execution_count": 0,
   "metadata": {
    "application/vnd.databricks.v1+cell": {
     "cellMetadata": {
      "byteLimit": 2048000,
      "rowLimit": 10000
     },
     "inputWidgets": {},
     "nuid": "e507d7e5-2696-4abb-a89d-126c3ae121b2",
     "showTitle": false,
     "title": ""
    }
   },
   "outputs": [
    {
     "output_type": "stream",
     "name": "stdout",
     "output_type": "stream",
     "text": [
      "Out[8]: [4, 12, 36, 108, 324]"
     ]
    }
   ],
   "source": [
    "def geometric_sequence(a1, n, r):\n",
    "    \"\"\"\n",
    "    Given the initial value, the ratio r, and number of terms n, the function generates an a geometric sequence and returns a sequence represented by a list.\n",
    "    \"\"\"\n",
    "    seq = []\n",
    "    for i in range(1, n+1):\n",
    "        a_n = a1*(r**((i-1)))\n",
    "        seq.append(a_n)\n",
    "    return seq\n",
    "\n",
    "sequence2 = geometric_sequence(a1=4, n = 5, r = 3)\n",
    "sequence2"
   ]
  },
  {
   "cell_type": "code",
   "execution_count": 0,
   "metadata": {
    "application/vnd.databricks.v1+cell": {
     "cellMetadata": {
      "byteLimit": 2048000,
      "rowLimit": 10000
     },
     "inputWidgets": {},
     "nuid": "e82606c6-54ab-41dd-97ab-a624dbe7e1aa",
     "showTitle": false,
     "title": ""
    }
   },
   "outputs": [
    {
     "output_type": "stream",
     "name": "stdout",
     "output_type": "stream",
     "text": [
      "Out[9]: [1, -2, 3, -4, 5, -6, 7, -8, 9, -10]"
     ]
    }
   ],
   "source": [
    "def alternating_sequence(a1, n, d):\n",
    "    seq =[]\n",
    "    for i in range(1, n+1):\n",
    "        a_n=(a1+(i-1)*d)*((-1)**(i+1))\n",
    "        seq.append(a_n)\n",
    "    return seq\n",
    "\n",
    "sequence3 = alternating_sequence(a1=1, n=10, d=1)\n",
    "sequence3"
   ]
  },
  {
   "cell_type": "markdown",
   "metadata": {
    "application/vnd.databricks.v1+cell": {
     "cellMetadata": {},
     "inputWidgets": {},
     "nuid": "b82cd9e1-1935-451e-b173-0a584ae2a205",
     "showTitle": false,
     "title": ""
    }
   },
   "source": [
    "\n",
    "### Solutions for 4\n",
    "\n",
    "This is a problem for recursion. For example, a factorial is defined in terms of recursion. If we define \\\\(f(x)=x!\\\\), then we can write \\\\(f(x)=x!=xf(x-1)\\\\). Python is able to implement this type of functions in a recursive way."
   ]
  },
  {
   "cell_type": "code",
   "execution_count": 0,
   "metadata": {
    "application/vnd.databricks.v1+cell": {
     "cellMetadata": {
      "byteLimit": 2048000,
      "rowLimit": 10000
     },
     "inputWidgets": {},
     "nuid": "951ace75-a9dd-4619-a4cc-d264b64bf853",
     "showTitle": false,
     "title": ""
    }
   },
   "outputs": [
    {
     "output_type": "stream",
     "name": "stdout",
     "output_type": "stream",
     "text": [
      "77\nNone\n"
     ]
    }
   ],
   "source": [
    "def seq_gen(n):\n",
    "    if n == 1:\n",
    "        return 1\n",
    "    elif (n >= 2) & isinstance(n, int) is True:\n",
    "        return 3*((seq_gen(n-1))**2)+2\n",
    "    \n",
    "print(seq_gen(3)) # 77\n",
    "print(seq_gen(2.5))"
   ]
  },
  {
   "cell_type": "markdown",
   "metadata": {
    "application/vnd.databricks.v1+cell": {
     "cellMetadata": {},
     "inputWidgets": {},
     "nuid": "2f77191f-914f-4b41-aef0-3ea193092adf",
     "showTitle": false,
     "title": ""
    }
   },
   "source": [
    "\n",
    "### Solution for 5\n",
    "\n",
    "The last problem needs to be written in a recursive way too, except that the recursion involves two more terms:"
   ]
  },
  {
   "cell_type": "code",
   "execution_count": 0,
   "metadata": {
    "application/vnd.databricks.v1+cell": {
     "cellMetadata": {
      "byteLimit": 2048000,
      "rowLimit": 10000
     },
     "inputWidgets": {},
     "nuid": "5d46d0b9-d7f6-4c24-8ca2-79edd7246ad4",
     "showTitle": false,
     "title": ""
    }
   },
   "outputs": [
    {
     "output_type": "stream",
     "name": "stdout",
     "output_type": "stream",
     "text": [
      "1\n1\n6\nNone\n"
     ]
    }
   ],
   "source": [
    "def seqs(n):\n",
    "    if (n == 1) | (n == 2):\n",
    "        return 1\n",
    "    elif (n >= 2) & isinstance(n, int):\n",
    "        return 2*seqs(n-1) + 4*seqs(n-2)-n\n",
    "    \n",
    "print(seqs(1))\n",
    "print(seqs(2))\n",
    "print(seqs(4))\n",
    "print(seqs(-1))"
   ]
  }
 ],
 "metadata": {
  "application/vnd.databricks.v1+notebook": {
   "dashboards": [],
   "language": "python",
   "notebookMetadata": {
    "pythonIndentUnit": 4
   },
   "notebookName": "Problem 015",
   "widgets": {}
  }
 },
 "nbformat": 4,
 "nbformat_minor": 0
}
