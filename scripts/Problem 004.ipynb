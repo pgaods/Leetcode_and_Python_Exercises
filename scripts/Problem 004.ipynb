{
 "cells": [
  {
   "cell_type": "markdown",
   "metadata": {
    "application/vnd.databricks.v1+cell": {
     "cellMetadata": {
      "byteLimit": 2048000,
      "rowLimit": 10000
     },
     "inputWidgets": {},
     "nuid": "fae5d834-c9a9-4117-838c-8d356d635bc0",
     "showTitle": false,
     "title": ""
    }
   },
   "source": [
    "\n",
    "### Problems \n",
    "\n",
    "We have a set of questions to on lists:\n",
    "\n",
    "   1. Given a list, create a new list by extracting all elements whose frequency is greater than a number (say \\\\(t\\\\)). The list should not have duplicates. \n",
    "   2. Given a list, [[4, 1, 6], [7, 8], [4, 10, 8, 43]], sort within each sublist so that the result becomes [[6, 4, 1], [8, 7], [43, 10, 8, 4]]"
   ]
  },
  {
   "cell_type": "code",
   "execution_count": 0,
   "metadata": {
    "application/vnd.databricks.v1+cell": {
     "cellMetadata": {
      "byteLimit": 2048000,
      "rowLimit": 10000
     },
     "inputWidgets": {},
     "nuid": "1fbc2843-fcc6-4f70-b58c-fb06ca01752c",
     "showTitle": false,
     "title": ""
    }
   },
   "outputs": [],
   "source": [
    "from collections import OrderedDict"
   ]
  },
  {
   "cell_type": "markdown",
   "metadata": {
    "application/vnd.databricks.v1+cell": {
     "cellMetadata": {
      "byteLimit": 2048000,
      "rowLimit": 10000
     },
     "inputWidgets": {},
     "nuid": "82477e74-3e43-4cff-b1b5-7c9153a6a87b",
     "showTitle": false,
     "title": ""
    }
   },
   "source": [
    "\n",
    "### Solution 1\n",
    "\n",
    "For the first question, say we have a list l = [3, 8, 9, 9, 9, 2, 1, 3, 0, 0, 0, 0]. Set \\\\(t=3\\\\). We will provide 3 solutions:"
   ]
  },
  {
   "cell_type": "code",
   "execution_count": 0,
   "metadata": {
    "application/vnd.databricks.v1+cell": {
     "cellMetadata": {
      "byteLimit": 2048000,
      "rowLimit": 10000
     },
     "inputWidgets": {},
     "nuid": "5595ef51-d353-425a-8613-931eba37ab44",
     "showTitle": false,
     "title": ""
    }
   },
   "outputs": [
    {
     "output_type": "stream",
     "name": "stdout",
     "output_type": "stream",
     "text": [
      "[9, 0]\n"
     ]
    }
   ],
   "source": [
    "l = [3, 8, 9, 9, 9, 2, 1, 3, 0, 0, 0, 0]\n",
    "t = 3\n",
    "\n",
    "newlist = [j for j in l if l.count(j)>=3]\n",
    "result = list(OrderedDict.fromkeys(newlist)) # using OrderedDict.fromkeys() to dedup the data\n",
    "print(result) # expected result: [9, 0] as 9 showed up 3 times and 0 showed up 4 times, both greater than 3 times (t=3)"
   ]
  },
  {
   "cell_type": "markdown",
   "metadata": {
    "application/vnd.databricks.v1+cell": {
     "cellMetadata": {
      "byteLimit": 2048000,
      "rowLimit": 10000
     },
     "inputWidgets": {},
     "nuid": "8fdef8e4-2164-4e52-97d5-eabda714fe0d",
     "showTitle": false,
     "title": ""
    }
   },
   "source": [
    "\n",
    "Here is an alternative solution (not the most efficient one):"
   ]
  },
  {
   "cell_type": "code",
   "execution_count": 0,
   "metadata": {
    "application/vnd.databricks.v1+cell": {
     "cellMetadata": {
      "byteLimit": 2048000,
      "rowLimit": 10000
     },
     "inputWidgets": {},
     "nuid": "4fb9dd38-517c-4740-a7b4-35fbc6cd84cb",
     "showTitle": false,
     "title": ""
    }
   },
   "outputs": [
    {
     "output_type": "stream",
     "name": "stdout",
     "output_type": "stream",
     "text": [
      "[9, 0]\n"
     ]
    }
   ],
   "source": [
    "l = [3, 8, 9, 9, 9, 2, 1, 3, 0, 0, 0, 0]\n",
    "t = 3\n",
    "\n",
    "res = [] \n",
    "for i in l: \n",
    "    freq = l.count(i) \n",
    "    if freq >= t and i not in res: \n",
    "        res.append(i)\n",
    "\n",
    "print(res)"
   ]
  },
  {
   "cell_type": "markdown",
   "metadata": {
    "application/vnd.databricks.v1+cell": {
     "cellMetadata": {
      "byteLimit": 2048000,
      "rowLimit": 10000
     },
     "inputWidgets": {},
     "nuid": "b9afa3de-2cff-4a49-98c4-daab6ecee959",
     "showTitle": false,
     "title": ""
    }
   },
   "source": [
    "\n",
    "Another solution is to create a dictionary with each key to be the element in the list and the value to be its frequency. And then we subset on this dictionary to make sure the values are greater than certain numbers:"
   ]
  },
  {
   "cell_type": "code",
   "execution_count": 0,
   "metadata": {
    "application/vnd.databricks.v1+cell": {
     "cellMetadata": {
      "byteLimit": 2048000,
      "rowLimit": 10000
     },
     "inputWidgets": {},
     "nuid": "88c36e73-d720-41f9-994d-b996c71617a8",
     "showTitle": false,
     "title": ""
    }
   },
   "outputs": [
    {
     "output_type": "stream",
     "name": "stdout",
     "output_type": "stream",
     "text": [
      "{3: 2, 8: 1, 9: 3, 2: 1, 1: 1, 0: 4}\n[9, 0]\n"
     ]
    }
   ],
   "source": [
    "l = [3, 8, 9, 9, 9, 2, 1, 3, 0, 0, 0, 0]\n",
    "t = 3\n",
    "\n",
    "freq = [l.count(i) for i in l]\n",
    "newd=dict(zip(l, freq))\n",
    "print(newd)\n",
    "\n",
    "result = [] # now finding the values that exceeds or equal t=3\n",
    "for key, value in newd.items():\n",
    "     if value >= t:\n",
    "         result.append(key)\n",
    "print(result)"
   ]
  },
  {
   "cell_type": "markdown",
   "metadata": {
    "application/vnd.databricks.v1+cell": {
     "cellMetadata": {
      "byteLimit": 2048000,
      "rowLimit": 10000
     },
     "inputWidgets": {},
     "nuid": "259a8826-e033-4751-aba0-f9cfef4de962",
     "showTitle": false,
     "title": ""
    }
   },
   "source": [
    "\n",
    "One additional note worth mentioning is that in the first version of the solution, we used the concept of `OrderedDict`. An `OrderedDict` is a dictionary subclass that remembers the order that keys were first inserted. The only difference between dict() and OrderedDict() is that OrderedDict() preserves the order in which the keys are inserted. A regular dictionary doesn’t track the insertion order and iterating it gives the values in an arbitrary order. By contrast, the order the items are inserted is remembered by OrderedDict(). \n",
    "\n",
    "Below is an example. We first create an ordered dictionary with 3 keys, and then we add a fourth key. And then we update it with two additional keys (\"e\" and \"f\"). Now we move the key with \"e\" to the last in the dictionary. Because we have an `OrderedDict`, the order of the keys will be remembered:"
   ]
  },
  {
   "cell_type": "code",
   "execution_count": 0,
   "metadata": {
    "application/vnd.databricks.v1+cell": {
     "cellMetadata": {
      "byteLimit": 2048000,
      "rowLimit": 10000
     },
     "inputWidgets": {},
     "nuid": "6642d12b-1677-4b7f-aef5-053b4298611d",
     "showTitle": false,
     "title": ""
    }
   },
   "outputs": [
    {
     "output_type": "stream",
     "name": "stdout",
     "output_type": "stream",
     "text": [
      "<class 'collections.OrderedDict'>\na 1\nb 2\nc 3\nd 4\nf 6\ne 5\n"
     ]
    }
   ],
   "source": [
    "od = OrderedDict([('a', 1), ('b', 2), ('c', 3)]) # creating an ordered dictionary of key-value pairs\n",
    "od['d'] = 4 # addding a new item to the end of the dictionary\n",
    "print(type(od))\n",
    "od.update([('e', 5), ('f', 6)]) # adding a new item at a specific position in the dictionary\n",
    "od.move_to_end('e', last=True) # this method only pertains to `OrderedDict`, rather than `dict`\n",
    "\n",
    "for key, value in od.items():\n",
    "\tprint(key, value)"
   ]
  },
  {
   "cell_type": "markdown",
   "metadata": {
    "application/vnd.databricks.v1+cell": {
     "cellMetadata": {
      "byteLimit": 2048000,
      "rowLimit": 10000
     },
     "inputWidgets": {},
     "nuid": "32a7deb6-b85c-4822-8352-1cd999286234",
     "showTitle": false,
     "title": ""
    }
   },
   "source": [
    "\n",
    "### Solution 2\n",
    "\n",
    "For the second question [[4, 1, 6], [7, 8], [4, 10, 8, 43]], to sort within each sublist so that the result becomes [[6, 4, 1], [8, 7], [43, 10, 8, 4]], we can do it step by step. Recall that we can use the sorted() method with _reverse_=True argument to indicate descending sort (below is an example):"
   ]
  },
  {
   "cell_type": "code",
   "execution_count": 0,
   "metadata": {
    "application/vnd.databricks.v1+cell": {
     "cellMetadata": {
      "byteLimit": 2048000,
      "rowLimit": 10000
     },
     "inputWidgets": {},
     "nuid": "926045ce-e0c3-41d3-8126-941ca43ae33d",
     "showTitle": false,
     "title": ""
    }
   },
   "outputs": [
    {
     "output_type": "stream",
     "name": "stdout",
     "output_type": "stream",
     "text": [
      "Out[10]: [6, 4, 1]"
     ]
    }
   ],
   "source": [
    "blah=[4, 1, 6]\n",
    "blah2=sorted(blah, reverse=True)\n",
    "blah2"
   ]
  },
  {
   "cell_type": "markdown",
   "metadata": {
    "application/vnd.databricks.v1+cell": {
     "cellMetadata": {
      "byteLimit": 2048000,
      "rowLimit": 10000
     },
     "inputWidgets": {},
     "nuid": "cb1bfee6-0a00-4592-8ac5-7d2bc42b2e02",
     "showTitle": false,
     "title": ""
    }
   },
   "source": [
    "\n",
    "We now solve the problem by using a list comprehension to do so:"
   ]
  },
  {
   "cell_type": "code",
   "execution_count": 0,
   "metadata": {
    "application/vnd.databricks.v1+cell": {
     "cellMetadata": {
      "byteLimit": 2048000,
      "rowLimit": 10000
     },
     "inputWidgets": {},
     "nuid": "03b522e4-b6b9-4e0a-a615-54726ac1b379",
     "showTitle": false,
     "title": ""
    }
   },
   "outputs": [
    {
     "output_type": "stream",
     "name": "stdout",
     "output_type": "stream",
     "text": [
      "[[6, 4, 1], [8, 7], [43, 10, 8, 4]]\n"
     ]
    }
   ],
   "source": [
    "mylist =  [[4, 1, 6], [7, 8], [4, 10, 8, 43]]\n",
    "\n",
    "result = [sorted(j, reverse=True) for j in mylist]\n",
    "print(result)"
   ]
  }
 ],
 "metadata": {
  "application/vnd.databricks.v1+notebook": {
   "dashboards": [],
   "language": "python",
   "notebookMetadata": {
    "pythonIndentUnit": 4
   },
   "notebookName": "Problem 004",
   "widgets": {}
  }
 },
 "nbformat": 4,
 "nbformat_minor": 0
}
